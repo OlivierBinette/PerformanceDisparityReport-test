{
 "cells": [
  {
   "cell_type": "code",
   "execution_count": 1,
   "metadata": {},
   "outputs": [],
   "source": [
    "from deepchecks.tabular.checks.model_evaluation import PerformanceDisparityReport\n",
    "from deepchecks.tabular.datasets.classification import adult\n",
    "\n",
    "dataset = adult.load_data()[0]\n",
    "model = adult.load_fitted_model()"
   ]
  },
  {
   "attachments": {},
   "cell_type": "markdown",
   "metadata": {},
   "source": [
    "## Combinations of control_feature and model_classes"
   ]
  },
  {
   "attachments": {},
   "cell_type": "markdown",
   "metadata": {},
   "source": [
    "### Both control_feature and model_classes"
   ]
  },
  {
   "cell_type": "code",
   "execution_count": 2,
   "metadata": {},
   "outputs": [
    {
     "data": {
      "application/vnd.plotly.v1+json": {
       "config": {
        "plotlyServerURL": "https://plot.ly"
       },
       "data": [
        {
         "cliponaxis": false,
         "hovertemplate": [
          "%{y}: %{x} (group size: 264)<extra></extra>",
          "baseline: %{x} (group size: 3130)<extra></extra>"
         ],
         "line": {
          "color": "limegreen",
          "width": 8
         },
         "marker": {
          "color": [
           "white",
           "#222222"
          ],
          "line": {
           "color": [
            "limegreen",
            "limegreen"
           ],
           "width": [
            2,
            2
           ]
          },
          "size": 6,
          "symbol": 0
         },
         "mode": "lines+text+markers",
         "opacity": 1,
         "showlegend": false,
         "type": "scatter",
         "x": [
          1,
          0.5714285714285715
         ],
         "xaxis": "x",
         "y": [
          " Black",
          " Black"
         ],
         "yaxis": "y"
        },
        {
         "cliponaxis": false,
         "hovertemplate": [
          "%{y}: %{x} (group size: 2742)<extra></extra>",
          "baseline: %{x} (group size: 3130)<extra></extra>"
         ],
         "line": {
          "color": "orangered",
          "width": 8
         },
         "marker": {
          "color": [
           "white",
           "#222222"
          ],
          "line": {
           "color": [
            "orangered",
            "orangered"
           ],
           "width": [
            2,
            2
           ]
          },
          "size": 6,
          "symbol": 0
         },
         "mode": "lines+text+markers",
         "opacity": 1,
         "showlegend": false,
         "type": "scatter",
         "x": [
          0.5,
          0.5714285714285715
         ],
         "xaxis": "x",
         "y": [
          " White",
          " White"
         ],
         "yaxis": "y"
        },
        {
         "cliponaxis": false,
         "hovertemplate": [
          "%{y}: %{x} (group size: 124)<extra></extra>",
          "baseline: %{x} (group size: 3130)<extra></extra>"
         ],
         "line": {
          "color": "orangered",
          "width": 8
         },
         "marker": {
          "color": [
           "white",
           "#222222"
          ],
          "line": {
           "color": [
            "orangered",
            "orangered"
           ],
           "width": [
            2,
            2
           ]
          },
          "size": 6,
          "symbol": 0
         },
         "mode": "lines+text+markers",
         "opacity": 1,
         "showlegend": false,
         "type": "scatter",
         "x": [
          0,
          0.5714285714285715
         ],
         "xaxis": "x",
         "y": [
          "Others",
          "Others"
         ],
         "yaxis": "y"
        },
        {
         "cliponaxis": false,
         "hovertemplate": [
          "%{y}: %{x} (group size: 155)<extra></extra>",
          "baseline: %{x} (group size: 3082)<extra></extra>"
         ],
         "line": {
          "color": "limegreen",
          "width": 8
         },
         "marker": {
          "color": [
           "white",
           "#222222"
          ],
          "line": {
           "color": [
            "limegreen",
            "limegreen"
           ],
           "width": [
            2,
            2
           ]
          },
          "size": 6,
          "symbol": 0
         },
         "mode": "lines+text+markers",
         "opacity": 1,
         "showlegend": false,
         "type": "scatter",
         "x": [
          0.7142857142857143,
          0.6337719298245614
         ],
         "xaxis": "x2",
         "y": [
          "Others",
          "Others"
         ],
         "yaxis": "y2"
        },
        {
         "cliponaxis": false,
         "hovertemplate": [
          "%{y}: %{x} (group size: 2602)<extra></extra>",
          "baseline: %{x} (group size: 3082)<extra></extra>"
         ],
         "line": {
          "color": "limegreen",
          "width": 8
         },
         "marker": {
          "color": [
           "white",
           "#222222"
          ],
          "line": {
           "color": [
            "limegreen",
            "limegreen"
           ],
           "width": [
            2,
            2
           ]
          },
          "size": 6,
          "symbol": 0
         },
         "mode": "lines+text+markers",
         "opacity": 1,
         "showlegend": false,
         "type": "scatter",
         "x": [
          0.6397553516819572,
          0.6337719298245614
         ],
         "xaxis": "x2",
         "y": [
          " White",
          " White"
         ],
         "yaxis": "y2"
        },
        {
         "cliponaxis": false,
         "hovertemplate": [
          "%{y}: %{x} (group size: 325)<extra></extra>",
          "baseline: %{x} (group size: 3082)<extra></extra>"
         ],
         "line": {
          "color": "orangered",
          "width": 8
         },
         "marker": {
          "color": [
           "white",
           "#222222"
          ],
          "line": {
           "color": [
            "orangered",
            "orangered"
           ],
           "width": [
            2,
            2
           ]
          },
          "size": 6,
          "symbol": 0
         },
         "mode": "lines+text+markers",
         "opacity": 1,
         "showlegend": false,
         "type": "scatter",
         "x": [
          0.4395604395604395,
          0.6337719298245614
         ],
         "xaxis": "x2",
         "y": [
          " Black",
          " Black"
         ],
         "yaxis": "y2"
        },
        {
         "cliponaxis": false,
         "hovertemplate": [
          "%{y}: %{x} (group size: 3008)<extra></extra>",
          "baseline: %{x} (group size: 3365)<extra></extra>"
         ],
         "line": {
          "color": "limegreen",
          "width": 8
         },
         "marker": {
          "color": [
           "white",
           "#222222"
          ],
          "line": {
           "color": [
            "limegreen",
            "limegreen"
           ],
           "width": [
            2,
            2
           ]
          },
          "size": 6,
          "symbol": 0
         },
         "mode": "lines+text+markers",
         "opacity": 1,
         "showlegend": false,
         "type": "scatter",
         "x": [
          0.6025280898876404,
          0.5978835978835979
         ],
         "xaxis": "x3",
         "y": [
          " White",
          " White"
         ],
         "yaxis": "y3"
        },
        {
         "cliponaxis": false,
         "hovertemplate": [
          "%{y}: %{x} (group size: 247)<extra></extra>",
          "baseline: %{x} (group size: 3365)<extra></extra>"
         ],
         "line": {
          "color": "orangered",
          "width": 8
         },
         "marker": {
          "color": [
           "white",
           "#222222"
          ],
          "line": {
           "color": [
            "orangered",
            "orangered"
           ],
           "width": [
            2,
            2
           ]
          },
          "size": 6,
          "symbol": 0
         },
         "mode": "lines+text+markers",
         "opacity": 1,
         "showlegend": false,
         "type": "scatter",
         "x": [
          0.5454545454545455,
          0.5978835978835979
         ],
         "xaxis": "x3",
         "y": [
          " Black",
          " Black"
         ],
         "yaxis": "y3"
        },
        {
         "cliponaxis": false,
         "hovertemplate": [
          "%{y}: %{x} (group size: 110)<extra></extra>",
          "baseline: %{x} (group size: 3365)<extra></extra>"
         ],
         "line": {
          "color": "orangered",
          "width": 8
         },
         "marker": {
          "color": [
           "white",
           "#222222"
          ],
          "line": {
           "color": [
            "orangered",
            "orangered"
           ],
           "width": [
            2,
            2
           ]
          },
          "size": 6,
          "symbol": 0
         },
         "mode": "lines+text+markers",
         "opacity": 1,
         "showlegend": false,
         "type": "scatter",
         "x": [
          0.5,
          0.5978835978835979
         ],
         "xaxis": "x3",
         "y": [
          "Others",
          "Others"
         ],
         "yaxis": "y3"
        }
       ],
       "layout": {
        "annotations": [
         {
          "font": {
           "size": 12
          },
          "showarrow": false,
          "text": "age=[17 - 22), model_class= >50K",
          "x": 0,
          "xanchor": "left",
          "xref": "paper",
          "y": 1,
          "yanchor": "bottom",
          "yref": "paper"
         },
         {
          "font": {
           "size": 12
          },
          "showarrow": false,
          "text": "age=[41 - 45), model_class= >50K",
          "x": 0,
          "xanchor": "left",
          "xref": "paper",
          "y": 0.6217616457296957,
          "yanchor": "bottom",
          "yref": "paper"
         },
         {
          "font": {
           "size": 12
          },
          "showarrow": false,
          "text": "age=[58 - 90], model_class= >50K",
          "x": 0,
          "xanchor": "left",
          "xref": "paper",
          "y": 0.24352329145939156,
          "yanchor": "bottom",
          "yref": "paper"
         }
        ],
        "height": 480,
        "template": {
         "data": {
          "bar": [
           {
            "error_x": {
             "color": "#2a3f5f"
            },
            "error_y": {
             "color": "#2a3f5f"
            },
            "marker": {
             "line": {
              "color": "#E5ECF6",
              "width": 0.5
             },
             "pattern": {
              "fillmode": "overlay",
              "size": 10,
              "solidity": 0.2
             }
            },
            "type": "bar"
           }
          ],
          "barpolar": [
           {
            "marker": {
             "line": {
              "color": "#E5ECF6",
              "width": 0.5
             },
             "pattern": {
              "fillmode": "overlay",
              "size": 10,
              "solidity": 0.2
             }
            },
            "type": "barpolar"
           }
          ],
          "carpet": [
           {
            "aaxis": {
             "endlinecolor": "#2a3f5f",
             "gridcolor": "white",
             "linecolor": "white",
             "minorgridcolor": "white",
             "startlinecolor": "#2a3f5f"
            },
            "baxis": {
             "endlinecolor": "#2a3f5f",
             "gridcolor": "white",
             "linecolor": "white",
             "minorgridcolor": "white",
             "startlinecolor": "#2a3f5f"
            },
            "type": "carpet"
           }
          ],
          "choropleth": [
           {
            "colorbar": {
             "outlinewidth": 0,
             "ticks": ""
            },
            "type": "choropleth"
           }
          ],
          "contour": [
           {
            "colorbar": {
             "outlinewidth": 0,
             "ticks": ""
            },
            "colorscale": [
             [
              0,
              "#0d0887"
             ],
             [
              0.1111111111111111,
              "#46039f"
             ],
             [
              0.2222222222222222,
              "#7201a8"
             ],
             [
              0.3333333333333333,
              "#9c179e"
             ],
             [
              0.4444444444444444,
              "#bd3786"
             ],
             [
              0.5555555555555556,
              "#d8576b"
             ],
             [
              0.6666666666666666,
              "#ed7953"
             ],
             [
              0.7777777777777778,
              "#fb9f3a"
             ],
             [
              0.8888888888888888,
              "#fdca26"
             ],
             [
              1,
              "#f0f921"
             ]
            ],
            "type": "contour"
           }
          ],
          "contourcarpet": [
           {
            "colorbar": {
             "outlinewidth": 0,
             "ticks": ""
            },
            "type": "contourcarpet"
           }
          ],
          "heatmap": [
           {
            "colorbar": {
             "outlinewidth": 0,
             "ticks": ""
            },
            "colorscale": [
             [
              0,
              "#0d0887"
             ],
             [
              0.1111111111111111,
              "#46039f"
             ],
             [
              0.2222222222222222,
              "#7201a8"
             ],
             [
              0.3333333333333333,
              "#9c179e"
             ],
             [
              0.4444444444444444,
              "#bd3786"
             ],
             [
              0.5555555555555556,
              "#d8576b"
             ],
             [
              0.6666666666666666,
              "#ed7953"
             ],
             [
              0.7777777777777778,
              "#fb9f3a"
             ],
             [
              0.8888888888888888,
              "#fdca26"
             ],
             [
              1,
              "#f0f921"
             ]
            ],
            "type": "heatmap"
           }
          ],
          "heatmapgl": [
           {
            "colorbar": {
             "outlinewidth": 0,
             "ticks": ""
            },
            "colorscale": [
             [
              0,
              "#0d0887"
             ],
             [
              0.1111111111111111,
              "#46039f"
             ],
             [
              0.2222222222222222,
              "#7201a8"
             ],
             [
              0.3333333333333333,
              "#9c179e"
             ],
             [
              0.4444444444444444,
              "#bd3786"
             ],
             [
              0.5555555555555556,
              "#d8576b"
             ],
             [
              0.6666666666666666,
              "#ed7953"
             ],
             [
              0.7777777777777778,
              "#fb9f3a"
             ],
             [
              0.8888888888888888,
              "#fdca26"
             ],
             [
              1,
              "#f0f921"
             ]
            ],
            "type": "heatmapgl"
           }
          ],
          "histogram": [
           {
            "marker": {
             "pattern": {
              "fillmode": "overlay",
              "size": 10,
              "solidity": 0.2
             }
            },
            "type": "histogram"
           }
          ],
          "histogram2d": [
           {
            "colorbar": {
             "outlinewidth": 0,
             "ticks": ""
            },
            "colorscale": [
             [
              0,
              "#0d0887"
             ],
             [
              0.1111111111111111,
              "#46039f"
             ],
             [
              0.2222222222222222,
              "#7201a8"
             ],
             [
              0.3333333333333333,
              "#9c179e"
             ],
             [
              0.4444444444444444,
              "#bd3786"
             ],
             [
              0.5555555555555556,
              "#d8576b"
             ],
             [
              0.6666666666666666,
              "#ed7953"
             ],
             [
              0.7777777777777778,
              "#fb9f3a"
             ],
             [
              0.8888888888888888,
              "#fdca26"
             ],
             [
              1,
              "#f0f921"
             ]
            ],
            "type": "histogram2d"
           }
          ],
          "histogram2dcontour": [
           {
            "colorbar": {
             "outlinewidth": 0,
             "ticks": ""
            },
            "colorscale": [
             [
              0,
              "#0d0887"
             ],
             [
              0.1111111111111111,
              "#46039f"
             ],
             [
              0.2222222222222222,
              "#7201a8"
             ],
             [
              0.3333333333333333,
              "#9c179e"
             ],
             [
              0.4444444444444444,
              "#bd3786"
             ],
             [
              0.5555555555555556,
              "#d8576b"
             ],
             [
              0.6666666666666666,
              "#ed7953"
             ],
             [
              0.7777777777777778,
              "#fb9f3a"
             ],
             [
              0.8888888888888888,
              "#fdca26"
             ],
             [
              1,
              "#f0f921"
             ]
            ],
            "type": "histogram2dcontour"
           }
          ],
          "mesh3d": [
           {
            "colorbar": {
             "outlinewidth": 0,
             "ticks": ""
            },
            "type": "mesh3d"
           }
          ],
          "parcoords": [
           {
            "line": {
             "colorbar": {
              "outlinewidth": 0,
              "ticks": ""
             }
            },
            "type": "parcoords"
           }
          ],
          "pie": [
           {
            "automargin": true,
            "type": "pie"
           }
          ],
          "scatter": [
           {
            "fillpattern": {
             "fillmode": "overlay",
             "size": 10,
             "solidity": 0.2
            },
            "type": "scatter"
           }
          ],
          "scatter3d": [
           {
            "line": {
             "colorbar": {
              "outlinewidth": 0,
              "ticks": ""
             }
            },
            "marker": {
             "colorbar": {
              "outlinewidth": 0,
              "ticks": ""
             }
            },
            "type": "scatter3d"
           }
          ],
          "scattercarpet": [
           {
            "marker": {
             "colorbar": {
              "outlinewidth": 0,
              "ticks": ""
             }
            },
            "type": "scattercarpet"
           }
          ],
          "scattergeo": [
           {
            "marker": {
             "colorbar": {
              "outlinewidth": 0,
              "ticks": ""
             }
            },
            "type": "scattergeo"
           }
          ],
          "scattergl": [
           {
            "marker": {
             "colorbar": {
              "outlinewidth": 0,
              "ticks": ""
             }
            },
            "type": "scattergl"
           }
          ],
          "scattermapbox": [
           {
            "marker": {
             "colorbar": {
              "outlinewidth": 0,
              "ticks": ""
             }
            },
            "type": "scattermapbox"
           }
          ],
          "scatterpolar": [
           {
            "marker": {
             "colorbar": {
              "outlinewidth": 0,
              "ticks": ""
             }
            },
            "type": "scatterpolar"
           }
          ],
          "scatterpolargl": [
           {
            "marker": {
             "colorbar": {
              "outlinewidth": 0,
              "ticks": ""
             }
            },
            "type": "scatterpolargl"
           }
          ],
          "scatterternary": [
           {
            "marker": {
             "colorbar": {
              "outlinewidth": 0,
              "ticks": ""
             }
            },
            "type": "scatterternary"
           }
          ],
          "surface": [
           {
            "colorbar": {
             "outlinewidth": 0,
             "ticks": ""
            },
            "colorscale": [
             [
              0,
              "#0d0887"
             ],
             [
              0.1111111111111111,
              "#46039f"
             ],
             [
              0.2222222222222222,
              "#7201a8"
             ],
             [
              0.3333333333333333,
              "#9c179e"
             ],
             [
              0.4444444444444444,
              "#bd3786"
             ],
             [
              0.5555555555555556,
              "#d8576b"
             ],
             [
              0.6666666666666666,
              "#ed7953"
             ],
             [
              0.7777777777777778,
              "#fb9f3a"
             ],
             [
              0.8888888888888888,
              "#fdca26"
             ],
             [
              1,
              "#f0f921"
             ]
            ],
            "type": "surface"
           }
          ],
          "table": [
           {
            "cells": {
             "fill": {
              "color": "#EBF0F8"
             },
             "line": {
              "color": "white"
             }
            },
            "header": {
             "fill": {
              "color": "#C8D4E3"
             },
             "line": {
              "color": "white"
             }
            },
            "type": "table"
           }
          ]
         },
         "layout": {
          "annotationdefaults": {
           "arrowcolor": "#2a3f5f",
           "arrowhead": 0,
           "arrowwidth": 1
          },
          "autotypenumbers": "strict",
          "coloraxis": {
           "colorbar": {
            "outlinewidth": 0,
            "ticks": ""
           }
          },
          "colorscale": {
           "diverging": [
            [
             0,
             "#8e0152"
            ],
            [
             0.1,
             "#c51b7d"
            ],
            [
             0.2,
             "#de77ae"
            ],
            [
             0.3,
             "#f1b6da"
            ],
            [
             0.4,
             "#fde0ef"
            ],
            [
             0.5,
             "#f7f7f7"
            ],
            [
             0.6,
             "#e6f5d0"
            ],
            [
             0.7,
             "#b8e186"
            ],
            [
             0.8,
             "#7fbc41"
            ],
            [
             0.9,
             "#4d9221"
            ],
            [
             1,
             "#276419"
            ]
           ],
           "sequential": [
            [
             0,
             "#0d0887"
            ],
            [
             0.1111111111111111,
             "#46039f"
            ],
            [
             0.2222222222222222,
             "#7201a8"
            ],
            [
             0.3333333333333333,
             "#9c179e"
            ],
            [
             0.4444444444444444,
             "#bd3786"
            ],
            [
             0.5555555555555556,
             "#d8576b"
            ],
            [
             0.6666666666666666,
             "#ed7953"
            ],
            [
             0.7777777777777778,
             "#fb9f3a"
            ],
            [
             0.8888888888888888,
             "#fdca26"
            ],
            [
             1,
             "#f0f921"
            ]
           ],
           "sequentialminus": [
            [
             0,
             "#0d0887"
            ],
            [
             0.1111111111111111,
             "#46039f"
            ],
            [
             0.2222222222222222,
             "#7201a8"
            ],
            [
             0.3333333333333333,
             "#9c179e"
            ],
            [
             0.4444444444444444,
             "#bd3786"
            ],
            [
             0.5555555555555556,
             "#d8576b"
            ],
            [
             0.6666666666666666,
             "#ed7953"
            ],
            [
             0.7777777777777778,
             "#fb9f3a"
            ],
            [
             0.8888888888888888,
             "#fdca26"
            ],
            [
             1,
             "#f0f921"
            ]
           ]
          },
          "colorway": [
           "#636efa",
           "#EF553B",
           "#00cc96",
           "#ab63fa",
           "#FFA15A",
           "#19d3f3",
           "#FF6692",
           "#B6E880",
           "#FF97FF",
           "#FECB52"
          ],
          "font": {
           "color": "#2a3f5f"
          },
          "geo": {
           "bgcolor": "white",
           "lakecolor": "white",
           "landcolor": "#E5ECF6",
           "showlakes": true,
           "showland": true,
           "subunitcolor": "white"
          },
          "hoverlabel": {
           "align": "left"
          },
          "hovermode": "closest",
          "mapbox": {
           "style": "light"
          },
          "paper_bgcolor": "white",
          "plot_bgcolor": "#E5ECF6",
          "polar": {
           "angularaxis": {
            "gridcolor": "white",
            "linecolor": "white",
            "ticks": ""
           },
           "bgcolor": "#E5ECF6",
           "radialaxis": {
            "gridcolor": "white",
            "linecolor": "white",
            "ticks": ""
           }
          },
          "scene": {
           "xaxis": {
            "backgroundcolor": "#E5ECF6",
            "gridcolor": "white",
            "gridwidth": 2,
            "linecolor": "white",
            "showbackground": true,
            "ticks": "",
            "zerolinecolor": "white"
           },
           "yaxis": {
            "backgroundcolor": "#E5ECF6",
            "gridcolor": "white",
            "gridwidth": 2,
            "linecolor": "white",
            "showbackground": true,
            "ticks": "",
            "zerolinecolor": "white"
           },
           "zaxis": {
            "backgroundcolor": "#E5ECF6",
            "gridcolor": "white",
            "gridwidth": 2,
            "linecolor": "white",
            "showbackground": true,
            "ticks": "",
            "zerolinecolor": "white"
           }
          },
          "shapedefaults": {
           "line": {
            "color": "#2a3f5f"
           }
          },
          "ternary": {
           "aaxis": {
            "gridcolor": "white",
            "linecolor": "white",
            "ticks": ""
           },
           "baxis": {
            "gridcolor": "white",
            "linecolor": "white",
            "ticks": ""
           },
           "bgcolor": "#E5ECF6",
           "caxis": {
            "gridcolor": "white",
            "linecolor": "white",
            "ticks": ""
           }
          },
          "title": {
           "x": 0.05
          },
          "xaxis": {
           "automargin": true,
           "gridcolor": "white",
           "linecolor": "white",
           "ticks": "",
           "title": {
            "standoff": 15
           },
           "zerolinecolor": "white",
           "zerolinewidth": 2
          },
          "yaxis": {
           "automargin": true,
           "gridcolor": "white",
           "linecolor": "white",
           "ticks": "",
           "title": {
            "standoff": 15
           },
           "zerolinecolor": "white",
           "zerolinewidth": 2
          }
         }
        },
        "title": {
         "text": "Largest performance differences within age and model_class categories<br><sup>(Showing 3/3 race levels per plot and 3/20 (age, model_classes) categories)</sup>"
        },
        "xaxis": {
         "anchor": "y",
         "domain": [
          0,
          1
         ],
         "matches": "x3",
         "showticklabels": false
        },
        "xaxis2": {
         "anchor": "y2",
         "domain": [
          0,
          1
         ],
         "matches": "x3",
         "showticklabels": false
        },
        "xaxis3": {
         "anchor": "y3",
         "domain": [
          0,
          1
         ],
         "title": {
          "text": "f1_per_class score"
         }
        },
        "yaxis": {
         "anchor": "x",
         "domain": [
          0.7564767085406084,
          1
         ],
         "tickmode": "linear",
         "title": {
          "text": "race"
         }
        },
        "yaxis2": {
         "anchor": "x2",
         "domain": [
          0.3782383542703042,
          0.6217616457296957
         ],
         "tickmode": "linear",
         "title": {
          "text": "race"
         }
        },
        "yaxis3": {
         "anchor": "x3",
         "domain": [
          0,
          0.24352329145939156
         ],
         "tickmode": "linear",
         "title": {
          "text": "race"
         }
        }
       }
      }
     },
     "metadata": {},
     "output_type": "display_data"
    }
   ],
   "source": [
    "check = PerformanceDisparityReport(protected_feature=\"race\", control_feature=\"age\", scorer=\"f1_per_class\")\n",
    "res = check.run(dataset, model=model)\n",
    "res.display[0].show(rendered=\"svg\")"
   ]
  },
  {
   "attachments": {},
   "cell_type": "markdown",
   "metadata": {},
   "source": [
    "### No control_feature no model_class"
   ]
  },
  {
   "cell_type": "code",
   "execution_count": 3,
   "metadata": {},
   "outputs": [
    {
     "data": {
      "application/vnd.plotly.v1+json": {
       "config": {
        "plotlyServerURL": "https://plot.ly"
       },
       "data": [
        {
         "cliponaxis": false,
         "hovertemplate": [
          "%{y}: %{x} (group size: 1621)<extra></extra>",
          "baseline: %{x} (group size: 32561)<extra></extra>"
         ],
         "line": {
          "color": "limegreen",
          "width": 8
         },
         "marker": {
          "color": [
           "white",
           "#222222"
          ],
          "line": {
           "color": [
            "limegreen",
            "limegreen"
           ],
           "width": [
            2,
            2
           ]
          },
          "size": 6,
          "symbol": 0
         },
         "mode": "lines+text+markers",
         "opacity": 1,
         "showlegend": false,
         "type": "scatter",
         "x": [
          0.6348684210526316,
          0.6035756853396901
         ],
         "xaxis": "x",
         "y": [
          "Others",
          "Others"
         ],
         "yaxis": "y"
        },
        {
         "cliponaxis": false,
         "hovertemplate": [
          "%{y}: %{x} (group size: 27816)<extra></extra>",
          "baseline: %{x} (group size: 32561)<extra></extra>"
         ],
         "line": {
          "color": "limegreen",
          "width": 8
         },
         "marker": {
          "color": [
           "white",
           "#222222"
          ],
          "line": {
           "color": [
            "limegreen",
            "limegreen"
           ],
           "width": [
            2,
            2
           ]
          },
          "size": 6,
          "symbol": 0
         },
         "mode": "lines+text+markers",
         "opacity": 1,
         "showlegend": false,
         "type": "scatter",
         "x": [
          0.6056832134713208,
          0.6035756853396901
         ],
         "xaxis": "x",
         "y": [
          " White",
          " White"
         ],
         "yaxis": "y"
        },
        {
         "cliponaxis": false,
         "hovertemplate": [
          "%{y}: %{x} (group size: 3124)<extra></extra>",
          "baseline: %{x} (group size: 32561)<extra></extra>"
         ],
         "line": {
          "color": "orangered",
          "width": 8
         },
         "marker": {
          "color": [
           "white",
           "#222222"
          ],
          "line": {
           "color": [
            "orangered",
            "orangered"
           ],
           "width": [
            2,
            2
           ]
          },
          "size": 6,
          "symbol": 0
         },
         "mode": "lines+text+markers",
         "opacity": 1,
         "showlegend": false,
         "type": "scatter",
         "x": [
          0.528695652173913,
          0.6035756853396901
         ],
         "xaxis": "x",
         "y": [
          " Black",
          " Black"
         ],
         "yaxis": "y"
        }
       ],
       "layout": {
        "height": 260,
        "template": {
         "data": {
          "bar": [
           {
            "error_x": {
             "color": "#2a3f5f"
            },
            "error_y": {
             "color": "#2a3f5f"
            },
            "marker": {
             "line": {
              "color": "#E5ECF6",
              "width": 0.5
             },
             "pattern": {
              "fillmode": "overlay",
              "size": 10,
              "solidity": 0.2
             }
            },
            "type": "bar"
           }
          ],
          "barpolar": [
           {
            "marker": {
             "line": {
              "color": "#E5ECF6",
              "width": 0.5
             },
             "pattern": {
              "fillmode": "overlay",
              "size": 10,
              "solidity": 0.2
             }
            },
            "type": "barpolar"
           }
          ],
          "carpet": [
           {
            "aaxis": {
             "endlinecolor": "#2a3f5f",
             "gridcolor": "white",
             "linecolor": "white",
             "minorgridcolor": "white",
             "startlinecolor": "#2a3f5f"
            },
            "baxis": {
             "endlinecolor": "#2a3f5f",
             "gridcolor": "white",
             "linecolor": "white",
             "minorgridcolor": "white",
             "startlinecolor": "#2a3f5f"
            },
            "type": "carpet"
           }
          ],
          "choropleth": [
           {
            "colorbar": {
             "outlinewidth": 0,
             "ticks": ""
            },
            "type": "choropleth"
           }
          ],
          "contour": [
           {
            "colorbar": {
             "outlinewidth": 0,
             "ticks": ""
            },
            "colorscale": [
             [
              0,
              "#0d0887"
             ],
             [
              0.1111111111111111,
              "#46039f"
             ],
             [
              0.2222222222222222,
              "#7201a8"
             ],
             [
              0.3333333333333333,
              "#9c179e"
             ],
             [
              0.4444444444444444,
              "#bd3786"
             ],
             [
              0.5555555555555556,
              "#d8576b"
             ],
             [
              0.6666666666666666,
              "#ed7953"
             ],
             [
              0.7777777777777778,
              "#fb9f3a"
             ],
             [
              0.8888888888888888,
              "#fdca26"
             ],
             [
              1,
              "#f0f921"
             ]
            ],
            "type": "contour"
           }
          ],
          "contourcarpet": [
           {
            "colorbar": {
             "outlinewidth": 0,
             "ticks": ""
            },
            "type": "contourcarpet"
           }
          ],
          "heatmap": [
           {
            "colorbar": {
             "outlinewidth": 0,
             "ticks": ""
            },
            "colorscale": [
             [
              0,
              "#0d0887"
             ],
             [
              0.1111111111111111,
              "#46039f"
             ],
             [
              0.2222222222222222,
              "#7201a8"
             ],
             [
              0.3333333333333333,
              "#9c179e"
             ],
             [
              0.4444444444444444,
              "#bd3786"
             ],
             [
              0.5555555555555556,
              "#d8576b"
             ],
             [
              0.6666666666666666,
              "#ed7953"
             ],
             [
              0.7777777777777778,
              "#fb9f3a"
             ],
             [
              0.8888888888888888,
              "#fdca26"
             ],
             [
              1,
              "#f0f921"
             ]
            ],
            "type": "heatmap"
           }
          ],
          "heatmapgl": [
           {
            "colorbar": {
             "outlinewidth": 0,
             "ticks": ""
            },
            "colorscale": [
             [
              0,
              "#0d0887"
             ],
             [
              0.1111111111111111,
              "#46039f"
             ],
             [
              0.2222222222222222,
              "#7201a8"
             ],
             [
              0.3333333333333333,
              "#9c179e"
             ],
             [
              0.4444444444444444,
              "#bd3786"
             ],
             [
              0.5555555555555556,
              "#d8576b"
             ],
             [
              0.6666666666666666,
              "#ed7953"
             ],
             [
              0.7777777777777778,
              "#fb9f3a"
             ],
             [
              0.8888888888888888,
              "#fdca26"
             ],
             [
              1,
              "#f0f921"
             ]
            ],
            "type": "heatmapgl"
           }
          ],
          "histogram": [
           {
            "marker": {
             "pattern": {
              "fillmode": "overlay",
              "size": 10,
              "solidity": 0.2
             }
            },
            "type": "histogram"
           }
          ],
          "histogram2d": [
           {
            "colorbar": {
             "outlinewidth": 0,
             "ticks": ""
            },
            "colorscale": [
             [
              0,
              "#0d0887"
             ],
             [
              0.1111111111111111,
              "#46039f"
             ],
             [
              0.2222222222222222,
              "#7201a8"
             ],
             [
              0.3333333333333333,
              "#9c179e"
             ],
             [
              0.4444444444444444,
              "#bd3786"
             ],
             [
              0.5555555555555556,
              "#d8576b"
             ],
             [
              0.6666666666666666,
              "#ed7953"
             ],
             [
              0.7777777777777778,
              "#fb9f3a"
             ],
             [
              0.8888888888888888,
              "#fdca26"
             ],
             [
              1,
              "#f0f921"
             ]
            ],
            "type": "histogram2d"
           }
          ],
          "histogram2dcontour": [
           {
            "colorbar": {
             "outlinewidth": 0,
             "ticks": ""
            },
            "colorscale": [
             [
              0,
              "#0d0887"
             ],
             [
              0.1111111111111111,
              "#46039f"
             ],
             [
              0.2222222222222222,
              "#7201a8"
             ],
             [
              0.3333333333333333,
              "#9c179e"
             ],
             [
              0.4444444444444444,
              "#bd3786"
             ],
             [
              0.5555555555555556,
              "#d8576b"
             ],
             [
              0.6666666666666666,
              "#ed7953"
             ],
             [
              0.7777777777777778,
              "#fb9f3a"
             ],
             [
              0.8888888888888888,
              "#fdca26"
             ],
             [
              1,
              "#f0f921"
             ]
            ],
            "type": "histogram2dcontour"
           }
          ],
          "mesh3d": [
           {
            "colorbar": {
             "outlinewidth": 0,
             "ticks": ""
            },
            "type": "mesh3d"
           }
          ],
          "parcoords": [
           {
            "line": {
             "colorbar": {
              "outlinewidth": 0,
              "ticks": ""
             }
            },
            "type": "parcoords"
           }
          ],
          "pie": [
           {
            "automargin": true,
            "type": "pie"
           }
          ],
          "scatter": [
           {
            "fillpattern": {
             "fillmode": "overlay",
             "size": 10,
             "solidity": 0.2
            },
            "type": "scatter"
           }
          ],
          "scatter3d": [
           {
            "line": {
             "colorbar": {
              "outlinewidth": 0,
              "ticks": ""
             }
            },
            "marker": {
             "colorbar": {
              "outlinewidth": 0,
              "ticks": ""
             }
            },
            "type": "scatter3d"
           }
          ],
          "scattercarpet": [
           {
            "marker": {
             "colorbar": {
              "outlinewidth": 0,
              "ticks": ""
             }
            },
            "type": "scattercarpet"
           }
          ],
          "scattergeo": [
           {
            "marker": {
             "colorbar": {
              "outlinewidth": 0,
              "ticks": ""
             }
            },
            "type": "scattergeo"
           }
          ],
          "scattergl": [
           {
            "marker": {
             "colorbar": {
              "outlinewidth": 0,
              "ticks": ""
             }
            },
            "type": "scattergl"
           }
          ],
          "scattermapbox": [
           {
            "marker": {
             "colorbar": {
              "outlinewidth": 0,
              "ticks": ""
             }
            },
            "type": "scattermapbox"
           }
          ],
          "scatterpolar": [
           {
            "marker": {
             "colorbar": {
              "outlinewidth": 0,
              "ticks": ""
             }
            },
            "type": "scatterpolar"
           }
          ],
          "scatterpolargl": [
           {
            "marker": {
             "colorbar": {
              "outlinewidth": 0,
              "ticks": ""
             }
            },
            "type": "scatterpolargl"
           }
          ],
          "scatterternary": [
           {
            "marker": {
             "colorbar": {
              "outlinewidth": 0,
              "ticks": ""
             }
            },
            "type": "scatterternary"
           }
          ],
          "surface": [
           {
            "colorbar": {
             "outlinewidth": 0,
             "ticks": ""
            },
            "colorscale": [
             [
              0,
              "#0d0887"
             ],
             [
              0.1111111111111111,
              "#46039f"
             ],
             [
              0.2222222222222222,
              "#7201a8"
             ],
             [
              0.3333333333333333,
              "#9c179e"
             ],
             [
              0.4444444444444444,
              "#bd3786"
             ],
             [
              0.5555555555555556,
              "#d8576b"
             ],
             [
              0.6666666666666666,
              "#ed7953"
             ],
             [
              0.7777777777777778,
              "#fb9f3a"
             ],
             [
              0.8888888888888888,
              "#fdca26"
             ],
             [
              1,
              "#f0f921"
             ]
            ],
            "type": "surface"
           }
          ],
          "table": [
           {
            "cells": {
             "fill": {
              "color": "#EBF0F8"
             },
             "line": {
              "color": "white"
             }
            },
            "header": {
             "fill": {
              "color": "#C8D4E3"
             },
             "line": {
              "color": "white"
             }
            },
            "type": "table"
           }
          ]
         },
         "layout": {
          "annotationdefaults": {
           "arrowcolor": "#2a3f5f",
           "arrowhead": 0,
           "arrowwidth": 1
          },
          "autotypenumbers": "strict",
          "coloraxis": {
           "colorbar": {
            "outlinewidth": 0,
            "ticks": ""
           }
          },
          "colorscale": {
           "diverging": [
            [
             0,
             "#8e0152"
            ],
            [
             0.1,
             "#c51b7d"
            ],
            [
             0.2,
             "#de77ae"
            ],
            [
             0.3,
             "#f1b6da"
            ],
            [
             0.4,
             "#fde0ef"
            ],
            [
             0.5,
             "#f7f7f7"
            ],
            [
             0.6,
             "#e6f5d0"
            ],
            [
             0.7,
             "#b8e186"
            ],
            [
             0.8,
             "#7fbc41"
            ],
            [
             0.9,
             "#4d9221"
            ],
            [
             1,
             "#276419"
            ]
           ],
           "sequential": [
            [
             0,
             "#0d0887"
            ],
            [
             0.1111111111111111,
             "#46039f"
            ],
            [
             0.2222222222222222,
             "#7201a8"
            ],
            [
             0.3333333333333333,
             "#9c179e"
            ],
            [
             0.4444444444444444,
             "#bd3786"
            ],
            [
             0.5555555555555556,
             "#d8576b"
            ],
            [
             0.6666666666666666,
             "#ed7953"
            ],
            [
             0.7777777777777778,
             "#fb9f3a"
            ],
            [
             0.8888888888888888,
             "#fdca26"
            ],
            [
             1,
             "#f0f921"
            ]
           ],
           "sequentialminus": [
            [
             0,
             "#0d0887"
            ],
            [
             0.1111111111111111,
             "#46039f"
            ],
            [
             0.2222222222222222,
             "#7201a8"
            ],
            [
             0.3333333333333333,
             "#9c179e"
            ],
            [
             0.4444444444444444,
             "#bd3786"
            ],
            [
             0.5555555555555556,
             "#d8576b"
            ],
            [
             0.6666666666666666,
             "#ed7953"
            ],
            [
             0.7777777777777778,
             "#fb9f3a"
            ],
            [
             0.8888888888888888,
             "#fdca26"
            ],
            [
             1,
             "#f0f921"
            ]
           ]
          },
          "colorway": [
           "#636efa",
           "#EF553B",
           "#00cc96",
           "#ab63fa",
           "#FFA15A",
           "#19d3f3",
           "#FF6692",
           "#B6E880",
           "#FF97FF",
           "#FECB52"
          ],
          "font": {
           "color": "#2a3f5f"
          },
          "geo": {
           "bgcolor": "white",
           "lakecolor": "white",
           "landcolor": "#E5ECF6",
           "showlakes": true,
           "showland": true,
           "subunitcolor": "white"
          },
          "hoverlabel": {
           "align": "left"
          },
          "hovermode": "closest",
          "mapbox": {
           "style": "light"
          },
          "paper_bgcolor": "white",
          "plot_bgcolor": "#E5ECF6",
          "polar": {
           "angularaxis": {
            "gridcolor": "white",
            "linecolor": "white",
            "ticks": ""
           },
           "bgcolor": "#E5ECF6",
           "radialaxis": {
            "gridcolor": "white",
            "linecolor": "white",
            "ticks": ""
           }
          },
          "scene": {
           "xaxis": {
            "backgroundcolor": "#E5ECF6",
            "gridcolor": "white",
            "gridwidth": 2,
            "linecolor": "white",
            "showbackground": true,
            "ticks": "",
            "zerolinecolor": "white"
           },
           "yaxis": {
            "backgroundcolor": "#E5ECF6",
            "gridcolor": "white",
            "gridwidth": 2,
            "linecolor": "white",
            "showbackground": true,
            "ticks": "",
            "zerolinecolor": "white"
           },
           "zaxis": {
            "backgroundcolor": "#E5ECF6",
            "gridcolor": "white",
            "gridwidth": 2,
            "linecolor": "white",
            "showbackground": true,
            "ticks": "",
            "zerolinecolor": "white"
           }
          },
          "shapedefaults": {
           "line": {
            "color": "#2a3f5f"
           }
          },
          "ternary": {
           "aaxis": {
            "gridcolor": "white",
            "linecolor": "white",
            "ticks": ""
           },
           "baxis": {
            "gridcolor": "white",
            "linecolor": "white",
            "ticks": ""
           },
           "bgcolor": "#E5ECF6",
           "caxis": {
            "gridcolor": "white",
            "linecolor": "white",
            "ticks": ""
           }
          },
          "title": {
           "x": 0.05
          },
          "xaxis": {
           "automargin": true,
           "gridcolor": "white",
           "linecolor": "white",
           "ticks": "",
           "title": {
            "standoff": 15
           },
           "zerolinecolor": "white",
           "zerolinewidth": 2
          },
          "yaxis": {
           "automargin": true,
           "gridcolor": "white",
           "linecolor": "white",
           "ticks": "",
           "title": {
            "standoff": 15
           },
           "zerolinecolor": "white",
           "zerolinewidth": 2
          }
         }
        },
        "title": {
         "text": "Largest performance differences<br><sup>(Showing 3/3 race levels)</sup>"
        },
        "xaxis": {
         "anchor": "y",
         "domain": [
          0,
          1
         ],
         "title": {
          "text": "f1 score"
         }
        },
        "yaxis": {
         "anchor": "x",
         "domain": [
          0,
          1
         ],
         "tickmode": "linear",
         "title": {
          "text": "race"
         }
        }
       }
      }
     },
     "metadata": {},
     "output_type": "display_data"
    }
   ],
   "source": [
    "check = PerformanceDisparityReport(protected_feature=\"race\", scorer=\"f1\")\n",
    "res = check.run(dataset, model=model)\n",
    "res.display[0].show(rendered=\"svg\")"
   ]
  },
  {
   "attachments": {},
   "cell_type": "markdown",
   "metadata": {},
   "source": [
    "### No control_feature but has model_classes"
   ]
  },
  {
   "cell_type": "code",
   "execution_count": 4,
   "metadata": {},
   "outputs": [
    {
     "data": {
      "application/vnd.plotly.v1+json": {
       "config": {
        "plotlyServerURL": "https://plot.ly"
       },
       "data": [
        {
         "cliponaxis": false,
         "hovertemplate": [
          "%{y}: %{x} (group size: 1621)<extra></extra>",
          "baseline: %{x} (group size: 32561)<extra></extra>"
         ],
         "line": {
          "color": "limegreen",
          "width": 8
         },
         "marker": {
          "color": [
           "white",
           "#222222"
          ],
          "line": {
           "color": [
            "limegreen",
            "limegreen"
           ],
           "width": [
            2,
            2
           ]
          },
          "size": 6,
          "symbol": 0
         },
         "mode": "lines+text+markers",
         "opacity": 1,
         "showlegend": false,
         "type": "scatter",
         "x": [
          0.6348684210526316,
          0.6035756853396901
         ],
         "xaxis": "x",
         "y": [
          "Others",
          "Others"
         ],
         "yaxis": "y"
        },
        {
         "cliponaxis": false,
         "hovertemplate": [
          "%{y}: %{x} (group size: 27816)<extra></extra>",
          "baseline: %{x} (group size: 32561)<extra></extra>"
         ],
         "line": {
          "color": "limegreen",
          "width": 8
         },
         "marker": {
          "color": [
           "white",
           "#222222"
          ],
          "line": {
           "color": [
            "limegreen",
            "limegreen"
           ],
           "width": [
            2,
            2
           ]
          },
          "size": 6,
          "symbol": 0
         },
         "mode": "lines+text+markers",
         "opacity": 1,
         "showlegend": false,
         "type": "scatter",
         "x": [
          0.6056832134713208,
          0.6035756853396901
         ],
         "xaxis": "x",
         "y": [
          " White",
          " White"
         ],
         "yaxis": "y"
        },
        {
         "cliponaxis": false,
         "hovertemplate": [
          "%{y}: %{x} (group size: 3124)<extra></extra>",
          "baseline: %{x} (group size: 32561)<extra></extra>"
         ],
         "line": {
          "color": "orangered",
          "width": 8
         },
         "marker": {
          "color": [
           "white",
           "#222222"
          ],
          "line": {
           "color": [
            "orangered",
            "orangered"
           ],
           "width": [
            2,
            2
           ]
          },
          "size": 6,
          "symbol": 0
         },
         "mode": "lines+text+markers",
         "opacity": 1,
         "showlegend": false,
         "type": "scatter",
         "x": [
          0.528695652173913,
          0.6035756853396901
         ],
         "xaxis": "x",
         "y": [
          " Black",
          " Black"
         ],
         "yaxis": "y"
        },
        {
         "cliponaxis": false,
         "hovertemplate": [
          "%{y}: %{x} (group size: 3124)<extra></extra>",
          "baseline: %{x} (group size: 32561)<extra></extra>"
         ],
         "line": {
          "color": "limegreen",
          "width": 8
         },
         "marker": {
          "color": [
           "white",
           "#222222"
          ],
          "line": {
           "color": [
            "limegreen",
            "limegreen"
           ],
           "width": [
            2,
            2
           ]
          },
          "size": 6,
          "symbol": 0
         },
         "mode": "lines+text+markers",
         "opacity": 1,
         "showlegend": false,
         "type": "scatter",
         "x": [
          0.9522298607438746,
          0.9050383539219978
         ],
         "xaxis": "x2",
         "y": [
          " Black",
          " Black"
         ],
         "yaxis": "y2"
        },
        {
         "cliponaxis": false,
         "hovertemplate": [
          "%{y}: %{x} (group size: 1621)<extra></extra>",
          "baseline: %{x} (group size: 32561)<extra></extra>"
         ],
         "line": {
          "color": "limegreen",
          "width": 8
         },
         "marker": {
          "color": [
           "white",
           "#222222"
          ],
          "line": {
           "color": [
            "limegreen",
            "limegreen"
           ],
           "width": [
            2,
            2
           ]
          },
          "size": 6,
          "symbol": 0
         },
         "mode": "lines+text+markers",
         "opacity": 1,
         "showlegend": false,
         "type": "scatter",
         "x": [
          0.9157175398633257,
          0.9050383539219978
         ],
         "xaxis": "x2",
         "y": [
          "Others",
          "Others"
         ],
         "yaxis": "y2"
        },
        {
         "cliponaxis": false,
         "hovertemplate": [
          "%{y}: %{x} (group size: 27816)<extra></extra>",
          "baseline: %{x} (group size: 32561)<extra></extra>"
         ],
         "line": {
          "color": "orangered",
          "width": 8
         },
         "marker": {
          "color": [
           "white",
           "#222222"
          ],
          "line": {
           "color": [
            "orangered",
            "orangered"
           ],
           "width": [
            2,
            2
           ]
          },
          "size": 6,
          "symbol": 0
         },
         "mode": "lines+text+markers",
         "opacity": 1,
         "showlegend": false,
         "type": "scatter",
         "x": [
          0.8983495365136784,
          0.9050383539219978
         ],
         "xaxis": "x2",
         "y": [
          " White",
          " White"
         ],
         "yaxis": "y2"
        }
       ],
       "layout": {
        "annotations": [
         {
          "font": {
           "size": 12
          },
          "showarrow": false,
          "text": "model_class= >50K",
          "x": 0,
          "xanchor": "left",
          "xref": "paper",
          "y": 1,
          "yanchor": "bottom",
          "yref": "paper"
         },
         {
          "font": {
           "size": 12
          },
          "showarrow": false,
          "text": "model_class= <=50K",
          "x": 0,
          "xanchor": "left",
          "xref": "paper",
          "y": 0.3762563132923542,
          "yanchor": "bottom",
          "yref": "paper"
         }
        ],
        "height": 370,
        "template": {
         "data": {
          "bar": [
           {
            "error_x": {
             "color": "#2a3f5f"
            },
            "error_y": {
             "color": "#2a3f5f"
            },
            "marker": {
             "line": {
              "color": "#E5ECF6",
              "width": 0.5
             },
             "pattern": {
              "fillmode": "overlay",
              "size": 10,
              "solidity": 0.2
             }
            },
            "type": "bar"
           }
          ],
          "barpolar": [
           {
            "marker": {
             "line": {
              "color": "#E5ECF6",
              "width": 0.5
             },
             "pattern": {
              "fillmode": "overlay",
              "size": 10,
              "solidity": 0.2
             }
            },
            "type": "barpolar"
           }
          ],
          "carpet": [
           {
            "aaxis": {
             "endlinecolor": "#2a3f5f",
             "gridcolor": "white",
             "linecolor": "white",
             "minorgridcolor": "white",
             "startlinecolor": "#2a3f5f"
            },
            "baxis": {
             "endlinecolor": "#2a3f5f",
             "gridcolor": "white",
             "linecolor": "white",
             "minorgridcolor": "white",
             "startlinecolor": "#2a3f5f"
            },
            "type": "carpet"
           }
          ],
          "choropleth": [
           {
            "colorbar": {
             "outlinewidth": 0,
             "ticks": ""
            },
            "type": "choropleth"
           }
          ],
          "contour": [
           {
            "colorbar": {
             "outlinewidth": 0,
             "ticks": ""
            },
            "colorscale": [
             [
              0,
              "#0d0887"
             ],
             [
              0.1111111111111111,
              "#46039f"
             ],
             [
              0.2222222222222222,
              "#7201a8"
             ],
             [
              0.3333333333333333,
              "#9c179e"
             ],
             [
              0.4444444444444444,
              "#bd3786"
             ],
             [
              0.5555555555555556,
              "#d8576b"
             ],
             [
              0.6666666666666666,
              "#ed7953"
             ],
             [
              0.7777777777777778,
              "#fb9f3a"
             ],
             [
              0.8888888888888888,
              "#fdca26"
             ],
             [
              1,
              "#f0f921"
             ]
            ],
            "type": "contour"
           }
          ],
          "contourcarpet": [
           {
            "colorbar": {
             "outlinewidth": 0,
             "ticks": ""
            },
            "type": "contourcarpet"
           }
          ],
          "heatmap": [
           {
            "colorbar": {
             "outlinewidth": 0,
             "ticks": ""
            },
            "colorscale": [
             [
              0,
              "#0d0887"
             ],
             [
              0.1111111111111111,
              "#46039f"
             ],
             [
              0.2222222222222222,
              "#7201a8"
             ],
             [
              0.3333333333333333,
              "#9c179e"
             ],
             [
              0.4444444444444444,
              "#bd3786"
             ],
             [
              0.5555555555555556,
              "#d8576b"
             ],
             [
              0.6666666666666666,
              "#ed7953"
             ],
             [
              0.7777777777777778,
              "#fb9f3a"
             ],
             [
              0.8888888888888888,
              "#fdca26"
             ],
             [
              1,
              "#f0f921"
             ]
            ],
            "type": "heatmap"
           }
          ],
          "heatmapgl": [
           {
            "colorbar": {
             "outlinewidth": 0,
             "ticks": ""
            },
            "colorscale": [
             [
              0,
              "#0d0887"
             ],
             [
              0.1111111111111111,
              "#46039f"
             ],
             [
              0.2222222222222222,
              "#7201a8"
             ],
             [
              0.3333333333333333,
              "#9c179e"
             ],
             [
              0.4444444444444444,
              "#bd3786"
             ],
             [
              0.5555555555555556,
              "#d8576b"
             ],
             [
              0.6666666666666666,
              "#ed7953"
             ],
             [
              0.7777777777777778,
              "#fb9f3a"
             ],
             [
              0.8888888888888888,
              "#fdca26"
             ],
             [
              1,
              "#f0f921"
             ]
            ],
            "type": "heatmapgl"
           }
          ],
          "histogram": [
           {
            "marker": {
             "pattern": {
              "fillmode": "overlay",
              "size": 10,
              "solidity": 0.2
             }
            },
            "type": "histogram"
           }
          ],
          "histogram2d": [
           {
            "colorbar": {
             "outlinewidth": 0,
             "ticks": ""
            },
            "colorscale": [
             [
              0,
              "#0d0887"
             ],
             [
              0.1111111111111111,
              "#46039f"
             ],
             [
              0.2222222222222222,
              "#7201a8"
             ],
             [
              0.3333333333333333,
              "#9c179e"
             ],
             [
              0.4444444444444444,
              "#bd3786"
             ],
             [
              0.5555555555555556,
              "#d8576b"
             ],
             [
              0.6666666666666666,
              "#ed7953"
             ],
             [
              0.7777777777777778,
              "#fb9f3a"
             ],
             [
              0.8888888888888888,
              "#fdca26"
             ],
             [
              1,
              "#f0f921"
             ]
            ],
            "type": "histogram2d"
           }
          ],
          "histogram2dcontour": [
           {
            "colorbar": {
             "outlinewidth": 0,
             "ticks": ""
            },
            "colorscale": [
             [
              0,
              "#0d0887"
             ],
             [
              0.1111111111111111,
              "#46039f"
             ],
             [
              0.2222222222222222,
              "#7201a8"
             ],
             [
              0.3333333333333333,
              "#9c179e"
             ],
             [
              0.4444444444444444,
              "#bd3786"
             ],
             [
              0.5555555555555556,
              "#d8576b"
             ],
             [
              0.6666666666666666,
              "#ed7953"
             ],
             [
              0.7777777777777778,
              "#fb9f3a"
             ],
             [
              0.8888888888888888,
              "#fdca26"
             ],
             [
              1,
              "#f0f921"
             ]
            ],
            "type": "histogram2dcontour"
           }
          ],
          "mesh3d": [
           {
            "colorbar": {
             "outlinewidth": 0,
             "ticks": ""
            },
            "type": "mesh3d"
           }
          ],
          "parcoords": [
           {
            "line": {
             "colorbar": {
              "outlinewidth": 0,
              "ticks": ""
             }
            },
            "type": "parcoords"
           }
          ],
          "pie": [
           {
            "automargin": true,
            "type": "pie"
           }
          ],
          "scatter": [
           {
            "fillpattern": {
             "fillmode": "overlay",
             "size": 10,
             "solidity": 0.2
            },
            "type": "scatter"
           }
          ],
          "scatter3d": [
           {
            "line": {
             "colorbar": {
              "outlinewidth": 0,
              "ticks": ""
             }
            },
            "marker": {
             "colorbar": {
              "outlinewidth": 0,
              "ticks": ""
             }
            },
            "type": "scatter3d"
           }
          ],
          "scattercarpet": [
           {
            "marker": {
             "colorbar": {
              "outlinewidth": 0,
              "ticks": ""
             }
            },
            "type": "scattercarpet"
           }
          ],
          "scattergeo": [
           {
            "marker": {
             "colorbar": {
              "outlinewidth": 0,
              "ticks": ""
             }
            },
            "type": "scattergeo"
           }
          ],
          "scattergl": [
           {
            "marker": {
             "colorbar": {
              "outlinewidth": 0,
              "ticks": ""
             }
            },
            "type": "scattergl"
           }
          ],
          "scattermapbox": [
           {
            "marker": {
             "colorbar": {
              "outlinewidth": 0,
              "ticks": ""
             }
            },
            "type": "scattermapbox"
           }
          ],
          "scatterpolar": [
           {
            "marker": {
             "colorbar": {
              "outlinewidth": 0,
              "ticks": ""
             }
            },
            "type": "scatterpolar"
           }
          ],
          "scatterpolargl": [
           {
            "marker": {
             "colorbar": {
              "outlinewidth": 0,
              "ticks": ""
             }
            },
            "type": "scatterpolargl"
           }
          ],
          "scatterternary": [
           {
            "marker": {
             "colorbar": {
              "outlinewidth": 0,
              "ticks": ""
             }
            },
            "type": "scatterternary"
           }
          ],
          "surface": [
           {
            "colorbar": {
             "outlinewidth": 0,
             "ticks": ""
            },
            "colorscale": [
             [
              0,
              "#0d0887"
             ],
             [
              0.1111111111111111,
              "#46039f"
             ],
             [
              0.2222222222222222,
              "#7201a8"
             ],
             [
              0.3333333333333333,
              "#9c179e"
             ],
             [
              0.4444444444444444,
              "#bd3786"
             ],
             [
              0.5555555555555556,
              "#d8576b"
             ],
             [
              0.6666666666666666,
              "#ed7953"
             ],
             [
              0.7777777777777778,
              "#fb9f3a"
             ],
             [
              0.8888888888888888,
              "#fdca26"
             ],
             [
              1,
              "#f0f921"
             ]
            ],
            "type": "surface"
           }
          ],
          "table": [
           {
            "cells": {
             "fill": {
              "color": "#EBF0F8"
             },
             "line": {
              "color": "white"
             }
            },
            "header": {
             "fill": {
              "color": "#C8D4E3"
             },
             "line": {
              "color": "white"
             }
            },
            "type": "table"
           }
          ]
         },
         "layout": {
          "annotationdefaults": {
           "arrowcolor": "#2a3f5f",
           "arrowhead": 0,
           "arrowwidth": 1
          },
          "autotypenumbers": "strict",
          "coloraxis": {
           "colorbar": {
            "outlinewidth": 0,
            "ticks": ""
           }
          },
          "colorscale": {
           "diverging": [
            [
             0,
             "#8e0152"
            ],
            [
             0.1,
             "#c51b7d"
            ],
            [
             0.2,
             "#de77ae"
            ],
            [
             0.3,
             "#f1b6da"
            ],
            [
             0.4,
             "#fde0ef"
            ],
            [
             0.5,
             "#f7f7f7"
            ],
            [
             0.6,
             "#e6f5d0"
            ],
            [
             0.7,
             "#b8e186"
            ],
            [
             0.8,
             "#7fbc41"
            ],
            [
             0.9,
             "#4d9221"
            ],
            [
             1,
             "#276419"
            ]
           ],
           "sequential": [
            [
             0,
             "#0d0887"
            ],
            [
             0.1111111111111111,
             "#46039f"
            ],
            [
             0.2222222222222222,
             "#7201a8"
            ],
            [
             0.3333333333333333,
             "#9c179e"
            ],
            [
             0.4444444444444444,
             "#bd3786"
            ],
            [
             0.5555555555555556,
             "#d8576b"
            ],
            [
             0.6666666666666666,
             "#ed7953"
            ],
            [
             0.7777777777777778,
             "#fb9f3a"
            ],
            [
             0.8888888888888888,
             "#fdca26"
            ],
            [
             1,
             "#f0f921"
            ]
           ],
           "sequentialminus": [
            [
             0,
             "#0d0887"
            ],
            [
             0.1111111111111111,
             "#46039f"
            ],
            [
             0.2222222222222222,
             "#7201a8"
            ],
            [
             0.3333333333333333,
             "#9c179e"
            ],
            [
             0.4444444444444444,
             "#bd3786"
            ],
            [
             0.5555555555555556,
             "#d8576b"
            ],
            [
             0.6666666666666666,
             "#ed7953"
            ],
            [
             0.7777777777777778,
             "#fb9f3a"
            ],
            [
             0.8888888888888888,
             "#fdca26"
            ],
            [
             1,
             "#f0f921"
            ]
           ]
          },
          "colorway": [
           "#636efa",
           "#EF553B",
           "#00cc96",
           "#ab63fa",
           "#FFA15A",
           "#19d3f3",
           "#FF6692",
           "#B6E880",
           "#FF97FF",
           "#FECB52"
          ],
          "font": {
           "color": "#2a3f5f"
          },
          "geo": {
           "bgcolor": "white",
           "lakecolor": "white",
           "landcolor": "#E5ECF6",
           "showlakes": true,
           "showland": true,
           "subunitcolor": "white"
          },
          "hoverlabel": {
           "align": "left"
          },
          "hovermode": "closest",
          "mapbox": {
           "style": "light"
          },
          "paper_bgcolor": "white",
          "plot_bgcolor": "#E5ECF6",
          "polar": {
           "angularaxis": {
            "gridcolor": "white",
            "linecolor": "white",
            "ticks": ""
           },
           "bgcolor": "#E5ECF6",
           "radialaxis": {
            "gridcolor": "white",
            "linecolor": "white",
            "ticks": ""
           }
          },
          "scene": {
           "xaxis": {
            "backgroundcolor": "#E5ECF6",
            "gridcolor": "white",
            "gridwidth": 2,
            "linecolor": "white",
            "showbackground": true,
            "ticks": "",
            "zerolinecolor": "white"
           },
           "yaxis": {
            "backgroundcolor": "#E5ECF6",
            "gridcolor": "white",
            "gridwidth": 2,
            "linecolor": "white",
            "showbackground": true,
            "ticks": "",
            "zerolinecolor": "white"
           },
           "zaxis": {
            "backgroundcolor": "#E5ECF6",
            "gridcolor": "white",
            "gridwidth": 2,
            "linecolor": "white",
            "showbackground": true,
            "ticks": "",
            "zerolinecolor": "white"
           }
          },
          "shapedefaults": {
           "line": {
            "color": "#2a3f5f"
           }
          },
          "ternary": {
           "aaxis": {
            "gridcolor": "white",
            "linecolor": "white",
            "ticks": ""
           },
           "baxis": {
            "gridcolor": "white",
            "linecolor": "white",
            "ticks": ""
           },
           "bgcolor": "#E5ECF6",
           "caxis": {
            "gridcolor": "white",
            "linecolor": "white",
            "ticks": ""
           }
          },
          "title": {
           "x": 0.05
          },
          "xaxis": {
           "automargin": true,
           "gridcolor": "white",
           "linecolor": "white",
           "ticks": "",
           "title": {
            "standoff": 15
           },
           "zerolinecolor": "white",
           "zerolinewidth": 2
          },
          "yaxis": {
           "automargin": true,
           "gridcolor": "white",
           "linecolor": "white",
           "ticks": "",
           "title": {
            "standoff": 15
           },
           "zerolinecolor": "white",
           "zerolinewidth": 2
          }
         }
        },
        "title": {
         "text": "Largest performance differences model_class categories<br><sup>(Showing 3/3 race levels per plot and 2/2 model_classes categories)</sup>"
        },
        "xaxis": {
         "anchor": "y",
         "domain": [
          0,
          1
         ],
         "matches": "x2",
         "showticklabels": false
        },
        "xaxis2": {
         "anchor": "y2",
         "domain": [
          0,
          1
         ],
         "title": {
          "text": "f1_per_class score"
         }
        },
        "yaxis": {
         "anchor": "x",
         "domain": [
          0.6237436867076458,
          1
         ],
         "tickmode": "linear",
         "title": {
          "text": "race"
         }
        },
        "yaxis2": {
         "anchor": "x2",
         "domain": [
          0,
          0.3762563132923542
         ],
         "tickmode": "linear",
         "title": {
          "text": "race"
         }
        }
       }
      }
     },
     "metadata": {},
     "output_type": "display_data"
    }
   ],
   "source": [
    "check = PerformanceDisparityReport(protected_feature=\"race\", scorer=\"f1_per_class\")\n",
    "res = check.run(dataset, model=model)\n",
    "res.display[0].show(rendered=\"svg\")"
   ]
  },
  {
   "attachments": {},
   "cell_type": "markdown",
   "metadata": {},
   "source": [
    "### Control_feature but no model_class"
   ]
  },
  {
   "cell_type": "code",
   "execution_count": 5,
   "metadata": {},
   "outputs": [
    {
     "data": {
      "application/vnd.plotly.v1+json": {
       "config": {
        "plotlyServerURL": "https://plot.ly"
       },
       "data": [
        {
         "cliponaxis": false,
         "hovertemplate": [
          "%{y}: %{x} (group size: 226)<extra></extra>",
          "baseline: %{x} (group size: 3134)<extra></extra>"
         ],
         "line": {
          "color": "limegreen",
          "width": 8
         },
         "marker": {
          "color": [
           "white",
           "#222222"
          ],
          "line": {
           "color": [
            "limegreen",
            "limegreen"
           ],
           "width": [
            2,
            2
           ]
          },
          "size": 6,
          "symbol": 0
         },
         "mode": "lines+text+markers",
         "opacity": 1,
         "showlegend": false,
         "type": "scatter",
         "x": [
          0.8292682926829269,
          0.802030456852792
         ],
         "xaxis": "x",
         "y": [
          "Others",
          "Others"
         ],
         "yaxis": "y"
        },
        {
         "cliponaxis": false,
         "hovertemplate": [
          "%{y}: %{x} (group size: 2625)<extra></extra>",
          "baseline: %{x} (group size: 3134)<extra></extra>"
         ],
         "line": {
          "color": "limegreen",
          "width": 8
         },
         "marker": {
          "color": [
           "white",
           "#222222"
          ],
          "line": {
           "color": [
            "limegreen",
            "limegreen"
           ],
           "width": [
            2,
            2
           ]
          },
          "size": 6,
          "symbol": 0
         },
         "mode": "lines+text+markers",
         "opacity": 1,
         "showlegend": false,
         "type": "scatter",
         "x": [
          0.8065433854907539,
          0.802030456852792
         ],
         "xaxis": "x",
         "y": [
          " White",
          " White"
         ],
         "yaxis": "y"
        },
        {
         "cliponaxis": false,
         "hovertemplate": [
          "%{y}: %{x} (group size: 283)<extra></extra>",
          "baseline: %{x} (group size: 3134)<extra></extra>"
         ],
         "line": {
          "color": "orangered",
          "width": 8
         },
         "marker": {
          "color": [
           "white",
           "#222222"
          ],
          "line": {
           "color": [
            "orangered",
            "orangered"
           ],
           "width": [
            2,
            2
           ]
          },
          "size": 6,
          "symbol": 0
         },
         "mode": "lines+text+markers",
         "opacity": 1,
         "showlegend": false,
         "type": "scatter",
         "x": [
          0.5957446808510638,
          0.802030456852792
         ],
         "xaxis": "x",
         "y": [
          " Black",
          " Black"
         ],
         "yaxis": "y"
        },
        {
         "cliponaxis": false,
         "hovertemplate": [
          "%{y}: %{x} (group size: 762)<extra></extra>",
          "baseline: %{x} (group size: 933)<extra></extra>"
         ],
         "line": {
          "color": "limegreen",
          "width": 8
         },
         "marker": {
          "color": [
           "white",
           "#222222"
          ],
          "line": {
           "color": [
            "limegreen",
            "limegreen"
           ],
           "width": [
            2,
            2
           ]
          },
          "size": 6,
          "symbol": 0
         },
         "mode": "lines+text+markers",
         "opacity": 1,
         "showlegend": false,
         "type": "scatter",
         "x": [
          0.22950819672131148,
          0.2028985507246377
         ],
         "xaxis": "x2",
         "y": [
          " White",
          " White"
         ],
         "yaxis": "y2"
        },
        {
         "cliponaxis": false,
         "hovertemplate": [
          "%{y}: %{x} (group size: 133)<extra></extra>",
          "baseline: %{x} (group size: 933)<extra></extra>"
         ],
         "line": {
          "color": "orangered",
          "width": 8
         },
         "marker": {
          "color": [
           "white",
           "#222222"
          ],
          "line": {
           "color": [
            "orangered",
            "orangered"
           ],
           "width": [
            2,
            2
           ]
          },
          "size": 6,
          "symbol": 0
         },
         "mode": "lines+text+markers",
         "opacity": 1,
         "showlegend": false,
         "type": "scatter",
         "x": [
          0,
          0.2028985507246377
         ],
         "xaxis": "x2",
         "y": [
          " Black",
          " Black"
         ],
         "yaxis": "y2"
        },
        {
         "cliponaxis": false,
         "hovertemplate": [
          "%{y}: %{x} (group size: 38)<extra></extra>",
          "baseline: %{x} (group size: 933)<extra></extra>"
         ],
         "line": {
          "color": "orangered",
          "width": 8
         },
         "marker": {
          "color": [
           "white",
           "#222222"
          ],
          "line": {
           "color": [
            "orangered",
            "orangered"
           ],
           "width": [
            2,
            2
           ]
          },
          "size": 6,
          "symbol": 0
         },
         "mode": "lines+text+markers",
         "opacity": 1,
         "showlegend": false,
         "type": "scatter",
         "x": [
          0,
          0.2028985507246377
         ],
         "xaxis": "x2",
         "y": [
          "Others",
          "Others"
         ],
         "yaxis": "y2"
        },
        {
         "cliponaxis": false,
         "hovertemplate": [
          "%{y}: %{x} (group size: 746)<extra></extra>",
          "baseline: %{x} (group size: 7291)<extra></extra>"
         ],
         "line": {
          "color": "limegreen",
          "width": 8
         },
         "marker": {
          "color": [
           "white",
           "#222222"
          ],
          "line": {
           "color": [
            "limegreen",
            "limegreen"
           ],
           "width": [
            2,
            2
           ]
          },
          "size": 6,
          "symbol": 0
         },
         "mode": "lines+text+markers",
         "opacity": 1,
         "showlegend": false,
         "type": "scatter",
         "x": [
          0.3137254901960785,
          0.29307173513182094
         ],
         "xaxis": "x3",
         "y": [
          " Black",
          " Black"
         ],
         "yaxis": "y3"
        },
        {
         "cliponaxis": false,
         "hovertemplate": [
          "%{y}: %{x} (group size: 6207)<extra></extra>",
          "baseline: %{x} (group size: 7291)<extra></extra>"
         ],
         "line": {
          "color": "limegreen",
          "width": 8
         },
         "marker": {
          "color": [
           "white",
           "#222222"
          ],
          "line": {
           "color": [
            "limegreen",
            "limegreen"
           ],
           "width": [
            2,
            2
           ]
          },
          "size": 6,
          "symbol": 0
         },
         "mode": "lines+text+markers",
         "opacity": 1,
         "showlegend": false,
         "type": "scatter",
         "x": [
          0.2972972972972973,
          0.29307173513182094
         ],
         "xaxis": "x3",
         "y": [
          " White",
          " White"
         ],
         "yaxis": "y3"
        },
        {
         "cliponaxis": false,
         "hovertemplate": [
          "%{y}: %{x} (group size: 338)<extra></extra>",
          "baseline: %{x} (group size: 7291)<extra></extra>"
         ],
         "line": {
          "color": "orangered",
          "width": 8
         },
         "marker": {
          "color": [
           "white",
           "#222222"
          ],
          "line": {
           "color": [
            "orangered",
            "orangered"
           ],
           "width": [
            2,
            2
           ]
          },
          "size": 6,
          "symbol": 0
         },
         "mode": "lines+text+markers",
         "opacity": 1,
         "showlegend": false,
         "type": "scatter",
         "x": [
          0.12244897959183672,
          0.29307173513182094
         ],
         "xaxis": "x3",
         "y": [
          "Others",
          "Others"
         ],
         "yaxis": "y3"
        }
       ],
       "layout": {
        "annotations": [
         {
          "font": {
           "size": 12
          },
          "showarrow": false,
          "text": "education=Others",
          "x": 0,
          "xanchor": "left",
          "xref": "paper",
          "y": 1,
          "yanchor": "bottom",
          "yref": "paper"
         },
         {
          "font": {
           "size": 12
          },
          "showarrow": false,
          "text": "education= 10th",
          "x": 0,
          "xanchor": "left",
          "xref": "paper",
          "y": 0.6217616457296957,
          "yanchor": "bottom",
          "yref": "paper"
         },
         {
          "font": {
           "size": 12
          },
          "showarrow": false,
          "text": "education= Some-college",
          "x": 0,
          "xanchor": "left",
          "xref": "paper",
          "y": 0.24352329145939156,
          "yanchor": "bottom",
          "yref": "paper"
         }
        ],
        "height": 480,
        "template": {
         "data": {
          "bar": [
           {
            "error_x": {
             "color": "#2a3f5f"
            },
            "error_y": {
             "color": "#2a3f5f"
            },
            "marker": {
             "line": {
              "color": "#E5ECF6",
              "width": 0.5
             },
             "pattern": {
              "fillmode": "overlay",
              "size": 10,
              "solidity": 0.2
             }
            },
            "type": "bar"
           }
          ],
          "barpolar": [
           {
            "marker": {
             "line": {
              "color": "#E5ECF6",
              "width": 0.5
             },
             "pattern": {
              "fillmode": "overlay",
              "size": 10,
              "solidity": 0.2
             }
            },
            "type": "barpolar"
           }
          ],
          "carpet": [
           {
            "aaxis": {
             "endlinecolor": "#2a3f5f",
             "gridcolor": "white",
             "linecolor": "white",
             "minorgridcolor": "white",
             "startlinecolor": "#2a3f5f"
            },
            "baxis": {
             "endlinecolor": "#2a3f5f",
             "gridcolor": "white",
             "linecolor": "white",
             "minorgridcolor": "white",
             "startlinecolor": "#2a3f5f"
            },
            "type": "carpet"
           }
          ],
          "choropleth": [
           {
            "colorbar": {
             "outlinewidth": 0,
             "ticks": ""
            },
            "type": "choropleth"
           }
          ],
          "contour": [
           {
            "colorbar": {
             "outlinewidth": 0,
             "ticks": ""
            },
            "colorscale": [
             [
              0,
              "#0d0887"
             ],
             [
              0.1111111111111111,
              "#46039f"
             ],
             [
              0.2222222222222222,
              "#7201a8"
             ],
             [
              0.3333333333333333,
              "#9c179e"
             ],
             [
              0.4444444444444444,
              "#bd3786"
             ],
             [
              0.5555555555555556,
              "#d8576b"
             ],
             [
              0.6666666666666666,
              "#ed7953"
             ],
             [
              0.7777777777777778,
              "#fb9f3a"
             ],
             [
              0.8888888888888888,
              "#fdca26"
             ],
             [
              1,
              "#f0f921"
             ]
            ],
            "type": "contour"
           }
          ],
          "contourcarpet": [
           {
            "colorbar": {
             "outlinewidth": 0,
             "ticks": ""
            },
            "type": "contourcarpet"
           }
          ],
          "heatmap": [
           {
            "colorbar": {
             "outlinewidth": 0,
             "ticks": ""
            },
            "colorscale": [
             [
              0,
              "#0d0887"
             ],
             [
              0.1111111111111111,
              "#46039f"
             ],
             [
              0.2222222222222222,
              "#7201a8"
             ],
             [
              0.3333333333333333,
              "#9c179e"
             ],
             [
              0.4444444444444444,
              "#bd3786"
             ],
             [
              0.5555555555555556,
              "#d8576b"
             ],
             [
              0.6666666666666666,
              "#ed7953"
             ],
             [
              0.7777777777777778,
              "#fb9f3a"
             ],
             [
              0.8888888888888888,
              "#fdca26"
             ],
             [
              1,
              "#f0f921"
             ]
            ],
            "type": "heatmap"
           }
          ],
          "heatmapgl": [
           {
            "colorbar": {
             "outlinewidth": 0,
             "ticks": ""
            },
            "colorscale": [
             [
              0,
              "#0d0887"
             ],
             [
              0.1111111111111111,
              "#46039f"
             ],
             [
              0.2222222222222222,
              "#7201a8"
             ],
             [
              0.3333333333333333,
              "#9c179e"
             ],
             [
              0.4444444444444444,
              "#bd3786"
             ],
             [
              0.5555555555555556,
              "#d8576b"
             ],
             [
              0.6666666666666666,
              "#ed7953"
             ],
             [
              0.7777777777777778,
              "#fb9f3a"
             ],
             [
              0.8888888888888888,
              "#fdca26"
             ],
             [
              1,
              "#f0f921"
             ]
            ],
            "type": "heatmapgl"
           }
          ],
          "histogram": [
           {
            "marker": {
             "pattern": {
              "fillmode": "overlay",
              "size": 10,
              "solidity": 0.2
             }
            },
            "type": "histogram"
           }
          ],
          "histogram2d": [
           {
            "colorbar": {
             "outlinewidth": 0,
             "ticks": ""
            },
            "colorscale": [
             [
              0,
              "#0d0887"
             ],
             [
              0.1111111111111111,
              "#46039f"
             ],
             [
              0.2222222222222222,
              "#7201a8"
             ],
             [
              0.3333333333333333,
              "#9c179e"
             ],
             [
              0.4444444444444444,
              "#bd3786"
             ],
             [
              0.5555555555555556,
              "#d8576b"
             ],
             [
              0.6666666666666666,
              "#ed7953"
             ],
             [
              0.7777777777777778,
              "#fb9f3a"
             ],
             [
              0.8888888888888888,
              "#fdca26"
             ],
             [
              1,
              "#f0f921"
             ]
            ],
            "type": "histogram2d"
           }
          ],
          "histogram2dcontour": [
           {
            "colorbar": {
             "outlinewidth": 0,
             "ticks": ""
            },
            "colorscale": [
             [
              0,
              "#0d0887"
             ],
             [
              0.1111111111111111,
              "#46039f"
             ],
             [
              0.2222222222222222,
              "#7201a8"
             ],
             [
              0.3333333333333333,
              "#9c179e"
             ],
             [
              0.4444444444444444,
              "#bd3786"
             ],
             [
              0.5555555555555556,
              "#d8576b"
             ],
             [
              0.6666666666666666,
              "#ed7953"
             ],
             [
              0.7777777777777778,
              "#fb9f3a"
             ],
             [
              0.8888888888888888,
              "#fdca26"
             ],
             [
              1,
              "#f0f921"
             ]
            ],
            "type": "histogram2dcontour"
           }
          ],
          "mesh3d": [
           {
            "colorbar": {
             "outlinewidth": 0,
             "ticks": ""
            },
            "type": "mesh3d"
           }
          ],
          "parcoords": [
           {
            "line": {
             "colorbar": {
              "outlinewidth": 0,
              "ticks": ""
             }
            },
            "type": "parcoords"
           }
          ],
          "pie": [
           {
            "automargin": true,
            "type": "pie"
           }
          ],
          "scatter": [
           {
            "fillpattern": {
             "fillmode": "overlay",
             "size": 10,
             "solidity": 0.2
            },
            "type": "scatter"
           }
          ],
          "scatter3d": [
           {
            "line": {
             "colorbar": {
              "outlinewidth": 0,
              "ticks": ""
             }
            },
            "marker": {
             "colorbar": {
              "outlinewidth": 0,
              "ticks": ""
             }
            },
            "type": "scatter3d"
           }
          ],
          "scattercarpet": [
           {
            "marker": {
             "colorbar": {
              "outlinewidth": 0,
              "ticks": ""
             }
            },
            "type": "scattercarpet"
           }
          ],
          "scattergeo": [
           {
            "marker": {
             "colorbar": {
              "outlinewidth": 0,
              "ticks": ""
             }
            },
            "type": "scattergeo"
           }
          ],
          "scattergl": [
           {
            "marker": {
             "colorbar": {
              "outlinewidth": 0,
              "ticks": ""
             }
            },
            "type": "scattergl"
           }
          ],
          "scattermapbox": [
           {
            "marker": {
             "colorbar": {
              "outlinewidth": 0,
              "ticks": ""
             }
            },
            "type": "scattermapbox"
           }
          ],
          "scatterpolar": [
           {
            "marker": {
             "colorbar": {
              "outlinewidth": 0,
              "ticks": ""
             }
            },
            "type": "scatterpolar"
           }
          ],
          "scatterpolargl": [
           {
            "marker": {
             "colorbar": {
              "outlinewidth": 0,
              "ticks": ""
             }
            },
            "type": "scatterpolargl"
           }
          ],
          "scatterternary": [
           {
            "marker": {
             "colorbar": {
              "outlinewidth": 0,
              "ticks": ""
             }
            },
            "type": "scatterternary"
           }
          ],
          "surface": [
           {
            "colorbar": {
             "outlinewidth": 0,
             "ticks": ""
            },
            "colorscale": [
             [
              0,
              "#0d0887"
             ],
             [
              0.1111111111111111,
              "#46039f"
             ],
             [
              0.2222222222222222,
              "#7201a8"
             ],
             [
              0.3333333333333333,
              "#9c179e"
             ],
             [
              0.4444444444444444,
              "#bd3786"
             ],
             [
              0.5555555555555556,
              "#d8576b"
             ],
             [
              0.6666666666666666,
              "#ed7953"
             ],
             [
              0.7777777777777778,
              "#fb9f3a"
             ],
             [
              0.8888888888888888,
              "#fdca26"
             ],
             [
              1,
              "#f0f921"
             ]
            ],
            "type": "surface"
           }
          ],
          "table": [
           {
            "cells": {
             "fill": {
              "color": "#EBF0F8"
             },
             "line": {
              "color": "white"
             }
            },
            "header": {
             "fill": {
              "color": "#C8D4E3"
             },
             "line": {
              "color": "white"
             }
            },
            "type": "table"
           }
          ]
         },
         "layout": {
          "annotationdefaults": {
           "arrowcolor": "#2a3f5f",
           "arrowhead": 0,
           "arrowwidth": 1
          },
          "autotypenumbers": "strict",
          "coloraxis": {
           "colorbar": {
            "outlinewidth": 0,
            "ticks": ""
           }
          },
          "colorscale": {
           "diverging": [
            [
             0,
             "#8e0152"
            ],
            [
             0.1,
             "#c51b7d"
            ],
            [
             0.2,
             "#de77ae"
            ],
            [
             0.3,
             "#f1b6da"
            ],
            [
             0.4,
             "#fde0ef"
            ],
            [
             0.5,
             "#f7f7f7"
            ],
            [
             0.6,
             "#e6f5d0"
            ],
            [
             0.7,
             "#b8e186"
            ],
            [
             0.8,
             "#7fbc41"
            ],
            [
             0.9,
             "#4d9221"
            ],
            [
             1,
             "#276419"
            ]
           ],
           "sequential": [
            [
             0,
             "#0d0887"
            ],
            [
             0.1111111111111111,
             "#46039f"
            ],
            [
             0.2222222222222222,
             "#7201a8"
            ],
            [
             0.3333333333333333,
             "#9c179e"
            ],
            [
             0.4444444444444444,
             "#bd3786"
            ],
            [
             0.5555555555555556,
             "#d8576b"
            ],
            [
             0.6666666666666666,
             "#ed7953"
            ],
            [
             0.7777777777777778,
             "#fb9f3a"
            ],
            [
             0.8888888888888888,
             "#fdca26"
            ],
            [
             1,
             "#f0f921"
            ]
           ],
           "sequentialminus": [
            [
             0,
             "#0d0887"
            ],
            [
             0.1111111111111111,
             "#46039f"
            ],
            [
             0.2222222222222222,
             "#7201a8"
            ],
            [
             0.3333333333333333,
             "#9c179e"
            ],
            [
             0.4444444444444444,
             "#bd3786"
            ],
            [
             0.5555555555555556,
             "#d8576b"
            ],
            [
             0.6666666666666666,
             "#ed7953"
            ],
            [
             0.7777777777777778,
             "#fb9f3a"
            ],
            [
             0.8888888888888888,
             "#fdca26"
            ],
            [
             1,
             "#f0f921"
            ]
           ]
          },
          "colorway": [
           "#636efa",
           "#EF553B",
           "#00cc96",
           "#ab63fa",
           "#FFA15A",
           "#19d3f3",
           "#FF6692",
           "#B6E880",
           "#FF97FF",
           "#FECB52"
          ],
          "font": {
           "color": "#2a3f5f"
          },
          "geo": {
           "bgcolor": "white",
           "lakecolor": "white",
           "landcolor": "#E5ECF6",
           "showlakes": true,
           "showland": true,
           "subunitcolor": "white"
          },
          "hoverlabel": {
           "align": "left"
          },
          "hovermode": "closest",
          "mapbox": {
           "style": "light"
          },
          "paper_bgcolor": "white",
          "plot_bgcolor": "#E5ECF6",
          "polar": {
           "angularaxis": {
            "gridcolor": "white",
            "linecolor": "white",
            "ticks": ""
           },
           "bgcolor": "#E5ECF6",
           "radialaxis": {
            "gridcolor": "white",
            "linecolor": "white",
            "ticks": ""
           }
          },
          "scene": {
           "xaxis": {
            "backgroundcolor": "#E5ECF6",
            "gridcolor": "white",
            "gridwidth": 2,
            "linecolor": "white",
            "showbackground": true,
            "ticks": "",
            "zerolinecolor": "white"
           },
           "yaxis": {
            "backgroundcolor": "#E5ECF6",
            "gridcolor": "white",
            "gridwidth": 2,
            "linecolor": "white",
            "showbackground": true,
            "ticks": "",
            "zerolinecolor": "white"
           },
           "zaxis": {
            "backgroundcolor": "#E5ECF6",
            "gridcolor": "white",
            "gridwidth": 2,
            "linecolor": "white",
            "showbackground": true,
            "ticks": "",
            "zerolinecolor": "white"
           }
          },
          "shapedefaults": {
           "line": {
            "color": "#2a3f5f"
           }
          },
          "ternary": {
           "aaxis": {
            "gridcolor": "white",
            "linecolor": "white",
            "ticks": ""
           },
           "baxis": {
            "gridcolor": "white",
            "linecolor": "white",
            "ticks": ""
           },
           "bgcolor": "#E5ECF6",
           "caxis": {
            "gridcolor": "white",
            "linecolor": "white",
            "ticks": ""
           }
          },
          "title": {
           "x": 0.05
          },
          "xaxis": {
           "automargin": true,
           "gridcolor": "white",
           "linecolor": "white",
           "ticks": "",
           "title": {
            "standoff": 15
           },
           "zerolinecolor": "white",
           "zerolinewidth": 2
          },
          "yaxis": {
           "automargin": true,
           "gridcolor": "white",
           "linecolor": "white",
           "ticks": "",
           "title": {
            "standoff": 15
           },
           "zerolinecolor": "white",
           "zerolinewidth": 2
          }
         }
        },
        "title": {
         "text": "Largest performance differences within education categories<br><sup>(Showing 3/3 race levels per plot and 3/9 education categories)</sup>"
        },
        "xaxis": {
         "anchor": "y",
         "domain": [
          0,
          1
         ],
         "matches": "x3",
         "showticklabels": false
        },
        "xaxis2": {
         "anchor": "y2",
         "domain": [
          0,
          1
         ],
         "matches": "x3",
         "showticklabels": false
        },
        "xaxis3": {
         "anchor": "y3",
         "domain": [
          0,
          1
         ],
         "title": {
          "text": "f1 score"
         }
        },
        "yaxis": {
         "anchor": "x",
         "domain": [
          0.7564767085406084,
          1
         ],
         "tickmode": "linear",
         "title": {
          "text": "race"
         }
        },
        "yaxis2": {
         "anchor": "x2",
         "domain": [
          0.3782383542703042,
          0.6217616457296957
         ],
         "tickmode": "linear",
         "title": {
          "text": "race"
         }
        },
        "yaxis3": {
         "anchor": "x3",
         "domain": [
          0,
          0.24352329145939156
         ],
         "tickmode": "linear",
         "title": {
          "text": "race"
         }
        }
       }
      }
     },
     "metadata": {},
     "output_type": "display_data"
    }
   ],
   "source": [
    "check = PerformanceDisparityReport(protected_feature=\"race\", control_feature=\"education\", scorer=\"f1\")\n",
    "res = check.run(dataset, model=model)\n",
    "res.display[0].show(rendered=\"svg\")"
   ]
  },
  {
   "attachments": {},
   "cell_type": "markdown",
   "metadata": {},
   "source": [
    "## Stress test"
   ]
  },
  {
   "cell_type": "code",
   "execution_count": 6,
   "metadata": {},
   "outputs": [
    {
     "name": "stderr",
     "output_type": "stream",
     "text": [
      "/home/olivieratduke/anaconda3/envs/deepchecks/lib/python3.9/site-packages/sklearn/metrics/_classification.py:1609: UndefinedMetricWarning:\n",
      "\n",
      "F-score is ill-defined and being set to 0.0 due to no true nor predicted samples. Use `zero_division` parameter to control this behavior.\n",
      "\n",
      "/home/olivieratduke/anaconda3/envs/deepchecks/lib/python3.9/site-packages/sklearn/metrics/_classification.py:1609: UndefinedMetricWarning:\n",
      "\n",
      "F-score is ill-defined and being set to 0.0 due to no true nor predicted samples. Use `zero_division` parameter to control this behavior.\n",
      "\n",
      "/home/olivieratduke/anaconda3/envs/deepchecks/lib/python3.9/site-packages/sklearn/metrics/_classification.py:1609: UndefinedMetricWarning:\n",
      "\n",
      "F-score is ill-defined and being set to 0.0 due to no true nor predicted samples. Use `zero_division` parameter to control this behavior.\n",
      "\n",
      "/home/olivieratduke/anaconda3/envs/deepchecks/lib/python3.9/site-packages/sklearn/metrics/_classification.py:1609: UndefinedMetricWarning:\n",
      "\n",
      "F-score is ill-defined and being set to 0.0 due to no true nor predicted samples. Use `zero_division` parameter to control this behavior.\n",
      "\n",
      "/home/olivieratduke/anaconda3/envs/deepchecks/lib/python3.9/site-packages/sklearn/metrics/_classification.py:1609: UndefinedMetricWarning:\n",
      "\n",
      "F-score is ill-defined and being set to 0.0 due to no true nor predicted samples. Use `zero_division` parameter to control this behavior.\n",
      "\n",
      "/home/olivieratduke/anaconda3/envs/deepchecks/lib/python3.9/site-packages/sklearn/metrics/_classification.py:1609: UndefinedMetricWarning:\n",
      "\n",
      "F-score is ill-defined and being set to 0.0 due to no true nor predicted samples. Use `zero_division` parameter to control this behavior.\n",
      "\n"
     ]
    },
    {
     "data": {
      "application/vnd.plotly.v1+json": {
       "config": {
        "plotlyServerURL": "https://plot.ly"
       },
       "data": [
        {
         "cliponaxis": false,
         "hovertemplate": [
          "%{y}: %{x} (group size: 3)<extra></extra>",
          "baseline: %{x} (group size: 1723)<extra></extra>"
         ],
         "line": {
          "color": "orangered",
          "width": 8
         },
         "marker": {
          "color": [
           "white",
           "#222222"
          ],
          "line": {
           "color": [
            "orangered",
            "orangered"
           ],
           "width": [
            2,
            2
           ]
          },
          "size": 6,
          "symbol": 0
         },
         "mode": "lines+text+markers",
         "opacity": 1,
         "showlegend": false,
         "type": "scatter",
         "x": [
          0,
          0.8056426332288402
         ],
         "xaxis": "x",
         "y": [
          "[17 - 22)",
          "[17 - 22)"
         ],
         "yaxis": "y"
        }
       ],
       "layout": {
        "annotations": [
         {
          "font": {
           "size": 12
          },
          "showarrow": false,
          "text": "education= Masters",
          "x": 0,
          "xanchor": "left",
          "xref": "paper",
          "y": 1,
          "yanchor": "bottom",
          "yref": "paper"
         }
        ],
        "height": 220,
        "template": {
         "data": {
          "bar": [
           {
            "error_x": {
             "color": "#2a3f5f"
            },
            "error_y": {
             "color": "#2a3f5f"
            },
            "marker": {
             "line": {
              "color": "#E5ECF6",
              "width": 0.5
             },
             "pattern": {
              "fillmode": "overlay",
              "size": 10,
              "solidity": 0.2
             }
            },
            "type": "bar"
           }
          ],
          "barpolar": [
           {
            "marker": {
             "line": {
              "color": "#E5ECF6",
              "width": 0.5
             },
             "pattern": {
              "fillmode": "overlay",
              "size": 10,
              "solidity": 0.2
             }
            },
            "type": "barpolar"
           }
          ],
          "carpet": [
           {
            "aaxis": {
             "endlinecolor": "#2a3f5f",
             "gridcolor": "white",
             "linecolor": "white",
             "minorgridcolor": "white",
             "startlinecolor": "#2a3f5f"
            },
            "baxis": {
             "endlinecolor": "#2a3f5f",
             "gridcolor": "white",
             "linecolor": "white",
             "minorgridcolor": "white",
             "startlinecolor": "#2a3f5f"
            },
            "type": "carpet"
           }
          ],
          "choropleth": [
           {
            "colorbar": {
             "outlinewidth": 0,
             "ticks": ""
            },
            "type": "choropleth"
           }
          ],
          "contour": [
           {
            "colorbar": {
             "outlinewidth": 0,
             "ticks": ""
            },
            "colorscale": [
             [
              0,
              "#0d0887"
             ],
             [
              0.1111111111111111,
              "#46039f"
             ],
             [
              0.2222222222222222,
              "#7201a8"
             ],
             [
              0.3333333333333333,
              "#9c179e"
             ],
             [
              0.4444444444444444,
              "#bd3786"
             ],
             [
              0.5555555555555556,
              "#d8576b"
             ],
             [
              0.6666666666666666,
              "#ed7953"
             ],
             [
              0.7777777777777778,
              "#fb9f3a"
             ],
             [
              0.8888888888888888,
              "#fdca26"
             ],
             [
              1,
              "#f0f921"
             ]
            ],
            "type": "contour"
           }
          ],
          "contourcarpet": [
           {
            "colorbar": {
             "outlinewidth": 0,
             "ticks": ""
            },
            "type": "contourcarpet"
           }
          ],
          "heatmap": [
           {
            "colorbar": {
             "outlinewidth": 0,
             "ticks": ""
            },
            "colorscale": [
             [
              0,
              "#0d0887"
             ],
             [
              0.1111111111111111,
              "#46039f"
             ],
             [
              0.2222222222222222,
              "#7201a8"
             ],
             [
              0.3333333333333333,
              "#9c179e"
             ],
             [
              0.4444444444444444,
              "#bd3786"
             ],
             [
              0.5555555555555556,
              "#d8576b"
             ],
             [
              0.6666666666666666,
              "#ed7953"
             ],
             [
              0.7777777777777778,
              "#fb9f3a"
             ],
             [
              0.8888888888888888,
              "#fdca26"
             ],
             [
              1,
              "#f0f921"
             ]
            ],
            "type": "heatmap"
           }
          ],
          "heatmapgl": [
           {
            "colorbar": {
             "outlinewidth": 0,
             "ticks": ""
            },
            "colorscale": [
             [
              0,
              "#0d0887"
             ],
             [
              0.1111111111111111,
              "#46039f"
             ],
             [
              0.2222222222222222,
              "#7201a8"
             ],
             [
              0.3333333333333333,
              "#9c179e"
             ],
             [
              0.4444444444444444,
              "#bd3786"
             ],
             [
              0.5555555555555556,
              "#d8576b"
             ],
             [
              0.6666666666666666,
              "#ed7953"
             ],
             [
              0.7777777777777778,
              "#fb9f3a"
             ],
             [
              0.8888888888888888,
              "#fdca26"
             ],
             [
              1,
              "#f0f921"
             ]
            ],
            "type": "heatmapgl"
           }
          ],
          "histogram": [
           {
            "marker": {
             "pattern": {
              "fillmode": "overlay",
              "size": 10,
              "solidity": 0.2
             }
            },
            "type": "histogram"
           }
          ],
          "histogram2d": [
           {
            "colorbar": {
             "outlinewidth": 0,
             "ticks": ""
            },
            "colorscale": [
             [
              0,
              "#0d0887"
             ],
             [
              0.1111111111111111,
              "#46039f"
             ],
             [
              0.2222222222222222,
              "#7201a8"
             ],
             [
              0.3333333333333333,
              "#9c179e"
             ],
             [
              0.4444444444444444,
              "#bd3786"
             ],
             [
              0.5555555555555556,
              "#d8576b"
             ],
             [
              0.6666666666666666,
              "#ed7953"
             ],
             [
              0.7777777777777778,
              "#fb9f3a"
             ],
             [
              0.8888888888888888,
              "#fdca26"
             ],
             [
              1,
              "#f0f921"
             ]
            ],
            "type": "histogram2d"
           }
          ],
          "histogram2dcontour": [
           {
            "colorbar": {
             "outlinewidth": 0,
             "ticks": ""
            },
            "colorscale": [
             [
              0,
              "#0d0887"
             ],
             [
              0.1111111111111111,
              "#46039f"
             ],
             [
              0.2222222222222222,
              "#7201a8"
             ],
             [
              0.3333333333333333,
              "#9c179e"
             ],
             [
              0.4444444444444444,
              "#bd3786"
             ],
             [
              0.5555555555555556,
              "#d8576b"
             ],
             [
              0.6666666666666666,
              "#ed7953"
             ],
             [
              0.7777777777777778,
              "#fb9f3a"
             ],
             [
              0.8888888888888888,
              "#fdca26"
             ],
             [
              1,
              "#f0f921"
             ]
            ],
            "type": "histogram2dcontour"
           }
          ],
          "mesh3d": [
           {
            "colorbar": {
             "outlinewidth": 0,
             "ticks": ""
            },
            "type": "mesh3d"
           }
          ],
          "parcoords": [
           {
            "line": {
             "colorbar": {
              "outlinewidth": 0,
              "ticks": ""
             }
            },
            "type": "parcoords"
           }
          ],
          "pie": [
           {
            "automargin": true,
            "type": "pie"
           }
          ],
          "scatter": [
           {
            "fillpattern": {
             "fillmode": "overlay",
             "size": 10,
             "solidity": 0.2
            },
            "type": "scatter"
           }
          ],
          "scatter3d": [
           {
            "line": {
             "colorbar": {
              "outlinewidth": 0,
              "ticks": ""
             }
            },
            "marker": {
             "colorbar": {
              "outlinewidth": 0,
              "ticks": ""
             }
            },
            "type": "scatter3d"
           }
          ],
          "scattercarpet": [
           {
            "marker": {
             "colorbar": {
              "outlinewidth": 0,
              "ticks": ""
             }
            },
            "type": "scattercarpet"
           }
          ],
          "scattergeo": [
           {
            "marker": {
             "colorbar": {
              "outlinewidth": 0,
              "ticks": ""
             }
            },
            "type": "scattergeo"
           }
          ],
          "scattergl": [
           {
            "marker": {
             "colorbar": {
              "outlinewidth": 0,
              "ticks": ""
             }
            },
            "type": "scattergl"
           }
          ],
          "scattermapbox": [
           {
            "marker": {
             "colorbar": {
              "outlinewidth": 0,
              "ticks": ""
             }
            },
            "type": "scattermapbox"
           }
          ],
          "scatterpolar": [
           {
            "marker": {
             "colorbar": {
              "outlinewidth": 0,
              "ticks": ""
             }
            },
            "type": "scatterpolar"
           }
          ],
          "scatterpolargl": [
           {
            "marker": {
             "colorbar": {
              "outlinewidth": 0,
              "ticks": ""
             }
            },
            "type": "scatterpolargl"
           }
          ],
          "scatterternary": [
           {
            "marker": {
             "colorbar": {
              "outlinewidth": 0,
              "ticks": ""
             }
            },
            "type": "scatterternary"
           }
          ],
          "surface": [
           {
            "colorbar": {
             "outlinewidth": 0,
             "ticks": ""
            },
            "colorscale": [
             [
              0,
              "#0d0887"
             ],
             [
              0.1111111111111111,
              "#46039f"
             ],
             [
              0.2222222222222222,
              "#7201a8"
             ],
             [
              0.3333333333333333,
              "#9c179e"
             ],
             [
              0.4444444444444444,
              "#bd3786"
             ],
             [
              0.5555555555555556,
              "#d8576b"
             ],
             [
              0.6666666666666666,
              "#ed7953"
             ],
             [
              0.7777777777777778,
              "#fb9f3a"
             ],
             [
              0.8888888888888888,
              "#fdca26"
             ],
             [
              1,
              "#f0f921"
             ]
            ],
            "type": "surface"
           }
          ],
          "table": [
           {
            "cells": {
             "fill": {
              "color": "#EBF0F8"
             },
             "line": {
              "color": "white"
             }
            },
            "header": {
             "fill": {
              "color": "#C8D4E3"
             },
             "line": {
              "color": "white"
             }
            },
            "type": "table"
           }
          ]
         },
         "layout": {
          "annotationdefaults": {
           "arrowcolor": "#2a3f5f",
           "arrowhead": 0,
           "arrowwidth": 1
          },
          "autotypenumbers": "strict",
          "coloraxis": {
           "colorbar": {
            "outlinewidth": 0,
            "ticks": ""
           }
          },
          "colorscale": {
           "diverging": [
            [
             0,
             "#8e0152"
            ],
            [
             0.1,
             "#c51b7d"
            ],
            [
             0.2,
             "#de77ae"
            ],
            [
             0.3,
             "#f1b6da"
            ],
            [
             0.4,
             "#fde0ef"
            ],
            [
             0.5,
             "#f7f7f7"
            ],
            [
             0.6,
             "#e6f5d0"
            ],
            [
             0.7,
             "#b8e186"
            ],
            [
             0.8,
             "#7fbc41"
            ],
            [
             0.9,
             "#4d9221"
            ],
            [
             1,
             "#276419"
            ]
           ],
           "sequential": [
            [
             0,
             "#0d0887"
            ],
            [
             0.1111111111111111,
             "#46039f"
            ],
            [
             0.2222222222222222,
             "#7201a8"
            ],
            [
             0.3333333333333333,
             "#9c179e"
            ],
            [
             0.4444444444444444,
             "#bd3786"
            ],
            [
             0.5555555555555556,
             "#d8576b"
            ],
            [
             0.6666666666666666,
             "#ed7953"
            ],
            [
             0.7777777777777778,
             "#fb9f3a"
            ],
            [
             0.8888888888888888,
             "#fdca26"
            ],
            [
             1,
             "#f0f921"
            ]
           ],
           "sequentialminus": [
            [
             0,
             "#0d0887"
            ],
            [
             0.1111111111111111,
             "#46039f"
            ],
            [
             0.2222222222222222,
             "#7201a8"
            ],
            [
             0.3333333333333333,
             "#9c179e"
            ],
            [
             0.4444444444444444,
             "#bd3786"
            ],
            [
             0.5555555555555556,
             "#d8576b"
            ],
            [
             0.6666666666666666,
             "#ed7953"
            ],
            [
             0.7777777777777778,
             "#fb9f3a"
            ],
            [
             0.8888888888888888,
             "#fdca26"
            ],
            [
             1,
             "#f0f921"
            ]
           ]
          },
          "colorway": [
           "#636efa",
           "#EF553B",
           "#00cc96",
           "#ab63fa",
           "#FFA15A",
           "#19d3f3",
           "#FF6692",
           "#B6E880",
           "#FF97FF",
           "#FECB52"
          ],
          "font": {
           "color": "#2a3f5f"
          },
          "geo": {
           "bgcolor": "white",
           "lakecolor": "white",
           "landcolor": "#E5ECF6",
           "showlakes": true,
           "showland": true,
           "subunitcolor": "white"
          },
          "hoverlabel": {
           "align": "left"
          },
          "hovermode": "closest",
          "mapbox": {
           "style": "light"
          },
          "paper_bgcolor": "white",
          "plot_bgcolor": "#E5ECF6",
          "polar": {
           "angularaxis": {
            "gridcolor": "white",
            "linecolor": "white",
            "ticks": ""
           },
           "bgcolor": "#E5ECF6",
           "radialaxis": {
            "gridcolor": "white",
            "linecolor": "white",
            "ticks": ""
           }
          },
          "scene": {
           "xaxis": {
            "backgroundcolor": "#E5ECF6",
            "gridcolor": "white",
            "gridwidth": 2,
            "linecolor": "white",
            "showbackground": true,
            "ticks": "",
            "zerolinecolor": "white"
           },
           "yaxis": {
            "backgroundcolor": "#E5ECF6",
            "gridcolor": "white",
            "gridwidth": 2,
            "linecolor": "white",
            "showbackground": true,
            "ticks": "",
            "zerolinecolor": "white"
           },
           "zaxis": {
            "backgroundcolor": "#E5ECF6",
            "gridcolor": "white",
            "gridwidth": 2,
            "linecolor": "white",
            "showbackground": true,
            "ticks": "",
            "zerolinecolor": "white"
           }
          },
          "shapedefaults": {
           "line": {
            "color": "#2a3f5f"
           }
          },
          "ternary": {
           "aaxis": {
            "gridcolor": "white",
            "linecolor": "white",
            "ticks": ""
           },
           "baxis": {
            "gridcolor": "white",
            "linecolor": "white",
            "ticks": ""
           },
           "bgcolor": "#E5ECF6",
           "caxis": {
            "gridcolor": "white",
            "linecolor": "white",
            "ticks": ""
           }
          },
          "title": {
           "x": 0.05
          },
          "xaxis": {
           "automargin": true,
           "gridcolor": "white",
           "linecolor": "white",
           "ticks": "",
           "title": {
            "standoff": 15
           },
           "zerolinecolor": "white",
           "zerolinewidth": 2
          },
          "yaxis": {
           "automargin": true,
           "gridcolor": "white",
           "linecolor": "white",
           "ticks": "",
           "title": {
            "standoff": 15
           },
           "zerolinecolor": "white",
           "zerolinewidth": 2
          }
         }
        },
        "title": {
         "text": "Largest performance differences within education categories<br><sup>(Showing 1/10 age levels per plot and 1/9 education categories)</sup>"
        },
        "xaxis": {
         "anchor": "y",
         "domain": [
          0,
          1
         ],
         "title": {
          "text": "f1 score"
         }
        },
        "yaxis": {
         "anchor": "x",
         "domain": [
          0,
          1
         ],
         "tickmode": "linear",
         "title": {
          "text": "age"
         }
        }
       }
      }
     },
     "metadata": {},
     "output_type": "display_data"
    }
   ],
   "source": [
    "check = PerformanceDisparityReport(protected_feature=\"age\", control_feature=\"education\", scorer=\"f1\", max_subgroups_per_category_to_display=1, max_categories_to_display=1)\n",
    "res = check.run(dataset, model=model)\n",
    "res.display[0].show(rendered=\"svg\")"
   ]
  },
  {
   "cell_type": "code",
   "execution_count": 7,
   "metadata": {},
   "outputs": [
    {
     "name": "stderr",
     "output_type": "stream",
     "text": [
      "/home/olivieratduke/anaconda3/envs/deepchecks/lib/python3.9/site-packages/sklearn/metrics/_classification.py:1609: UndefinedMetricWarning:\n",
      "\n",
      "F-score is ill-defined and being set to 0.0 due to no true nor predicted samples. Use `zero_division` parameter to control this behavior.\n",
      "\n",
      "/home/olivieratduke/anaconda3/envs/deepchecks/lib/python3.9/site-packages/sklearn/metrics/_classification.py:1609: UndefinedMetricWarning:\n",
      "\n",
      "F-score is ill-defined and being set to 0.0 due to no true nor predicted samples. Use `zero_division` parameter to control this behavior.\n",
      "\n",
      "/home/olivieratduke/anaconda3/envs/deepchecks/lib/python3.9/site-packages/sklearn/metrics/_classification.py:1609: UndefinedMetricWarning:\n",
      "\n",
      "F-score is ill-defined and being set to 0.0 due to no true nor predicted samples. Use `zero_division` parameter to control this behavior.\n",
      "\n",
      "/home/olivieratduke/anaconda3/envs/deepchecks/lib/python3.9/site-packages/sklearn/metrics/_classification.py:1609: UndefinedMetricWarning:\n",
      "\n",
      "F-score is ill-defined and being set to 0.0 due to no true nor predicted samples. Use `zero_division` parameter to control this behavior.\n",
      "\n",
      "/home/olivieratduke/anaconda3/envs/deepchecks/lib/python3.9/site-packages/sklearn/metrics/_classification.py:1609: UndefinedMetricWarning:\n",
      "\n",
      "F-score is ill-defined and being set to 0.0 due to no true nor predicted samples. Use `zero_division` parameter to control this behavior.\n",
      "\n",
      "/home/olivieratduke/anaconda3/envs/deepchecks/lib/python3.9/site-packages/sklearn/metrics/_classification.py:1609: UndefinedMetricWarning:\n",
      "\n",
      "F-score is ill-defined and being set to 0.0 due to no true nor predicted samples. Use `zero_division` parameter to control this behavior.\n",
      "\n"
     ]
    },
    {
     "data": {
      "application/vnd.plotly.v1+json": {
       "config": {
        "plotlyServerURL": "https://plot.ly"
       },
       "data": [
        {
         "cliponaxis": false,
         "hovertemplate": [
          "%{y}: %{x} (group size: 3)<extra></extra>",
          "baseline: %{x} (group size: 1723)<extra></extra>"
         ],
         "line": {
          "color": "orangered",
          "width": 8
         },
         "marker": {
          "color": [
           "white",
           "#222222"
          ],
          "line": {
           "color": [
            "orangered",
            "orangered"
           ],
           "width": [
            2,
            2
           ]
          },
          "size": 6,
          "symbol": 0
         },
         "mode": "lines+text+markers",
         "opacity": 1,
         "showlegend": false,
         "type": "scatter",
         "x": [
          0,
          0.8056426332288402
         ],
         "xaxis": "x",
         "y": [
          "[17 - 22)",
          "[17 - 22)"
         ],
         "yaxis": "y"
        },
        {
         "cliponaxis": false,
         "hovertemplate": [
          "%{y}: %{x} (group size: 190)<extra></extra>",
          "baseline: %{x} (group size: 3134)<extra></extra>"
         ],
         "line": {
          "color": "orangered",
          "width": 8
         },
         "marker": {
          "color": [
           "white",
           "#222222"
          ],
          "line": {
           "color": [
            "orangered",
            "orangered"
           ],
           "width": [
            2,
            2
           ]
          },
          "size": 6,
          "symbol": 0
         },
         "mode": "lines+text+markers",
         "opacity": 1,
         "showlegend": false,
         "type": "scatter",
         "x": [
          0,
          0.802030456852792
         ],
         "xaxis": "x2",
         "y": [
          "[22 - 26)",
          "[22 - 26)"
         ],
         "yaxis": "y2"
        },
        {
         "cliponaxis": false,
         "hovertemplate": [
          "%{y}: %{x} (group size: 10)<extra></extra>",
          "baseline: %{x} (group size: 5355)<extra></extra>"
         ],
         "line": {
          "color": "orangered",
          "width": 8
         },
         "marker": {
          "color": [
           "white",
           "#222222"
          ],
          "line": {
           "color": [
            "orangered",
            "orangered"
           ],
           "width": [
            2,
            2
           ]
          },
          "size": 6,
          "symbol": 0
         },
         "mode": "lines+text+markers",
         "opacity": 1,
         "showlegend": false,
         "type": "scatter",
         "x": [
          0,
          0.7558918918918918
         ],
         "xaxis": "x3",
         "y": [
          "[17 - 22)",
          "[17 - 22)"
         ],
         "yaxis": "y3"
        },
        {
         "cliponaxis": false,
         "hovertemplate": [
          "%{y}: %{x} (group size: 434)<extra></extra>",
          "baseline: %{x} (group size: 1175)<extra></extra>"
         ],
         "line": {
          "color": "orangered",
          "width": 8
         },
         "marker": {
          "color": [
           "white",
           "#222222"
          ],
          "line": {
           "color": [
            "orangered",
            "orangered"
           ],
           "width": [
            2,
            2
           ]
          },
          "size": 6,
          "symbol": 0
         },
         "mode": "lines+text+markers",
         "opacity": 1,
         "showlegend": false,
         "type": "scatter",
         "x": [
          0,
          0.4415584415584416
         ],
         "xaxis": "x4",
         "y": [
          "[17 - 22)",
          "[17 - 22)"
         ],
         "yaxis": "y4"
        },
        {
         "cliponaxis": false,
         "hovertemplate": [
          "%{y}: %{x} (group size: 35)<extra></extra>",
          "baseline: %{x} (group size: 1067)<extra></extra>"
         ],
         "line": {
          "color": "orangered",
          "width": 8
         },
         "marker": {
          "color": [
           "white",
           "#222222"
          ],
          "line": {
           "color": [
            "orangered",
            "orangered"
           ],
           "width": [
            2,
            2
           ]
          },
          "size": 6,
          "symbol": 0
         },
         "mode": "lines+text+markers",
         "opacity": 1,
         "showlegend": false,
         "type": "scatter",
         "x": [
          0,
          0.33855799373040757
         ],
         "xaxis": "x5",
         "y": [
          "[17 - 22)",
          "[17 - 22)"
         ],
         "yaxis": "y5"
        },
        {
         "cliponaxis": false,
         "hovertemplate": [
          "%{y}: %{x} (group size: 42)<extra></extra>",
          "baseline: %{x} (group size: 1382)<extra></extra>"
         ],
         "line": {
          "color": "orangered",
          "width": 8
         },
         "marker": {
          "color": [
           "white",
           "#222222"
          ],
          "line": {
           "color": [
            "orangered",
            "orangered"
           ],
           "width": [
            2,
            2
           ]
          },
          "size": 6,
          "symbol": 0
         },
         "mode": "lines+text+markers",
         "opacity": 1,
         "showlegend": false,
         "type": "scatter",
         "x": [
          0,
          0.3076923076923077
         ],
         "xaxis": "x6",
         "y": [
          "[17 - 22)",
          "[17 - 22)"
         ],
         "yaxis": "y6"
        },
        {
         "cliponaxis": false,
         "hovertemplate": [
          "%{y}: %{x} (group size: 888)<extra></extra>",
          "baseline: %{x} (group size: 10501)<extra></extra>"
         ],
         "line": {
          "color": "orangered",
          "width": 8
         },
         "marker": {
          "color": [
           "white",
           "#222222"
          ],
          "line": {
           "color": [
            "orangered",
            "orangered"
           ],
           "width": [
            2,
            2
           ]
          },
          "size": 6,
          "symbol": 0
         },
         "mode": "lines+text+markers",
         "opacity": 1,
         "showlegend": false,
         "type": "scatter",
         "x": [
          0,
          0.27146529562982
         ],
         "xaxis": "x7",
         "y": [
          "[17 - 22)",
          "[17 - 22)"
         ],
         "yaxis": "y7"
        },
        {
         "cliponaxis": false,
         "hovertemplate": [
          "%{y}: %{x} (group size: 70)<extra></extra>",
          "baseline: %{x} (group size: 933)<extra></extra>"
         ],
         "line": {
          "color": "orangered",
          "width": 8
         },
         "marker": {
          "color": [
           "white",
           "#222222"
          ],
          "line": {
           "color": [
            "orangered",
            "orangered"
           ],
           "width": [
            2,
            2
           ]
          },
          "size": 6,
          "symbol": 0
         },
         "mode": "lines+text+markers",
         "opacity": 1,
         "showlegend": false,
         "type": "scatter",
         "x": [
          0,
          0.2028985507246377
         ],
         "xaxis": "x8",
         "y": [
          "[33 - 37)",
          "[33 - 37)"
         ],
         "yaxis": "y8"
        },
        {
         "cliponaxis": false,
         "hovertemplate": [
          "%{y}: %{x} (group size: 679)<extra></extra>",
          "baseline: %{x} (group size: 7291)<extra></extra>"
         ],
         "line": {
          "color": "orangered",
          "width": 8
         },
         "marker": {
          "color": [
           "white",
           "#222222"
          ],
          "line": {
           "color": [
            "orangered",
            "orangered"
           ],
           "width": [
            2,
            2
           ]
          },
          "size": 6,
          "symbol": 0
         },
         "mode": "lines+text+markers",
         "opacity": 1,
         "showlegend": false,
         "type": "scatter",
         "x": [
          0.18666666666666665,
          0.29307173513182094
         ],
         "xaxis": "x9",
         "y": [
          "[26 - 30)",
          "[26 - 30)"
         ],
         "yaxis": "y9"
        }
       ],
       "layout": {
        "annotations": [
         {
          "font": {
           "size": 12
          },
          "showarrow": false,
          "text": "education= Masters",
          "x": 0,
          "xanchor": "left",
          "xref": "paper",
          "y": 1,
          "yanchor": "bottom",
          "yref": "paper"
         },
         {
          "font": {
           "size": 12
          },
          "showarrow": false,
          "text": "education=Others",
          "x": 0,
          "xanchor": "left",
          "xref": "paper",
          "y": 0.8860082304526748,
          "yanchor": "bottom",
          "yref": "paper"
         },
         {
          "font": {
           "size": 12
          },
          "showarrow": false,
          "text": "education= Bachelors",
          "x": 0,
          "xanchor": "left",
          "xref": "paper",
          "y": 0.7720164609053499,
          "yanchor": "bottom",
          "yref": "paper"
         },
         {
          "font": {
           "size": 12
          },
          "showarrow": false,
          "text": "education= 11th",
          "x": 0,
          "xanchor": "left",
          "xref": "paper",
          "y": 0.6580246913580248,
          "yanchor": "bottom",
          "yref": "paper"
         },
         {
          "font": {
           "size": 12
          },
          "showarrow": false,
          "text": "education= Assoc-acdm",
          "x": 0,
          "xanchor": "left",
          "xref": "paper",
          "y": 0.5440329218106996,
          "yanchor": "bottom",
          "yref": "paper"
         },
         {
          "font": {
           "size": 12
          },
          "showarrow": false,
          "text": "education= Assoc-voc",
          "x": 0,
          "xanchor": "left",
          "xref": "paper",
          "y": 0.4300411522633745,
          "yanchor": "bottom",
          "yref": "paper"
         },
         {
          "font": {
           "size": 12
          },
          "showarrow": false,
          "text": "education= HS-grad",
          "x": 0,
          "xanchor": "left",
          "xref": "paper",
          "y": 0.31604938271604943,
          "yanchor": "bottom",
          "yref": "paper"
         },
         {
          "font": {
           "size": 12
          },
          "showarrow": false,
          "text": "education= 10th",
          "x": 0,
          "xanchor": "left",
          "xref": "paper",
          "y": 0.20205761316872428,
          "yanchor": "bottom",
          "yref": "paper"
         },
         {
          "font": {
           "size": 12
          },
          "showarrow": false,
          "text": "education= Some-college",
          "x": 0,
          "xanchor": "left",
          "xref": "paper",
          "y": 0.08806584362139919,
          "yanchor": "bottom",
          "yref": "paper"
         }
        ],
        "height": 780,
        "template": {
         "data": {
          "bar": [
           {
            "error_x": {
             "color": "#2a3f5f"
            },
            "error_y": {
             "color": "#2a3f5f"
            },
            "marker": {
             "line": {
              "color": "#E5ECF6",
              "width": 0.5
             },
             "pattern": {
              "fillmode": "overlay",
              "size": 10,
              "solidity": 0.2
             }
            },
            "type": "bar"
           }
          ],
          "barpolar": [
           {
            "marker": {
             "line": {
              "color": "#E5ECF6",
              "width": 0.5
             },
             "pattern": {
              "fillmode": "overlay",
              "size": 10,
              "solidity": 0.2
             }
            },
            "type": "barpolar"
           }
          ],
          "carpet": [
           {
            "aaxis": {
             "endlinecolor": "#2a3f5f",
             "gridcolor": "white",
             "linecolor": "white",
             "minorgridcolor": "white",
             "startlinecolor": "#2a3f5f"
            },
            "baxis": {
             "endlinecolor": "#2a3f5f",
             "gridcolor": "white",
             "linecolor": "white",
             "minorgridcolor": "white",
             "startlinecolor": "#2a3f5f"
            },
            "type": "carpet"
           }
          ],
          "choropleth": [
           {
            "colorbar": {
             "outlinewidth": 0,
             "ticks": ""
            },
            "type": "choropleth"
           }
          ],
          "contour": [
           {
            "colorbar": {
             "outlinewidth": 0,
             "ticks": ""
            },
            "colorscale": [
             [
              0,
              "#0d0887"
             ],
             [
              0.1111111111111111,
              "#46039f"
             ],
             [
              0.2222222222222222,
              "#7201a8"
             ],
             [
              0.3333333333333333,
              "#9c179e"
             ],
             [
              0.4444444444444444,
              "#bd3786"
             ],
             [
              0.5555555555555556,
              "#d8576b"
             ],
             [
              0.6666666666666666,
              "#ed7953"
             ],
             [
              0.7777777777777778,
              "#fb9f3a"
             ],
             [
              0.8888888888888888,
              "#fdca26"
             ],
             [
              1,
              "#f0f921"
             ]
            ],
            "type": "contour"
           }
          ],
          "contourcarpet": [
           {
            "colorbar": {
             "outlinewidth": 0,
             "ticks": ""
            },
            "type": "contourcarpet"
           }
          ],
          "heatmap": [
           {
            "colorbar": {
             "outlinewidth": 0,
             "ticks": ""
            },
            "colorscale": [
             [
              0,
              "#0d0887"
             ],
             [
              0.1111111111111111,
              "#46039f"
             ],
             [
              0.2222222222222222,
              "#7201a8"
             ],
             [
              0.3333333333333333,
              "#9c179e"
             ],
             [
              0.4444444444444444,
              "#bd3786"
             ],
             [
              0.5555555555555556,
              "#d8576b"
             ],
             [
              0.6666666666666666,
              "#ed7953"
             ],
             [
              0.7777777777777778,
              "#fb9f3a"
             ],
             [
              0.8888888888888888,
              "#fdca26"
             ],
             [
              1,
              "#f0f921"
             ]
            ],
            "type": "heatmap"
           }
          ],
          "heatmapgl": [
           {
            "colorbar": {
             "outlinewidth": 0,
             "ticks": ""
            },
            "colorscale": [
             [
              0,
              "#0d0887"
             ],
             [
              0.1111111111111111,
              "#46039f"
             ],
             [
              0.2222222222222222,
              "#7201a8"
             ],
             [
              0.3333333333333333,
              "#9c179e"
             ],
             [
              0.4444444444444444,
              "#bd3786"
             ],
             [
              0.5555555555555556,
              "#d8576b"
             ],
             [
              0.6666666666666666,
              "#ed7953"
             ],
             [
              0.7777777777777778,
              "#fb9f3a"
             ],
             [
              0.8888888888888888,
              "#fdca26"
             ],
             [
              1,
              "#f0f921"
             ]
            ],
            "type": "heatmapgl"
           }
          ],
          "histogram": [
           {
            "marker": {
             "pattern": {
              "fillmode": "overlay",
              "size": 10,
              "solidity": 0.2
             }
            },
            "type": "histogram"
           }
          ],
          "histogram2d": [
           {
            "colorbar": {
             "outlinewidth": 0,
             "ticks": ""
            },
            "colorscale": [
             [
              0,
              "#0d0887"
             ],
             [
              0.1111111111111111,
              "#46039f"
             ],
             [
              0.2222222222222222,
              "#7201a8"
             ],
             [
              0.3333333333333333,
              "#9c179e"
             ],
             [
              0.4444444444444444,
              "#bd3786"
             ],
             [
              0.5555555555555556,
              "#d8576b"
             ],
             [
              0.6666666666666666,
              "#ed7953"
             ],
             [
              0.7777777777777778,
              "#fb9f3a"
             ],
             [
              0.8888888888888888,
              "#fdca26"
             ],
             [
              1,
              "#f0f921"
             ]
            ],
            "type": "histogram2d"
           }
          ],
          "histogram2dcontour": [
           {
            "colorbar": {
             "outlinewidth": 0,
             "ticks": ""
            },
            "colorscale": [
             [
              0,
              "#0d0887"
             ],
             [
              0.1111111111111111,
              "#46039f"
             ],
             [
              0.2222222222222222,
              "#7201a8"
             ],
             [
              0.3333333333333333,
              "#9c179e"
             ],
             [
              0.4444444444444444,
              "#bd3786"
             ],
             [
              0.5555555555555556,
              "#d8576b"
             ],
             [
              0.6666666666666666,
              "#ed7953"
             ],
             [
              0.7777777777777778,
              "#fb9f3a"
             ],
             [
              0.8888888888888888,
              "#fdca26"
             ],
             [
              1,
              "#f0f921"
             ]
            ],
            "type": "histogram2dcontour"
           }
          ],
          "mesh3d": [
           {
            "colorbar": {
             "outlinewidth": 0,
             "ticks": ""
            },
            "type": "mesh3d"
           }
          ],
          "parcoords": [
           {
            "line": {
             "colorbar": {
              "outlinewidth": 0,
              "ticks": ""
             }
            },
            "type": "parcoords"
           }
          ],
          "pie": [
           {
            "automargin": true,
            "type": "pie"
           }
          ],
          "scatter": [
           {
            "fillpattern": {
             "fillmode": "overlay",
             "size": 10,
             "solidity": 0.2
            },
            "type": "scatter"
           }
          ],
          "scatter3d": [
           {
            "line": {
             "colorbar": {
              "outlinewidth": 0,
              "ticks": ""
             }
            },
            "marker": {
             "colorbar": {
              "outlinewidth": 0,
              "ticks": ""
             }
            },
            "type": "scatter3d"
           }
          ],
          "scattercarpet": [
           {
            "marker": {
             "colorbar": {
              "outlinewidth": 0,
              "ticks": ""
             }
            },
            "type": "scattercarpet"
           }
          ],
          "scattergeo": [
           {
            "marker": {
             "colorbar": {
              "outlinewidth": 0,
              "ticks": ""
             }
            },
            "type": "scattergeo"
           }
          ],
          "scattergl": [
           {
            "marker": {
             "colorbar": {
              "outlinewidth": 0,
              "ticks": ""
             }
            },
            "type": "scattergl"
           }
          ],
          "scattermapbox": [
           {
            "marker": {
             "colorbar": {
              "outlinewidth": 0,
              "ticks": ""
             }
            },
            "type": "scattermapbox"
           }
          ],
          "scatterpolar": [
           {
            "marker": {
             "colorbar": {
              "outlinewidth": 0,
              "ticks": ""
             }
            },
            "type": "scatterpolar"
           }
          ],
          "scatterpolargl": [
           {
            "marker": {
             "colorbar": {
              "outlinewidth": 0,
              "ticks": ""
             }
            },
            "type": "scatterpolargl"
           }
          ],
          "scatterternary": [
           {
            "marker": {
             "colorbar": {
              "outlinewidth": 0,
              "ticks": ""
             }
            },
            "type": "scatterternary"
           }
          ],
          "surface": [
           {
            "colorbar": {
             "outlinewidth": 0,
             "ticks": ""
            },
            "colorscale": [
             [
              0,
              "#0d0887"
             ],
             [
              0.1111111111111111,
              "#46039f"
             ],
             [
              0.2222222222222222,
              "#7201a8"
             ],
             [
              0.3333333333333333,
              "#9c179e"
             ],
             [
              0.4444444444444444,
              "#bd3786"
             ],
             [
              0.5555555555555556,
              "#d8576b"
             ],
             [
              0.6666666666666666,
              "#ed7953"
             ],
             [
              0.7777777777777778,
              "#fb9f3a"
             ],
             [
              0.8888888888888888,
              "#fdca26"
             ],
             [
              1,
              "#f0f921"
             ]
            ],
            "type": "surface"
           }
          ],
          "table": [
           {
            "cells": {
             "fill": {
              "color": "#EBF0F8"
             },
             "line": {
              "color": "white"
             }
            },
            "header": {
             "fill": {
              "color": "#C8D4E3"
             },
             "line": {
              "color": "white"
             }
            },
            "type": "table"
           }
          ]
         },
         "layout": {
          "annotationdefaults": {
           "arrowcolor": "#2a3f5f",
           "arrowhead": 0,
           "arrowwidth": 1
          },
          "autotypenumbers": "strict",
          "coloraxis": {
           "colorbar": {
            "outlinewidth": 0,
            "ticks": ""
           }
          },
          "colorscale": {
           "diverging": [
            [
             0,
             "#8e0152"
            ],
            [
             0.1,
             "#c51b7d"
            ],
            [
             0.2,
             "#de77ae"
            ],
            [
             0.3,
             "#f1b6da"
            ],
            [
             0.4,
             "#fde0ef"
            ],
            [
             0.5,
             "#f7f7f7"
            ],
            [
             0.6,
             "#e6f5d0"
            ],
            [
             0.7,
             "#b8e186"
            ],
            [
             0.8,
             "#7fbc41"
            ],
            [
             0.9,
             "#4d9221"
            ],
            [
             1,
             "#276419"
            ]
           ],
           "sequential": [
            [
             0,
             "#0d0887"
            ],
            [
             0.1111111111111111,
             "#46039f"
            ],
            [
             0.2222222222222222,
             "#7201a8"
            ],
            [
             0.3333333333333333,
             "#9c179e"
            ],
            [
             0.4444444444444444,
             "#bd3786"
            ],
            [
             0.5555555555555556,
             "#d8576b"
            ],
            [
             0.6666666666666666,
             "#ed7953"
            ],
            [
             0.7777777777777778,
             "#fb9f3a"
            ],
            [
             0.8888888888888888,
             "#fdca26"
            ],
            [
             1,
             "#f0f921"
            ]
           ],
           "sequentialminus": [
            [
             0,
             "#0d0887"
            ],
            [
             0.1111111111111111,
             "#46039f"
            ],
            [
             0.2222222222222222,
             "#7201a8"
            ],
            [
             0.3333333333333333,
             "#9c179e"
            ],
            [
             0.4444444444444444,
             "#bd3786"
            ],
            [
             0.5555555555555556,
             "#d8576b"
            ],
            [
             0.6666666666666666,
             "#ed7953"
            ],
            [
             0.7777777777777778,
             "#fb9f3a"
            ],
            [
             0.8888888888888888,
             "#fdca26"
            ],
            [
             1,
             "#f0f921"
            ]
           ]
          },
          "colorway": [
           "#636efa",
           "#EF553B",
           "#00cc96",
           "#ab63fa",
           "#FFA15A",
           "#19d3f3",
           "#FF6692",
           "#B6E880",
           "#FF97FF",
           "#FECB52"
          ],
          "font": {
           "color": "#2a3f5f"
          },
          "geo": {
           "bgcolor": "white",
           "lakecolor": "white",
           "landcolor": "#E5ECF6",
           "showlakes": true,
           "showland": true,
           "subunitcolor": "white"
          },
          "hoverlabel": {
           "align": "left"
          },
          "hovermode": "closest",
          "mapbox": {
           "style": "light"
          },
          "paper_bgcolor": "white",
          "plot_bgcolor": "#E5ECF6",
          "polar": {
           "angularaxis": {
            "gridcolor": "white",
            "linecolor": "white",
            "ticks": ""
           },
           "bgcolor": "#E5ECF6",
           "radialaxis": {
            "gridcolor": "white",
            "linecolor": "white",
            "ticks": ""
           }
          },
          "scene": {
           "xaxis": {
            "backgroundcolor": "#E5ECF6",
            "gridcolor": "white",
            "gridwidth": 2,
            "linecolor": "white",
            "showbackground": true,
            "ticks": "",
            "zerolinecolor": "white"
           },
           "yaxis": {
            "backgroundcolor": "#E5ECF6",
            "gridcolor": "white",
            "gridwidth": 2,
            "linecolor": "white",
            "showbackground": true,
            "ticks": "",
            "zerolinecolor": "white"
           },
           "zaxis": {
            "backgroundcolor": "#E5ECF6",
            "gridcolor": "white",
            "gridwidth": 2,
            "linecolor": "white",
            "showbackground": true,
            "ticks": "",
            "zerolinecolor": "white"
           }
          },
          "shapedefaults": {
           "line": {
            "color": "#2a3f5f"
           }
          },
          "ternary": {
           "aaxis": {
            "gridcolor": "white",
            "linecolor": "white",
            "ticks": ""
           },
           "baxis": {
            "gridcolor": "white",
            "linecolor": "white",
            "ticks": ""
           },
           "bgcolor": "#E5ECF6",
           "caxis": {
            "gridcolor": "white",
            "linecolor": "white",
            "ticks": ""
           }
          },
          "title": {
           "x": 0.05
          },
          "xaxis": {
           "automargin": true,
           "gridcolor": "white",
           "linecolor": "white",
           "ticks": "",
           "title": {
            "standoff": 15
           },
           "zerolinecolor": "white",
           "zerolinewidth": 2
          },
          "yaxis": {
           "automargin": true,
           "gridcolor": "white",
           "linecolor": "white",
           "ticks": "",
           "title": {
            "standoff": 15
           },
           "zerolinecolor": "white",
           "zerolinewidth": 2
          }
         }
        },
        "title": {
         "text": "Largest performance differences within education categories<br><sup>(Showing 1/10 age levels per plot and 9/9 education categories)</sup>"
        },
        "xaxis": {
         "anchor": "y",
         "domain": [
          0,
          1
         ],
         "matches": "x9",
         "showticklabels": false
        },
        "xaxis2": {
         "anchor": "y2",
         "domain": [
          0,
          1
         ],
         "matches": "x9",
         "showticklabels": false
        },
        "xaxis3": {
         "anchor": "y3",
         "domain": [
          0,
          1
         ],
         "matches": "x9",
         "showticklabels": false
        },
        "xaxis4": {
         "anchor": "y4",
         "domain": [
          0,
          1
         ],
         "matches": "x9",
         "showticklabels": false
        },
        "xaxis5": {
         "anchor": "y5",
         "domain": [
          0,
          1
         ],
         "matches": "x9",
         "showticklabels": false
        },
        "xaxis6": {
         "anchor": "y6",
         "domain": [
          0,
          1
         ],
         "matches": "x9",
         "showticklabels": false
        },
        "xaxis7": {
         "anchor": "y7",
         "domain": [
          0,
          1
         ],
         "matches": "x9",
         "showticklabels": false
        },
        "xaxis8": {
         "anchor": "y8",
         "domain": [
          0,
          1
         ],
         "matches": "x9",
         "showticklabels": false
        },
        "xaxis9": {
         "anchor": "y9",
         "domain": [
          0,
          1
         ],
         "title": {
          "text": "f1 score"
         }
        },
        "yaxis": {
         "anchor": "x",
         "domain": [
          0.9119341563786009,
          1
         ],
         "tickmode": "linear",
         "title": {
          "text": "age"
         }
        },
        "yaxis2": {
         "anchor": "x2",
         "domain": [
          0.7979423868312757,
          0.8860082304526748
         ],
         "tickmode": "linear",
         "title": {
          "text": "age"
         }
        },
        "yaxis3": {
         "anchor": "x3",
         "domain": [
          0.6839506172839507,
          0.7720164609053499
         ],
         "tickmode": "linear",
         "title": {
          "text": "age"
         }
        },
        "yaxis4": {
         "anchor": "x4",
         "domain": [
          0.5699588477366255,
          0.6580246913580248
         ],
         "tickmode": "linear",
         "title": {
          "text": "age"
         }
        },
        "yaxis5": {
         "anchor": "x5",
         "domain": [
          0.45596707818930043,
          0.5440329218106996
         ],
         "tickmode": "linear",
         "title": {
          "text": "age"
         }
        },
        "yaxis6": {
         "anchor": "x6",
         "domain": [
          0.34197530864197534,
          0.4300411522633745
         ],
         "tickmode": "linear",
         "title": {
          "text": "age"
         }
        },
        "yaxis7": {
         "anchor": "x7",
         "domain": [
          0.22798353909465022,
          0.31604938271604943
         ],
         "tickmode": "linear",
         "title": {
          "text": "age"
         }
        },
        "yaxis8": {
         "anchor": "x8",
         "domain": [
          0.11399176954732511,
          0.20205761316872428
         ],
         "tickmode": "linear",
         "title": {
          "text": "age"
         }
        },
        "yaxis9": {
         "anchor": "x9",
         "domain": [
          0,
          0.08806584362139919
         ],
         "tickmode": "linear",
         "title": {
          "text": "age"
         }
        }
       }
      }
     },
     "metadata": {},
     "output_type": "display_data"
    }
   ],
   "source": [
    "check = PerformanceDisparityReport(protected_feature=\"age\", control_feature=\"education\", scorer=\"f1\", max_subgroups_per_category_to_display=1, max_categories_to_display=10)\n",
    "res = check.run(dataset, model=model)\n",
    "res.display[0].show(rendered=\"svg\")"
   ]
  },
  {
   "cell_type": "code",
   "execution_count": 8,
   "metadata": {},
   "outputs": [
    {
     "name": "stderr",
     "output_type": "stream",
     "text": [
      "/home/olivieratduke/anaconda3/envs/deepchecks/lib/python3.9/site-packages/sklearn/metrics/_classification.py:1609: UndefinedMetricWarning:\n",
      "\n",
      "F-score is ill-defined and being set to 0.0 due to no true nor predicted samples. Use `zero_division` parameter to control this behavior.\n",
      "\n",
      "/home/olivieratduke/anaconda3/envs/deepchecks/lib/python3.9/site-packages/sklearn/metrics/_classification.py:1609: UndefinedMetricWarning:\n",
      "\n",
      "F-score is ill-defined and being set to 0.0 due to no true nor predicted samples. Use `zero_division` parameter to control this behavior.\n",
      "\n",
      "/home/olivieratduke/anaconda3/envs/deepchecks/lib/python3.9/site-packages/sklearn/metrics/_classification.py:1609: UndefinedMetricWarning:\n",
      "\n",
      "F-score is ill-defined and being set to 0.0 due to no true nor predicted samples. Use `zero_division` parameter to control this behavior.\n",
      "\n",
      "/home/olivieratduke/anaconda3/envs/deepchecks/lib/python3.9/site-packages/sklearn/metrics/_classification.py:1609: UndefinedMetricWarning:\n",
      "\n",
      "F-score is ill-defined and being set to 0.0 due to no true nor predicted samples. Use `zero_division` parameter to control this behavior.\n",
      "\n",
      "/home/olivieratduke/anaconda3/envs/deepchecks/lib/python3.9/site-packages/sklearn/metrics/_classification.py:1609: UndefinedMetricWarning:\n",
      "\n",
      "F-score is ill-defined and being set to 0.0 due to no true nor predicted samples. Use `zero_division` parameter to control this behavior.\n",
      "\n",
      "/home/olivieratduke/anaconda3/envs/deepchecks/lib/python3.9/site-packages/sklearn/metrics/_classification.py:1609: UndefinedMetricWarning:\n",
      "\n",
      "F-score is ill-defined and being set to 0.0 due to no true nor predicted samples. Use `zero_division` parameter to control this behavior.\n",
      "\n"
     ]
    },
    {
     "data": {
      "application/vnd.plotly.v1+json": {
       "config": {
        "plotlyServerURL": "https://plot.ly"
       },
       "data": [
        {
         "cliponaxis": false,
         "hovertemplate": [
          "%{y}: %{x} (group size: 290)<extra></extra>",
          "baseline: %{x} (group size: 1723)<extra></extra>"
         ],
         "line": {
          "color": "limegreen",
          "width": 8
         },
         "marker": {
          "color": [
           "white",
           "#222222"
          ],
          "line": {
           "color": [
            "limegreen",
            "limegreen"
           ],
           "width": [
            2,
            2
           ]
          },
          "size": 6,
          "symbol": 0
         },
         "mode": "lines+text+markers",
         "opacity": 1,
         "showlegend": false,
         "type": "scatter",
         "x": [
          0.8632707774798928,
          0.8056426332288402
         ],
         "xaxis": "x",
         "y": [
          "[45 - 50)",
          "[45 - 50)"
         ],
         "yaxis": "y"
        },
        {
         "cliponaxis": false,
         "hovertemplate": [
          "%{y}: %{x} (group size: 314)<extra></extra>",
          "baseline: %{x} (group size: 1723)<extra></extra>"
         ],
         "line": {
          "color": "limegreen",
          "width": 8
         },
         "marker": {
          "color": [
           "white",
           "#222222"
          ],
          "line": {
           "color": [
            "limegreen",
            "limegreen"
           ],
           "width": [
            2,
            2
           ]
          },
          "size": 6,
          "symbol": 0
         },
         "mode": "lines+text+markers",
         "opacity": 1,
         "showlegend": false,
         "type": "scatter",
         "x": [
          0.8450704225352113,
          0.8056426332288402
         ],
         "xaxis": "x",
         "y": [
          "[50 - 58)",
          "[50 - 58)"
         ],
         "yaxis": "y"
        },
        {
         "cliponaxis": false,
         "hovertemplate": [
          "%{y}: %{x} (group size: 213)<extra></extra>",
          "baseline: %{x} (group size: 1723)<extra></extra>"
         ],
         "line": {
          "color": "limegreen",
          "width": 8
         },
         "marker": {
          "color": [
           "white",
           "#222222"
          ],
          "line": {
           "color": [
            "limegreen",
            "limegreen"
           ],
           "width": [
            2,
            2
           ]
          },
          "size": 6,
          "symbol": 0
         },
         "mode": "lines+text+markers",
         "opacity": 1,
         "showlegend": false,
         "type": "scatter",
         "x": [
          0.8249027237354085,
          0.8056426332288402
         ],
         "xaxis": "x",
         "y": [
          "[37 - 41)",
          "[37 - 41)"
         ],
         "yaxis": "y"
        },
        {
         "cliponaxis": false,
         "hovertemplate": [
          "%{y}: %{x} (group size: 269)<extra></extra>",
          "baseline: %{x} (group size: 1723)<extra></extra>"
         ],
         "line": {
          "color": "limegreen",
          "width": 8
         },
         "marker": {
          "color": [
           "white",
           "#222222"
          ],
          "line": {
           "color": [
            "limegreen",
            "limegreen"
           ],
           "width": [
            2,
            2
           ]
          },
          "size": 6,
          "symbol": 0
         },
         "mode": "lines+text+markers",
         "opacity": 1,
         "showlegend": false,
         "type": "scatter",
         "x": [
          0.809968847352025,
          0.8056426332288402
         ],
         "xaxis": "x",
         "y": [
          "[41 - 45)",
          "[41 - 45)"
         ],
         "yaxis": "y"
        },
        {
         "cliponaxis": false,
         "hovertemplate": [
          "%{y}: %{x} (group size: 185)<extra></extra>",
          "baseline: %{x} (group size: 1723)<extra></extra>"
         ],
         "line": {
          "color": "orangered",
          "width": 8
         },
         "marker": {
          "color": [
           "white",
           "#222222"
          ],
          "line": {
           "color": [
            "orangered",
            "orangered"
           ],
           "width": [
            2,
            2
           ]
          },
          "size": 6,
          "symbol": 0
         },
         "mode": "lines+text+markers",
         "opacity": 1,
         "showlegend": false,
         "type": "scatter",
         "x": [
          0.7850467289719626,
          0.8056426332288402
         ],
         "xaxis": "x",
         "y": [
          "[33 - 37)",
          "[33 - 37)"
         ],
         "yaxis": "y"
        },
        {
         "cliponaxis": false,
         "hovertemplate": [
          "%{y}: %{x} (group size: 96)<extra></extra>",
          "baseline: %{x} (group size: 1723)<extra></extra>"
         ],
         "line": {
          "color": "orangered",
          "width": 8
         },
         "marker": {
          "color": [
           "white",
           "#222222"
          ],
          "line": {
           "color": [
            "orangered",
            "orangered"
           ],
           "width": [
            2,
            2
           ]
          },
          "size": 6,
          "symbol": 0
         },
         "mode": "lines+text+markers",
         "opacity": 1,
         "showlegend": false,
         "type": "scatter",
         "x": [
          0.7415730337078651,
          0.8056426332288402
         ],
         "xaxis": "x",
         "y": [
          "[30 - 33)",
          "[30 - 33)"
         ],
         "yaxis": "y"
        },
        {
         "cliponaxis": false,
         "hovertemplate": [
          "%{y}: %{x} (group size: 188)<extra></extra>",
          "baseline: %{x} (group size: 1723)<extra></extra>"
         ],
         "line": {
          "color": "orangered",
          "width": 8
         },
         "marker": {
          "color": [
           "white",
           "#222222"
          ],
          "line": {
           "color": [
            "orangered",
            "orangered"
           ],
           "width": [
            2,
            2
           ]
          },
          "size": 6,
          "symbol": 0
         },
         "mode": "lines+text+markers",
         "opacity": 1,
         "showlegend": false,
         "type": "scatter",
         "x": [
          0.7127659574468086,
          0.8056426332288402
         ],
         "xaxis": "x",
         "y": [
          "[58 - 90]",
          "[58 - 90]"
         ],
         "yaxis": "y"
        },
        {
         "cliponaxis": false,
         "hovertemplate": [
          "%{y}: %{x} (group size: 121)<extra></extra>",
          "baseline: %{x} (group size: 1723)<extra></extra>"
         ],
         "line": {
          "color": "orangered",
          "width": 8
         },
         "marker": {
          "color": [
           "white",
           "#222222"
          ],
          "line": {
           "color": [
            "orangered",
            "orangered"
           ],
           "width": [
            2,
            2
           ]
          },
          "size": 6,
          "symbol": 0
         },
         "mode": "lines+text+markers",
         "opacity": 1,
         "showlegend": false,
         "type": "scatter",
         "x": [
          0.43902439024390244,
          0.8056426332288402
         ],
         "xaxis": "x",
         "y": [
          "[26 - 30)",
          "[26 - 30)"
         ],
         "yaxis": "y"
        },
        {
         "cliponaxis": false,
         "hovertemplate": [
          "%{y}: %{x} (group size: 44)<extra></extra>",
          "baseline: %{x} (group size: 1723)<extra></extra>"
         ],
         "line": {
          "color": "orangered",
          "width": 8
         },
         "marker": {
          "color": [
           "white",
           "#222222"
          ],
          "line": {
           "color": [
            "orangered",
            "orangered"
           ],
           "width": [
            2,
            2
           ]
          },
          "size": 6,
          "symbol": 0
         },
         "mode": "lines+text+markers",
         "opacity": 1,
         "showlegend": false,
         "type": "scatter",
         "x": [
          0.4,
          0.8056426332288402
         ],
         "xaxis": "x",
         "y": [
          "[22 - 26)",
          "[22 - 26)"
         ],
         "yaxis": "y"
        },
        {
         "cliponaxis": false,
         "hovertemplate": [
          "%{y}: %{x} (group size: 3)<extra></extra>",
          "baseline: %{x} (group size: 1723)<extra></extra>"
         ],
         "line": {
          "color": "orangered",
          "width": 8
         },
         "marker": {
          "color": [
           "white",
           "#222222"
          ],
          "line": {
           "color": [
            "orangered",
            "orangered"
           ],
           "width": [
            2,
            2
           ]
          },
          "size": 6,
          "symbol": 0
         },
         "mode": "lines+text+markers",
         "opacity": 1,
         "showlegend": false,
         "type": "scatter",
         "x": [
          0,
          0.8056426332288402
         ],
         "xaxis": "x",
         "y": [
          "[17 - 22)",
          "[17 - 22)"
         ],
         "yaxis": "y"
        }
       ],
       "layout": {
        "annotations": [
         {
          "font": {
           "size": 12
          },
          "showarrow": false,
          "text": "education= Masters",
          "x": 0,
          "xanchor": "left",
          "xref": "paper",
          "y": 1,
          "yanchor": "bottom",
          "yref": "paper"
         }
        ],
        "height": 400,
        "template": {
         "data": {
          "bar": [
           {
            "error_x": {
             "color": "#2a3f5f"
            },
            "error_y": {
             "color": "#2a3f5f"
            },
            "marker": {
             "line": {
              "color": "#E5ECF6",
              "width": 0.5
             },
             "pattern": {
              "fillmode": "overlay",
              "size": 10,
              "solidity": 0.2
             }
            },
            "type": "bar"
           }
          ],
          "barpolar": [
           {
            "marker": {
             "line": {
              "color": "#E5ECF6",
              "width": 0.5
             },
             "pattern": {
              "fillmode": "overlay",
              "size": 10,
              "solidity": 0.2
             }
            },
            "type": "barpolar"
           }
          ],
          "carpet": [
           {
            "aaxis": {
             "endlinecolor": "#2a3f5f",
             "gridcolor": "white",
             "linecolor": "white",
             "minorgridcolor": "white",
             "startlinecolor": "#2a3f5f"
            },
            "baxis": {
             "endlinecolor": "#2a3f5f",
             "gridcolor": "white",
             "linecolor": "white",
             "minorgridcolor": "white",
             "startlinecolor": "#2a3f5f"
            },
            "type": "carpet"
           }
          ],
          "choropleth": [
           {
            "colorbar": {
             "outlinewidth": 0,
             "ticks": ""
            },
            "type": "choropleth"
           }
          ],
          "contour": [
           {
            "colorbar": {
             "outlinewidth": 0,
             "ticks": ""
            },
            "colorscale": [
             [
              0,
              "#0d0887"
             ],
             [
              0.1111111111111111,
              "#46039f"
             ],
             [
              0.2222222222222222,
              "#7201a8"
             ],
             [
              0.3333333333333333,
              "#9c179e"
             ],
             [
              0.4444444444444444,
              "#bd3786"
             ],
             [
              0.5555555555555556,
              "#d8576b"
             ],
             [
              0.6666666666666666,
              "#ed7953"
             ],
             [
              0.7777777777777778,
              "#fb9f3a"
             ],
             [
              0.8888888888888888,
              "#fdca26"
             ],
             [
              1,
              "#f0f921"
             ]
            ],
            "type": "contour"
           }
          ],
          "contourcarpet": [
           {
            "colorbar": {
             "outlinewidth": 0,
             "ticks": ""
            },
            "type": "contourcarpet"
           }
          ],
          "heatmap": [
           {
            "colorbar": {
             "outlinewidth": 0,
             "ticks": ""
            },
            "colorscale": [
             [
              0,
              "#0d0887"
             ],
             [
              0.1111111111111111,
              "#46039f"
             ],
             [
              0.2222222222222222,
              "#7201a8"
             ],
             [
              0.3333333333333333,
              "#9c179e"
             ],
             [
              0.4444444444444444,
              "#bd3786"
             ],
             [
              0.5555555555555556,
              "#d8576b"
             ],
             [
              0.6666666666666666,
              "#ed7953"
             ],
             [
              0.7777777777777778,
              "#fb9f3a"
             ],
             [
              0.8888888888888888,
              "#fdca26"
             ],
             [
              1,
              "#f0f921"
             ]
            ],
            "type": "heatmap"
           }
          ],
          "heatmapgl": [
           {
            "colorbar": {
             "outlinewidth": 0,
             "ticks": ""
            },
            "colorscale": [
             [
              0,
              "#0d0887"
             ],
             [
              0.1111111111111111,
              "#46039f"
             ],
             [
              0.2222222222222222,
              "#7201a8"
             ],
             [
              0.3333333333333333,
              "#9c179e"
             ],
             [
              0.4444444444444444,
              "#bd3786"
             ],
             [
              0.5555555555555556,
              "#d8576b"
             ],
             [
              0.6666666666666666,
              "#ed7953"
             ],
             [
              0.7777777777777778,
              "#fb9f3a"
             ],
             [
              0.8888888888888888,
              "#fdca26"
             ],
             [
              1,
              "#f0f921"
             ]
            ],
            "type": "heatmapgl"
           }
          ],
          "histogram": [
           {
            "marker": {
             "pattern": {
              "fillmode": "overlay",
              "size": 10,
              "solidity": 0.2
             }
            },
            "type": "histogram"
           }
          ],
          "histogram2d": [
           {
            "colorbar": {
             "outlinewidth": 0,
             "ticks": ""
            },
            "colorscale": [
             [
              0,
              "#0d0887"
             ],
             [
              0.1111111111111111,
              "#46039f"
             ],
             [
              0.2222222222222222,
              "#7201a8"
             ],
             [
              0.3333333333333333,
              "#9c179e"
             ],
             [
              0.4444444444444444,
              "#bd3786"
             ],
             [
              0.5555555555555556,
              "#d8576b"
             ],
             [
              0.6666666666666666,
              "#ed7953"
             ],
             [
              0.7777777777777778,
              "#fb9f3a"
             ],
             [
              0.8888888888888888,
              "#fdca26"
             ],
             [
              1,
              "#f0f921"
             ]
            ],
            "type": "histogram2d"
           }
          ],
          "histogram2dcontour": [
           {
            "colorbar": {
             "outlinewidth": 0,
             "ticks": ""
            },
            "colorscale": [
             [
              0,
              "#0d0887"
             ],
             [
              0.1111111111111111,
              "#46039f"
             ],
             [
              0.2222222222222222,
              "#7201a8"
             ],
             [
              0.3333333333333333,
              "#9c179e"
             ],
             [
              0.4444444444444444,
              "#bd3786"
             ],
             [
              0.5555555555555556,
              "#d8576b"
             ],
             [
              0.6666666666666666,
              "#ed7953"
             ],
             [
              0.7777777777777778,
              "#fb9f3a"
             ],
             [
              0.8888888888888888,
              "#fdca26"
             ],
             [
              1,
              "#f0f921"
             ]
            ],
            "type": "histogram2dcontour"
           }
          ],
          "mesh3d": [
           {
            "colorbar": {
             "outlinewidth": 0,
             "ticks": ""
            },
            "type": "mesh3d"
           }
          ],
          "parcoords": [
           {
            "line": {
             "colorbar": {
              "outlinewidth": 0,
              "ticks": ""
             }
            },
            "type": "parcoords"
           }
          ],
          "pie": [
           {
            "automargin": true,
            "type": "pie"
           }
          ],
          "scatter": [
           {
            "fillpattern": {
             "fillmode": "overlay",
             "size": 10,
             "solidity": 0.2
            },
            "type": "scatter"
           }
          ],
          "scatter3d": [
           {
            "line": {
             "colorbar": {
              "outlinewidth": 0,
              "ticks": ""
             }
            },
            "marker": {
             "colorbar": {
              "outlinewidth": 0,
              "ticks": ""
             }
            },
            "type": "scatter3d"
           }
          ],
          "scattercarpet": [
           {
            "marker": {
             "colorbar": {
              "outlinewidth": 0,
              "ticks": ""
             }
            },
            "type": "scattercarpet"
           }
          ],
          "scattergeo": [
           {
            "marker": {
             "colorbar": {
              "outlinewidth": 0,
              "ticks": ""
             }
            },
            "type": "scattergeo"
           }
          ],
          "scattergl": [
           {
            "marker": {
             "colorbar": {
              "outlinewidth": 0,
              "ticks": ""
             }
            },
            "type": "scattergl"
           }
          ],
          "scattermapbox": [
           {
            "marker": {
             "colorbar": {
              "outlinewidth": 0,
              "ticks": ""
             }
            },
            "type": "scattermapbox"
           }
          ],
          "scatterpolar": [
           {
            "marker": {
             "colorbar": {
              "outlinewidth": 0,
              "ticks": ""
             }
            },
            "type": "scatterpolar"
           }
          ],
          "scatterpolargl": [
           {
            "marker": {
             "colorbar": {
              "outlinewidth": 0,
              "ticks": ""
             }
            },
            "type": "scatterpolargl"
           }
          ],
          "scatterternary": [
           {
            "marker": {
             "colorbar": {
              "outlinewidth": 0,
              "ticks": ""
             }
            },
            "type": "scatterternary"
           }
          ],
          "surface": [
           {
            "colorbar": {
             "outlinewidth": 0,
             "ticks": ""
            },
            "colorscale": [
             [
              0,
              "#0d0887"
             ],
             [
              0.1111111111111111,
              "#46039f"
             ],
             [
              0.2222222222222222,
              "#7201a8"
             ],
             [
              0.3333333333333333,
              "#9c179e"
             ],
             [
              0.4444444444444444,
              "#bd3786"
             ],
             [
              0.5555555555555556,
              "#d8576b"
             ],
             [
              0.6666666666666666,
              "#ed7953"
             ],
             [
              0.7777777777777778,
              "#fb9f3a"
             ],
             [
              0.8888888888888888,
              "#fdca26"
             ],
             [
              1,
              "#f0f921"
             ]
            ],
            "type": "surface"
           }
          ],
          "table": [
           {
            "cells": {
             "fill": {
              "color": "#EBF0F8"
             },
             "line": {
              "color": "white"
             }
            },
            "header": {
             "fill": {
              "color": "#C8D4E3"
             },
             "line": {
              "color": "white"
             }
            },
            "type": "table"
           }
          ]
         },
         "layout": {
          "annotationdefaults": {
           "arrowcolor": "#2a3f5f",
           "arrowhead": 0,
           "arrowwidth": 1
          },
          "autotypenumbers": "strict",
          "coloraxis": {
           "colorbar": {
            "outlinewidth": 0,
            "ticks": ""
           }
          },
          "colorscale": {
           "diverging": [
            [
             0,
             "#8e0152"
            ],
            [
             0.1,
             "#c51b7d"
            ],
            [
             0.2,
             "#de77ae"
            ],
            [
             0.3,
             "#f1b6da"
            ],
            [
             0.4,
             "#fde0ef"
            ],
            [
             0.5,
             "#f7f7f7"
            ],
            [
             0.6,
             "#e6f5d0"
            ],
            [
             0.7,
             "#b8e186"
            ],
            [
             0.8,
             "#7fbc41"
            ],
            [
             0.9,
             "#4d9221"
            ],
            [
             1,
             "#276419"
            ]
           ],
           "sequential": [
            [
             0,
             "#0d0887"
            ],
            [
             0.1111111111111111,
             "#46039f"
            ],
            [
             0.2222222222222222,
             "#7201a8"
            ],
            [
             0.3333333333333333,
             "#9c179e"
            ],
            [
             0.4444444444444444,
             "#bd3786"
            ],
            [
             0.5555555555555556,
             "#d8576b"
            ],
            [
             0.6666666666666666,
             "#ed7953"
            ],
            [
             0.7777777777777778,
             "#fb9f3a"
            ],
            [
             0.8888888888888888,
             "#fdca26"
            ],
            [
             1,
             "#f0f921"
            ]
           ],
           "sequentialminus": [
            [
             0,
             "#0d0887"
            ],
            [
             0.1111111111111111,
             "#46039f"
            ],
            [
             0.2222222222222222,
             "#7201a8"
            ],
            [
             0.3333333333333333,
             "#9c179e"
            ],
            [
             0.4444444444444444,
             "#bd3786"
            ],
            [
             0.5555555555555556,
             "#d8576b"
            ],
            [
             0.6666666666666666,
             "#ed7953"
            ],
            [
             0.7777777777777778,
             "#fb9f3a"
            ],
            [
             0.8888888888888888,
             "#fdca26"
            ],
            [
             1,
             "#f0f921"
            ]
           ]
          },
          "colorway": [
           "#636efa",
           "#EF553B",
           "#00cc96",
           "#ab63fa",
           "#FFA15A",
           "#19d3f3",
           "#FF6692",
           "#B6E880",
           "#FF97FF",
           "#FECB52"
          ],
          "font": {
           "color": "#2a3f5f"
          },
          "geo": {
           "bgcolor": "white",
           "lakecolor": "white",
           "landcolor": "#E5ECF6",
           "showlakes": true,
           "showland": true,
           "subunitcolor": "white"
          },
          "hoverlabel": {
           "align": "left"
          },
          "hovermode": "closest",
          "mapbox": {
           "style": "light"
          },
          "paper_bgcolor": "white",
          "plot_bgcolor": "#E5ECF6",
          "polar": {
           "angularaxis": {
            "gridcolor": "white",
            "linecolor": "white",
            "ticks": ""
           },
           "bgcolor": "#E5ECF6",
           "radialaxis": {
            "gridcolor": "white",
            "linecolor": "white",
            "ticks": ""
           }
          },
          "scene": {
           "xaxis": {
            "backgroundcolor": "#E5ECF6",
            "gridcolor": "white",
            "gridwidth": 2,
            "linecolor": "white",
            "showbackground": true,
            "ticks": "",
            "zerolinecolor": "white"
           },
           "yaxis": {
            "backgroundcolor": "#E5ECF6",
            "gridcolor": "white",
            "gridwidth": 2,
            "linecolor": "white",
            "showbackground": true,
            "ticks": "",
            "zerolinecolor": "white"
           },
           "zaxis": {
            "backgroundcolor": "#E5ECF6",
            "gridcolor": "white",
            "gridwidth": 2,
            "linecolor": "white",
            "showbackground": true,
            "ticks": "",
            "zerolinecolor": "white"
           }
          },
          "shapedefaults": {
           "line": {
            "color": "#2a3f5f"
           }
          },
          "ternary": {
           "aaxis": {
            "gridcolor": "white",
            "linecolor": "white",
            "ticks": ""
           },
           "baxis": {
            "gridcolor": "white",
            "linecolor": "white",
            "ticks": ""
           },
           "bgcolor": "#E5ECF6",
           "caxis": {
            "gridcolor": "white",
            "linecolor": "white",
            "ticks": ""
           }
          },
          "title": {
           "x": 0.05
          },
          "xaxis": {
           "automargin": true,
           "gridcolor": "white",
           "linecolor": "white",
           "ticks": "",
           "title": {
            "standoff": 15
           },
           "zerolinecolor": "white",
           "zerolinewidth": 2
          },
          "yaxis": {
           "automargin": true,
           "gridcolor": "white",
           "linecolor": "white",
           "ticks": "",
           "title": {
            "standoff": 15
           },
           "zerolinecolor": "white",
           "zerolinewidth": 2
          }
         }
        },
        "title": {
         "text": "Largest performance differences within education categories<br><sup>(Showing 10/10 age levels per plot and 1/9 education categories)</sup>"
        },
        "xaxis": {
         "anchor": "y",
         "domain": [
          0,
          1
         ],
         "title": {
          "text": "f1 score"
         }
        },
        "yaxis": {
         "anchor": "x",
         "domain": [
          0,
          1
         ],
         "tickmode": "linear",
         "title": {
          "text": "age"
         }
        }
       }
      }
     },
     "metadata": {},
     "output_type": "display_data"
    }
   ],
   "source": [
    "check = PerformanceDisparityReport(protected_feature=\"age\", control_feature=\"education\", scorer=\"f1\", max_subgroups_per_category_to_display=10, max_categories_to_display=1)\n",
    "res = check.run(dataset, model=model)\n",
    "res.display[0].show(rendered=\"svg\")"
   ]
  },
  {
   "cell_type": "code",
   "execution_count": 9,
   "metadata": {},
   "outputs": [
    {
     "name": "stderr",
     "output_type": "stream",
     "text": [
      "/home/olivieratduke/anaconda3/envs/deepchecks/lib/python3.9/site-packages/sklearn/metrics/_classification.py:1609: UndefinedMetricWarning:\n",
      "\n",
      "F-score is ill-defined and being set to 0.0 due to no true nor predicted samples. Use `zero_division` parameter to control this behavior.\n",
      "\n",
      "/home/olivieratduke/anaconda3/envs/deepchecks/lib/python3.9/site-packages/sklearn/metrics/_classification.py:1609: UndefinedMetricWarning:\n",
      "\n",
      "F-score is ill-defined and being set to 0.0 due to no true nor predicted samples. Use `zero_division` parameter to control this behavior.\n",
      "\n",
      "/home/olivieratduke/anaconda3/envs/deepchecks/lib/python3.9/site-packages/sklearn/metrics/_classification.py:1609: UndefinedMetricWarning:\n",
      "\n",
      "F-score is ill-defined and being set to 0.0 due to no true nor predicted samples. Use `zero_division` parameter to control this behavior.\n",
      "\n",
      "/home/olivieratduke/anaconda3/envs/deepchecks/lib/python3.9/site-packages/sklearn/metrics/_classification.py:1609: UndefinedMetricWarning:\n",
      "\n",
      "F-score is ill-defined and being set to 0.0 due to no true nor predicted samples. Use `zero_division` parameter to control this behavior.\n",
      "\n",
      "/home/olivieratduke/anaconda3/envs/deepchecks/lib/python3.9/site-packages/sklearn/metrics/_classification.py:1609: UndefinedMetricWarning:\n",
      "\n",
      "F-score is ill-defined and being set to 0.0 due to no true nor predicted samples. Use `zero_division` parameter to control this behavior.\n",
      "\n",
      "/home/olivieratduke/anaconda3/envs/deepchecks/lib/python3.9/site-packages/sklearn/metrics/_classification.py:1609: UndefinedMetricWarning:\n",
      "\n",
      "F-score is ill-defined and being set to 0.0 due to no true nor predicted samples. Use `zero_division` parameter to control this behavior.\n",
      "\n"
     ]
    },
    {
     "data": {
      "application/vnd.plotly.v1+json": {
       "config": {
        "plotlyServerURL": "https://plot.ly"
       },
       "data": [
        {
         "cliponaxis": false,
         "hovertemplate": [
          "%{y}: %{x} (group size: 96)<extra></extra>",
          "baseline: %{x} (group size: 1723)<extra></extra>"
         ],
         "line": {
          "color": "orangered",
          "width": 8
         },
         "marker": {
          "color": [
           "white",
           "#222222"
          ],
          "line": {
           "color": [
            "orangered",
            "orangered"
           ],
           "width": [
            2,
            2
           ]
          },
          "size": 6,
          "symbol": 0
         },
         "mode": "lines+text+markers",
         "opacity": 1,
         "showlegend": false,
         "type": "scatter",
         "x": [
          0.7415730337078651,
          0.8056426332288402
         ],
         "xaxis": "x",
         "y": [
          "[30 - 33)",
          "[30 - 33)"
         ],
         "yaxis": "y"
        },
        {
         "cliponaxis": false,
         "hovertemplate": [
          "%{y}: %{x} (group size: 188)<extra></extra>",
          "baseline: %{x} (group size: 1723)<extra></extra>"
         ],
         "line": {
          "color": "orangered",
          "width": 8
         },
         "marker": {
          "color": [
           "white",
           "#222222"
          ],
          "line": {
           "color": [
            "orangered",
            "orangered"
           ],
           "width": [
            2,
            2
           ]
          },
          "size": 6,
          "symbol": 0
         },
         "mode": "lines+text+markers",
         "opacity": 1,
         "showlegend": false,
         "type": "scatter",
         "x": [
          0.7127659574468086,
          0.8056426332288402
         ],
         "xaxis": "x",
         "y": [
          "[58 - 90]",
          "[58 - 90]"
         ],
         "yaxis": "y"
        },
        {
         "cliponaxis": false,
         "hovertemplate": [
          "%{y}: %{x} (group size: 121)<extra></extra>",
          "baseline: %{x} (group size: 1723)<extra></extra>"
         ],
         "line": {
          "color": "orangered",
          "width": 8
         },
         "marker": {
          "color": [
           "white",
           "#222222"
          ],
          "line": {
           "color": [
            "orangered",
            "orangered"
           ],
           "width": [
            2,
            2
           ]
          },
          "size": 6,
          "symbol": 0
         },
         "mode": "lines+text+markers",
         "opacity": 1,
         "showlegend": false,
         "type": "scatter",
         "x": [
          0.43902439024390244,
          0.8056426332288402
         ],
         "xaxis": "x",
         "y": [
          "[26 - 30)",
          "[26 - 30)"
         ],
         "yaxis": "y"
        },
        {
         "cliponaxis": false,
         "hovertemplate": [
          "%{y}: %{x} (group size: 44)<extra></extra>",
          "baseline: %{x} (group size: 1723)<extra></extra>"
         ],
         "line": {
          "color": "orangered",
          "width": 8
         },
         "marker": {
          "color": [
           "white",
           "#222222"
          ],
          "line": {
           "color": [
            "orangered",
            "orangered"
           ],
           "width": [
            2,
            2
           ]
          },
          "size": 6,
          "symbol": 0
         },
         "mode": "lines+text+markers",
         "opacity": 1,
         "showlegend": false,
         "type": "scatter",
         "x": [
          0.4,
          0.8056426332288402
         ],
         "xaxis": "x",
         "y": [
          "[22 - 26)",
          "[22 - 26)"
         ],
         "yaxis": "y"
        },
        {
         "cliponaxis": false,
         "hovertemplate": [
          "%{y}: %{x} (group size: 3)<extra></extra>",
          "baseline: %{x} (group size: 1723)<extra></extra>"
         ],
         "line": {
          "color": "orangered",
          "width": 8
         },
         "marker": {
          "color": [
           "white",
           "#222222"
          ],
          "line": {
           "color": [
            "orangered",
            "orangered"
           ],
           "width": [
            2,
            2
           ]
          },
          "size": 6,
          "symbol": 0
         },
         "mode": "lines+text+markers",
         "opacity": 1,
         "showlegend": false,
         "type": "scatter",
         "x": [
          0,
          0.8056426332288402
         ],
         "xaxis": "x",
         "y": [
          "[17 - 22)",
          "[17 - 22)"
         ],
         "yaxis": "y"
        },
        {
         "cliponaxis": false,
         "hovertemplate": [
          "%{y}: %{x} (group size: 627)<extra></extra>",
          "baseline: %{x} (group size: 3134)<extra></extra>"
         ],
         "line": {
          "color": "orangered",
          "width": 8
         },
         "marker": {
          "color": [
           "white",
           "#222222"
          ],
          "line": {
           "color": [
            "orangered",
            "orangered"
           ],
           "width": [
            2,
            2
           ]
          },
          "size": 6,
          "symbol": 0
         },
         "mode": "lines+text+markers",
         "opacity": 1,
         "showlegend": false,
         "type": "scatter",
         "x": [
          0.7598566308243727,
          0.802030456852792
         ],
         "xaxis": "x2",
         "y": [
          "[58 - 90]",
          "[58 - 90]"
         ],
         "yaxis": "y2"
        },
        {
         "cliponaxis": false,
         "hovertemplate": [
          "%{y}: %{x} (group size: 268)<extra></extra>",
          "baseline: %{x} (group size: 3134)<extra></extra>"
         ],
         "line": {
          "color": "orangered",
          "width": 8
         },
         "marker": {
          "color": [
           "white",
           "#222222"
          ],
          "line": {
           "color": [
            "orangered",
            "orangered"
           ],
           "width": [
            2,
            2
           ]
          },
          "size": 6,
          "symbol": 0
         },
         "mode": "lines+text+markers",
         "opacity": 1,
         "showlegend": false,
         "type": "scatter",
         "x": [
          0.7421383647798742,
          0.802030456852792
         ],
         "xaxis": "x2",
         "y": [
          "[33 - 37)",
          "[33 - 37)"
         ],
         "yaxis": "y2"
        },
        {
         "cliponaxis": false,
         "hovertemplate": [
          "%{y}: %{x} (group size: 261)<extra></extra>",
          "baseline: %{x} (group size: 3134)<extra></extra>"
         ],
         "line": {
          "color": "orangered",
          "width": 8
         },
         "marker": {
          "color": [
           "white",
           "#222222"
          ],
          "line": {
           "color": [
            "orangered",
            "orangered"
           ],
           "width": [
            2,
            2
           ]
          },
          "size": 6,
          "symbol": 0
         },
         "mode": "lines+text+markers",
         "opacity": 1,
         "showlegend": false,
         "type": "scatter",
         "x": [
          0.6666666666666666,
          0.802030456852792
         ],
         "xaxis": "x2",
         "y": [
          "[17 - 22)",
          "[17 - 22)"
         ],
         "yaxis": "y2"
        },
        {
         "cliponaxis": false,
         "hovertemplate": [
          "%{y}: %{x} (group size: 216)<extra></extra>",
          "baseline: %{x} (group size: 3134)<extra></extra>"
         ],
         "line": {
          "color": "orangered",
          "width": 8
         },
         "marker": {
          "color": [
           "white",
           "#222222"
          ],
          "line": {
           "color": [
            "orangered",
            "orangered"
           ],
           "width": [
            2,
            2
           ]
          },
          "size": 6,
          "symbol": 0
         },
         "mode": "lines+text+markers",
         "opacity": 1,
         "showlegend": false,
         "type": "scatter",
         "x": [
          0.5454545454545454,
          0.802030456852792
         ],
         "xaxis": "x2",
         "y": [
          "[26 - 30)",
          "[26 - 30)"
         ],
         "yaxis": "y2"
        },
        {
         "cliponaxis": false,
         "hovertemplate": [
          "%{y}: %{x} (group size: 190)<extra></extra>",
          "baseline: %{x} (group size: 3134)<extra></extra>"
         ],
         "line": {
          "color": "orangered",
          "width": 8
         },
         "marker": {
          "color": [
           "white",
           "#222222"
          ],
          "line": {
           "color": [
            "orangered",
            "orangered"
           ],
           "width": [
            2,
            2
           ]
          },
          "size": 6,
          "symbol": 0
         },
         "mode": "lines+text+markers",
         "opacity": 1,
         "showlegend": false,
         "type": "scatter",
         "x": [
          0,
          0.802030456852792
         ],
         "xaxis": "x2",
         "y": [
          "[22 - 26)",
          "[22 - 26)"
         ],
         "yaxis": "y2"
        },
        {
         "cliponaxis": false,
         "hovertemplate": [
          "%{y}: %{x} (group size: 650)<extra></extra>",
          "baseline: %{x} (group size: 5355)<extra></extra>"
         ],
         "line": {
          "color": "orangered",
          "width": 8
         },
         "marker": {
          "color": [
           "white",
           "#222222"
          ],
          "line": {
           "color": [
            "orangered",
            "orangered"
           ],
           "width": [
            2,
            2
           ]
          },
          "size": 6,
          "symbol": 0
         },
         "mode": "lines+text+markers",
         "opacity": 1,
         "showlegend": false,
         "type": "scatter",
         "x": [
          0.746031746031746,
          0.7558918918918918
         ],
         "xaxis": "x3",
         "y": [
          "[33 - 37)",
          "[33 - 37)"
         ],
         "yaxis": "y3"
        },
        {
         "cliponaxis": false,
         "hovertemplate": [
          "%{y}: %{x} (group size: 514)<extra></extra>",
          "baseline: %{x} (group size: 5355)<extra></extra>"
         ],
         "line": {
          "color": "orangered",
          "width": 8
         },
         "marker": {
          "color": [
           "white",
           "#222222"
          ],
          "line": {
           "color": [
            "orangered",
            "orangered"
           ],
           "width": [
            2,
            2
           ]
          },
          "size": 6,
          "symbol": 0
         },
         "mode": "lines+text+markers",
         "opacity": 1,
         "showlegend": false,
         "type": "scatter",
         "x": [
          0.7136363636363636,
          0.7558918918918918
         ],
         "xaxis": "x3",
         "y": [
          "[30 - 33)",
          "[30 - 33)"
         ],
         "yaxis": "y3"
        },
        {
         "cliponaxis": false,
         "hovertemplate": [
          "%{y}: %{x} (group size: 671)<extra></extra>",
          "baseline: %{x} (group size: 5355)<extra></extra>"
         ],
         "line": {
          "color": "orangered",
          "width": 8
         },
         "marker": {
          "color": [
           "white",
           "#222222"
          ],
          "line": {
           "color": [
            "orangered",
            "orangered"
           ],
           "width": [
            2,
            2
           ]
          },
          "size": 6,
          "symbol": 0
         },
         "mode": "lines+text+markers",
         "opacity": 1,
         "showlegend": false,
         "type": "scatter",
         "x": [
          0.6153846153846154,
          0.7558918918918918
         ],
         "xaxis": "x3",
         "y": [
          "[22 - 26)",
          "[22 - 26)"
         ],
         "yaxis": "y3"
        },
        {
         "cliponaxis": false,
         "hovertemplate": [
          "%{y}: %{x} (group size: 706)<extra></extra>",
          "baseline: %{x} (group size: 5355)<extra></extra>"
         ],
         "line": {
          "color": "orangered",
          "width": 8
         },
         "marker": {
          "color": [
           "white",
           "#222222"
          ],
          "line": {
           "color": [
            "orangered",
            "orangered"
           ],
           "width": [
            2,
            2
           ]
          },
          "size": 6,
          "symbol": 0
         },
         "mode": "lines+text+markers",
         "opacity": 1,
         "showlegend": false,
         "type": "scatter",
         "x": [
          0.476595744680851,
          0.7558918918918918
         ],
         "xaxis": "x3",
         "y": [
          "[26 - 30)",
          "[26 - 30)"
         ],
         "yaxis": "y3"
        },
        {
         "cliponaxis": false,
         "hovertemplate": [
          "%{y}: %{x} (group size: 10)<extra></extra>",
          "baseline: %{x} (group size: 5355)<extra></extra>"
         ],
         "line": {
          "color": "orangered",
          "width": 8
         },
         "marker": {
          "color": [
           "white",
           "#222222"
          ],
          "line": {
           "color": [
            "orangered",
            "orangered"
           ],
           "width": [
            2,
            2
           ]
          },
          "size": 6,
          "symbol": 0
         },
         "mode": "lines+text+markers",
         "opacity": 1,
         "showlegend": false,
         "type": "scatter",
         "x": [
          0,
          0.7558918918918918
         ],
         "xaxis": "x3",
         "y": [
          "[17 - 22)",
          "[17 - 22)"
         ],
         "yaxis": "y3"
        },
        {
         "cliponaxis": false,
         "hovertemplate": [
          "%{y}: %{x} (group size: 69)<extra></extra>",
          "baseline: %{x} (group size: 1175)<extra></extra>"
         ],
         "line": {
          "color": "limegreen",
          "width": 8
         },
         "marker": {
          "color": [
           "white",
           "#222222"
          ],
          "line": {
           "color": [
            "limegreen",
            "limegreen"
           ],
           "width": [
            2,
            2
           ]
          },
          "size": 6,
          "symbol": 0
         },
         "mode": "lines+text+markers",
         "opacity": 1,
         "showlegend": false,
         "type": "scatter",
         "x": [
          0.4444444444444445,
          0.4415584415584416
         ],
         "xaxis": "x4",
         "y": [
          "[37 - 41)",
          "[37 - 41)"
         ],
         "yaxis": "y4"
        },
        {
         "cliponaxis": false,
         "hovertemplate": [
          "%{y}: %{x} (group size: 79)<extra></extra>",
          "baseline: %{x} (group size: 1175)<extra></extra>"
         ],
         "line": {
          "color": "orangered",
          "width": 8
         },
         "marker": {
          "color": [
           "white",
           "#222222"
          ],
          "line": {
           "color": [
            "orangered",
            "orangered"
           ],
           "width": [
            2,
            2
           ]
          },
          "size": 6,
          "symbol": 0
         },
         "mode": "lines+text+markers",
         "opacity": 1,
         "showlegend": false,
         "type": "scatter",
         "x": [
          0.3636363636363636,
          0.4415584415584416
         ],
         "xaxis": "x4",
         "y": [
          "[45 - 50)",
          "[45 - 50)"
         ],
         "yaxis": "y4"
        },
        {
         "cliponaxis": false,
         "hovertemplate": [
          "%{y}: %{x} (group size: 87)<extra></extra>",
          "baseline: %{x} (group size: 1175)<extra></extra>"
         ],
         "line": {
          "color": "orangered",
          "width": 8
         },
         "marker": {
          "color": [
           "white",
           "#222222"
          ],
          "line": {
           "color": [
            "orangered",
            "orangered"
           ],
           "width": [
            2,
            2
           ]
          },
          "size": 6,
          "symbol": 0
         },
         "mode": "lines+text+markers",
         "opacity": 1,
         "showlegend": false,
         "type": "scatter",
         "x": [
          0.2857142857142857,
          0.4415584415584416
         ],
         "xaxis": "x4",
         "y": [
          "[26 - 30)",
          "[26 - 30)"
         ],
         "yaxis": "y4"
        },
        {
         "cliponaxis": false,
         "hovertemplate": [
          "%{y}: %{x} (group size: 434)<extra></extra>",
          "baseline: %{x} (group size: 1175)<extra></extra>"
         ],
         "line": {
          "color": "orangered",
          "width": 8
         },
         "marker": {
          "color": [
           "white",
           "#222222"
          ],
          "line": {
           "color": [
            "orangered",
            "orangered"
           ],
           "width": [
            2,
            2
           ]
          },
          "size": 6,
          "symbol": 0
         },
         "mode": "lines+text+markers",
         "opacity": 1,
         "showlegend": false,
         "type": "scatter",
         "x": [
          0,
          0.4415584415584416
         ],
         "xaxis": "x4",
         "y": [
          "[17 - 22)",
          "[17 - 22)"
         ],
         "yaxis": "y4"
        },
        {
         "cliponaxis": false,
         "hovertemplate": [
          "%{y}: %{x} (group size: 86)<extra></extra>",
          "baseline: %{x} (group size: 1175)<extra></extra>"
         ],
         "line": {
          "color": "orangered",
          "width": 8
         },
         "marker": {
          "color": [
           "white",
           "#222222"
          ],
          "line": {
           "color": [
            "orangered",
            "orangered"
           ],
           "width": [
            2,
            2
           ]
          },
          "size": 6,
          "symbol": 0
         },
         "mode": "lines+text+markers",
         "opacity": 1,
         "showlegend": false,
         "type": "scatter",
         "x": [
          0,
          0.4415584415584416
         ],
         "xaxis": "x4",
         "y": [
          "[50 - 58)",
          "[50 - 58)"
         ],
         "yaxis": "y4"
        },
        {
         "cliponaxis": false,
         "hovertemplate": [
          "%{y}: %{x} (group size: 147)<extra></extra>",
          "baseline: %{x} (group size: 1067)<extra></extra>"
         ],
         "line": {
          "color": "orangered",
          "width": 8
         },
         "marker": {
          "color": [
           "white",
           "#222222"
          ],
          "line": {
           "color": [
            "orangered",
            "orangered"
           ],
           "width": [
            2,
            2
           ]
          },
          "size": 6,
          "symbol": 0
         },
         "mode": "lines+text+markers",
         "opacity": 1,
         "showlegend": false,
         "type": "scatter",
         "x": [
          0.3,
          0.33855799373040757
         ],
         "xaxis": "x5",
         "y": [
          "[33 - 37)",
          "[33 - 37)"
         ],
         "yaxis": "y5"
        },
        {
         "cliponaxis": false,
         "hovertemplate": [
          "%{y}: %{x} (group size: 92)<extra></extra>",
          "baseline: %{x} (group size: 1067)<extra></extra>"
         ],
         "line": {
          "color": "orangered",
          "width": 8
         },
         "marker": {
          "color": [
           "white",
           "#222222"
          ],
          "line": {
           "color": [
            "orangered",
            "orangered"
           ],
           "width": [
            2,
            2
           ]
          },
          "size": 6,
          "symbol": 0
         },
         "mode": "lines+text+markers",
         "opacity": 1,
         "showlegend": false,
         "type": "scatter",
         "x": [
          0.2631578947368421,
          0.33855799373040757
         ],
         "xaxis": "x5",
         "y": [
          "[50 - 58)",
          "[50 - 58)"
         ],
         "yaxis": "y5"
        },
        {
         "cliponaxis": false,
         "hovertemplate": [
          "%{y}: %{x} (group size: 108)<extra></extra>",
          "baseline: %{x} (group size: 1067)<extra></extra>"
         ],
         "line": {
          "color": "orangered",
          "width": 8
         },
         "marker": {
          "color": [
           "white",
           "#222222"
          ],
          "line": {
           "color": [
            "orangered",
            "orangered"
           ],
           "width": [
            2,
            2
           ]
          },
          "size": 6,
          "symbol": 0
         },
         "mode": "lines+text+markers",
         "opacity": 1,
         "showlegend": false,
         "type": "scatter",
         "x": [
          0.23255813953488372,
          0.33855799373040757
         ],
         "xaxis": "x5",
         "y": [
          "[41 - 45)",
          "[41 - 45)"
         ],
         "yaxis": "y5"
        },
        {
         "cliponaxis": false,
         "hovertemplate": [
          "%{y}: %{x} (group size: 110)<extra></extra>",
          "baseline: %{x} (group size: 1067)<extra></extra>"
         ],
         "line": {
          "color": "orangered",
          "width": 8
         },
         "marker": {
          "color": [
           "white",
           "#222222"
          ],
          "line": {
           "color": [
            "orangered",
            "orangered"
           ],
           "width": [
            2,
            2
           ]
          },
          "size": 6,
          "symbol": 0
         },
         "mode": "lines+text+markers",
         "opacity": 1,
         "showlegend": false,
         "type": "scatter",
         "x": [
          0.08695652173913045,
          0.33855799373040757
         ],
         "xaxis": "x5",
         "y": [
          "[30 - 33)",
          "[30 - 33)"
         ],
         "yaxis": "y5"
        },
        {
         "cliponaxis": false,
         "hovertemplate": [
          "%{y}: %{x} (group size: 35)<extra></extra>",
          "baseline: %{x} (group size: 1067)<extra></extra>"
         ],
         "line": {
          "color": "orangered",
          "width": 8
         },
         "marker": {
          "color": [
           "white",
           "#222222"
          ],
          "line": {
           "color": [
            "orangered",
            "orangered"
           ],
           "width": [
            2,
            2
           ]
          },
          "size": 6,
          "symbol": 0
         },
         "mode": "lines+text+markers",
         "opacity": 1,
         "showlegend": false,
         "type": "scatter",
         "x": [
          0,
          0.33855799373040757
         ],
         "xaxis": "x5",
         "y": [
          "[17 - 22)",
          "[17 - 22)"
         ],
         "yaxis": "y5"
        }
       ],
       "layout": {
        "annotations": [
         {
          "font": {
           "size": 12
          },
          "showarrow": false,
          "text": "education= Masters",
          "x": 0,
          "xanchor": "left",
          "xref": "paper",
          "y": 0.9999999999999999,
          "yanchor": "bottom",
          "yref": "paper"
         },
         {
          "font": {
           "size": 12
          },
          "showarrow": false,
          "text": "education=Others",
          "x": 0,
          "xanchor": "left",
          "xref": "paper",
          "y": 0.7874780193260011,
          "yanchor": "bottom",
          "yref": "paper"
         },
         {
          "font": {
           "size": 12
          },
          "showarrow": false,
          "text": "education= Bachelors",
          "x": 0,
          "xanchor": "left",
          "xref": "paper",
          "y": 0.5749560386520023,
          "yanchor": "bottom",
          "yref": "paper"
         },
         {
          "font": {
           "size": 12
          },
          "showarrow": false,
          "text": "education= 11th",
          "x": 0,
          "xanchor": "left",
          "xref": "paper",
          "y": 0.36243405797800354,
          "yanchor": "bottom",
          "yref": "paper"
         },
         {
          "font": {
           "size": 12
          },
          "showarrow": false,
          "text": "education= Assoc-acdm",
          "x": 0,
          "xanchor": "left",
          "xref": "paper",
          "y": 0.14991207730400471,
          "yanchor": "bottom",
          "yref": "paper"
         }
        ],
        "height": 900,
        "template": {
         "data": {
          "bar": [
           {
            "error_x": {
             "color": "#2a3f5f"
            },
            "error_y": {
             "color": "#2a3f5f"
            },
            "marker": {
             "line": {
              "color": "#E5ECF6",
              "width": 0.5
             },
             "pattern": {
              "fillmode": "overlay",
              "size": 10,
              "solidity": 0.2
             }
            },
            "type": "bar"
           }
          ],
          "barpolar": [
           {
            "marker": {
             "line": {
              "color": "#E5ECF6",
              "width": 0.5
             },
             "pattern": {
              "fillmode": "overlay",
              "size": 10,
              "solidity": 0.2
             }
            },
            "type": "barpolar"
           }
          ],
          "carpet": [
           {
            "aaxis": {
             "endlinecolor": "#2a3f5f",
             "gridcolor": "white",
             "linecolor": "white",
             "minorgridcolor": "white",
             "startlinecolor": "#2a3f5f"
            },
            "baxis": {
             "endlinecolor": "#2a3f5f",
             "gridcolor": "white",
             "linecolor": "white",
             "minorgridcolor": "white",
             "startlinecolor": "#2a3f5f"
            },
            "type": "carpet"
           }
          ],
          "choropleth": [
           {
            "colorbar": {
             "outlinewidth": 0,
             "ticks": ""
            },
            "type": "choropleth"
           }
          ],
          "contour": [
           {
            "colorbar": {
             "outlinewidth": 0,
             "ticks": ""
            },
            "colorscale": [
             [
              0,
              "#0d0887"
             ],
             [
              0.1111111111111111,
              "#46039f"
             ],
             [
              0.2222222222222222,
              "#7201a8"
             ],
             [
              0.3333333333333333,
              "#9c179e"
             ],
             [
              0.4444444444444444,
              "#bd3786"
             ],
             [
              0.5555555555555556,
              "#d8576b"
             ],
             [
              0.6666666666666666,
              "#ed7953"
             ],
             [
              0.7777777777777778,
              "#fb9f3a"
             ],
             [
              0.8888888888888888,
              "#fdca26"
             ],
             [
              1,
              "#f0f921"
             ]
            ],
            "type": "contour"
           }
          ],
          "contourcarpet": [
           {
            "colorbar": {
             "outlinewidth": 0,
             "ticks": ""
            },
            "type": "contourcarpet"
           }
          ],
          "heatmap": [
           {
            "colorbar": {
             "outlinewidth": 0,
             "ticks": ""
            },
            "colorscale": [
             [
              0,
              "#0d0887"
             ],
             [
              0.1111111111111111,
              "#46039f"
             ],
             [
              0.2222222222222222,
              "#7201a8"
             ],
             [
              0.3333333333333333,
              "#9c179e"
             ],
             [
              0.4444444444444444,
              "#bd3786"
             ],
             [
              0.5555555555555556,
              "#d8576b"
             ],
             [
              0.6666666666666666,
              "#ed7953"
             ],
             [
              0.7777777777777778,
              "#fb9f3a"
             ],
             [
              0.8888888888888888,
              "#fdca26"
             ],
             [
              1,
              "#f0f921"
             ]
            ],
            "type": "heatmap"
           }
          ],
          "heatmapgl": [
           {
            "colorbar": {
             "outlinewidth": 0,
             "ticks": ""
            },
            "colorscale": [
             [
              0,
              "#0d0887"
             ],
             [
              0.1111111111111111,
              "#46039f"
             ],
             [
              0.2222222222222222,
              "#7201a8"
             ],
             [
              0.3333333333333333,
              "#9c179e"
             ],
             [
              0.4444444444444444,
              "#bd3786"
             ],
             [
              0.5555555555555556,
              "#d8576b"
             ],
             [
              0.6666666666666666,
              "#ed7953"
             ],
             [
              0.7777777777777778,
              "#fb9f3a"
             ],
             [
              0.8888888888888888,
              "#fdca26"
             ],
             [
              1,
              "#f0f921"
             ]
            ],
            "type": "heatmapgl"
           }
          ],
          "histogram": [
           {
            "marker": {
             "pattern": {
              "fillmode": "overlay",
              "size": 10,
              "solidity": 0.2
             }
            },
            "type": "histogram"
           }
          ],
          "histogram2d": [
           {
            "colorbar": {
             "outlinewidth": 0,
             "ticks": ""
            },
            "colorscale": [
             [
              0,
              "#0d0887"
             ],
             [
              0.1111111111111111,
              "#46039f"
             ],
             [
              0.2222222222222222,
              "#7201a8"
             ],
             [
              0.3333333333333333,
              "#9c179e"
             ],
             [
              0.4444444444444444,
              "#bd3786"
             ],
             [
              0.5555555555555556,
              "#d8576b"
             ],
             [
              0.6666666666666666,
              "#ed7953"
             ],
             [
              0.7777777777777778,
              "#fb9f3a"
             ],
             [
              0.8888888888888888,
              "#fdca26"
             ],
             [
              1,
              "#f0f921"
             ]
            ],
            "type": "histogram2d"
           }
          ],
          "histogram2dcontour": [
           {
            "colorbar": {
             "outlinewidth": 0,
             "ticks": ""
            },
            "colorscale": [
             [
              0,
              "#0d0887"
             ],
             [
              0.1111111111111111,
              "#46039f"
             ],
             [
              0.2222222222222222,
              "#7201a8"
             ],
             [
              0.3333333333333333,
              "#9c179e"
             ],
             [
              0.4444444444444444,
              "#bd3786"
             ],
             [
              0.5555555555555556,
              "#d8576b"
             ],
             [
              0.6666666666666666,
              "#ed7953"
             ],
             [
              0.7777777777777778,
              "#fb9f3a"
             ],
             [
              0.8888888888888888,
              "#fdca26"
             ],
             [
              1,
              "#f0f921"
             ]
            ],
            "type": "histogram2dcontour"
           }
          ],
          "mesh3d": [
           {
            "colorbar": {
             "outlinewidth": 0,
             "ticks": ""
            },
            "type": "mesh3d"
           }
          ],
          "parcoords": [
           {
            "line": {
             "colorbar": {
              "outlinewidth": 0,
              "ticks": ""
             }
            },
            "type": "parcoords"
           }
          ],
          "pie": [
           {
            "automargin": true,
            "type": "pie"
           }
          ],
          "scatter": [
           {
            "fillpattern": {
             "fillmode": "overlay",
             "size": 10,
             "solidity": 0.2
            },
            "type": "scatter"
           }
          ],
          "scatter3d": [
           {
            "line": {
             "colorbar": {
              "outlinewidth": 0,
              "ticks": ""
             }
            },
            "marker": {
             "colorbar": {
              "outlinewidth": 0,
              "ticks": ""
             }
            },
            "type": "scatter3d"
           }
          ],
          "scattercarpet": [
           {
            "marker": {
             "colorbar": {
              "outlinewidth": 0,
              "ticks": ""
             }
            },
            "type": "scattercarpet"
           }
          ],
          "scattergeo": [
           {
            "marker": {
             "colorbar": {
              "outlinewidth": 0,
              "ticks": ""
             }
            },
            "type": "scattergeo"
           }
          ],
          "scattergl": [
           {
            "marker": {
             "colorbar": {
              "outlinewidth": 0,
              "ticks": ""
             }
            },
            "type": "scattergl"
           }
          ],
          "scattermapbox": [
           {
            "marker": {
             "colorbar": {
              "outlinewidth": 0,
              "ticks": ""
             }
            },
            "type": "scattermapbox"
           }
          ],
          "scatterpolar": [
           {
            "marker": {
             "colorbar": {
              "outlinewidth": 0,
              "ticks": ""
             }
            },
            "type": "scatterpolar"
           }
          ],
          "scatterpolargl": [
           {
            "marker": {
             "colorbar": {
              "outlinewidth": 0,
              "ticks": ""
             }
            },
            "type": "scatterpolargl"
           }
          ],
          "scatterternary": [
           {
            "marker": {
             "colorbar": {
              "outlinewidth": 0,
              "ticks": ""
             }
            },
            "type": "scatterternary"
           }
          ],
          "surface": [
           {
            "colorbar": {
             "outlinewidth": 0,
             "ticks": ""
            },
            "colorscale": [
             [
              0,
              "#0d0887"
             ],
             [
              0.1111111111111111,
              "#46039f"
             ],
             [
              0.2222222222222222,
              "#7201a8"
             ],
             [
              0.3333333333333333,
              "#9c179e"
             ],
             [
              0.4444444444444444,
              "#bd3786"
             ],
             [
              0.5555555555555556,
              "#d8576b"
             ],
             [
              0.6666666666666666,
              "#ed7953"
             ],
             [
              0.7777777777777778,
              "#fb9f3a"
             ],
             [
              0.8888888888888888,
              "#fdca26"
             ],
             [
              1,
              "#f0f921"
             ]
            ],
            "type": "surface"
           }
          ],
          "table": [
           {
            "cells": {
             "fill": {
              "color": "#EBF0F8"
             },
             "line": {
              "color": "white"
             }
            },
            "header": {
             "fill": {
              "color": "#C8D4E3"
             },
             "line": {
              "color": "white"
             }
            },
            "type": "table"
           }
          ]
         },
         "layout": {
          "annotationdefaults": {
           "arrowcolor": "#2a3f5f",
           "arrowhead": 0,
           "arrowwidth": 1
          },
          "autotypenumbers": "strict",
          "coloraxis": {
           "colorbar": {
            "outlinewidth": 0,
            "ticks": ""
           }
          },
          "colorscale": {
           "diverging": [
            [
             0,
             "#8e0152"
            ],
            [
             0.1,
             "#c51b7d"
            ],
            [
             0.2,
             "#de77ae"
            ],
            [
             0.3,
             "#f1b6da"
            ],
            [
             0.4,
             "#fde0ef"
            ],
            [
             0.5,
             "#f7f7f7"
            ],
            [
             0.6,
             "#e6f5d0"
            ],
            [
             0.7,
             "#b8e186"
            ],
            [
             0.8,
             "#7fbc41"
            ],
            [
             0.9,
             "#4d9221"
            ],
            [
             1,
             "#276419"
            ]
           ],
           "sequential": [
            [
             0,
             "#0d0887"
            ],
            [
             0.1111111111111111,
             "#46039f"
            ],
            [
             0.2222222222222222,
             "#7201a8"
            ],
            [
             0.3333333333333333,
             "#9c179e"
            ],
            [
             0.4444444444444444,
             "#bd3786"
            ],
            [
             0.5555555555555556,
             "#d8576b"
            ],
            [
             0.6666666666666666,
             "#ed7953"
            ],
            [
             0.7777777777777778,
             "#fb9f3a"
            ],
            [
             0.8888888888888888,
             "#fdca26"
            ],
            [
             1,
             "#f0f921"
            ]
           ],
           "sequentialminus": [
            [
             0,
             "#0d0887"
            ],
            [
             0.1111111111111111,
             "#46039f"
            ],
            [
             0.2222222222222222,
             "#7201a8"
            ],
            [
             0.3333333333333333,
             "#9c179e"
            ],
            [
             0.4444444444444444,
             "#bd3786"
            ],
            [
             0.5555555555555556,
             "#d8576b"
            ],
            [
             0.6666666666666666,
             "#ed7953"
            ],
            [
             0.7777777777777778,
             "#fb9f3a"
            ],
            [
             0.8888888888888888,
             "#fdca26"
            ],
            [
             1,
             "#f0f921"
            ]
           ]
          },
          "colorway": [
           "#636efa",
           "#EF553B",
           "#00cc96",
           "#ab63fa",
           "#FFA15A",
           "#19d3f3",
           "#FF6692",
           "#B6E880",
           "#FF97FF",
           "#FECB52"
          ],
          "font": {
           "color": "#2a3f5f"
          },
          "geo": {
           "bgcolor": "white",
           "lakecolor": "white",
           "landcolor": "#E5ECF6",
           "showlakes": true,
           "showland": true,
           "subunitcolor": "white"
          },
          "hoverlabel": {
           "align": "left"
          },
          "hovermode": "closest",
          "mapbox": {
           "style": "light"
          },
          "paper_bgcolor": "white",
          "plot_bgcolor": "#E5ECF6",
          "polar": {
           "angularaxis": {
            "gridcolor": "white",
            "linecolor": "white",
            "ticks": ""
           },
           "bgcolor": "#E5ECF6",
           "radialaxis": {
            "gridcolor": "white",
            "linecolor": "white",
            "ticks": ""
           }
          },
          "scene": {
           "xaxis": {
            "backgroundcolor": "#E5ECF6",
            "gridcolor": "white",
            "gridwidth": 2,
            "linecolor": "white",
            "showbackground": true,
            "ticks": "",
            "zerolinecolor": "white"
           },
           "yaxis": {
            "backgroundcolor": "#E5ECF6",
            "gridcolor": "white",
            "gridwidth": 2,
            "linecolor": "white",
            "showbackground": true,
            "ticks": "",
            "zerolinecolor": "white"
           },
           "zaxis": {
            "backgroundcolor": "#E5ECF6",
            "gridcolor": "white",
            "gridwidth": 2,
            "linecolor": "white",
            "showbackground": true,
            "ticks": "",
            "zerolinecolor": "white"
           }
          },
          "shapedefaults": {
           "line": {
            "color": "#2a3f5f"
           }
          },
          "ternary": {
           "aaxis": {
            "gridcolor": "white",
            "linecolor": "white",
            "ticks": ""
           },
           "baxis": {
            "gridcolor": "white",
            "linecolor": "white",
            "ticks": ""
           },
           "bgcolor": "#E5ECF6",
           "caxis": {
            "gridcolor": "white",
            "linecolor": "white",
            "ticks": ""
           }
          },
          "title": {
           "x": 0.05
          },
          "xaxis": {
           "automargin": true,
           "gridcolor": "white",
           "linecolor": "white",
           "ticks": "",
           "title": {
            "standoff": 15
           },
           "zerolinecolor": "white",
           "zerolinewidth": 2
          },
          "yaxis": {
           "automargin": true,
           "gridcolor": "white",
           "linecolor": "white",
           "ticks": "",
           "title": {
            "standoff": 15
           },
           "zerolinecolor": "white",
           "zerolinewidth": 2
          }
         }
        },
        "title": {
         "text": "Largest performance differences within education categories<br><sup>(Showing 5/10 age levels per plot and 5/9 education categories)</sup>"
        },
        "xaxis": {
         "anchor": "y",
         "domain": [
          0,
          1
         ],
         "matches": "x5",
         "showticklabels": false
        },
        "xaxis2": {
         "anchor": "y2",
         "domain": [
          0,
          1
         ],
         "matches": "x5",
         "showticklabels": false
        },
        "xaxis3": {
         "anchor": "y3",
         "domain": [
          0,
          1
         ],
         "matches": "x5",
         "showticklabels": false
        },
        "xaxis4": {
         "anchor": "y4",
         "domain": [
          0,
          1
         ],
         "matches": "x5",
         "showticklabels": false
        },
        "xaxis5": {
         "anchor": "y5",
         "domain": [
          0,
          1
         ],
         "title": {
          "text": "f1 score"
         }
        },
        "yaxis": {
         "anchor": "x",
         "domain": [
          0.8500879226959952,
          0.9999999999999999
         ],
         "tickmode": "linear",
         "title": {
          "text": "age"
         }
        },
        "yaxis2": {
         "anchor": "x2",
         "domain": [
          0.6375659420219965,
          0.7874780193260011
         ],
         "tickmode": "linear",
         "title": {
          "text": "age"
         }
        },
        "yaxis3": {
         "anchor": "x3",
         "domain": [
          0.4250439613479976,
          0.5749560386520023
         ],
         "tickmode": "linear",
         "title": {
          "text": "age"
         }
        },
        "yaxis4": {
         "anchor": "x4",
         "domain": [
          0.2125219806739988,
          0.36243405797800354
         ],
         "tickmode": "linear",
         "title": {
          "text": "age"
         }
        },
        "yaxis5": {
         "anchor": "x5",
         "domain": [
          0,
          0.14991207730400471
         ],
         "tickmode": "linear",
         "title": {
          "text": "age"
         }
        }
       }
      }
     },
     "metadata": {},
     "output_type": "display_data"
    }
   ],
   "source": [
    "check = PerformanceDisparityReport(protected_feature=\"age\", control_feature=\"education\", scorer=\"f1\", max_subgroups_per_category_to_display=5, max_categories_to_display=5)\n",
    "res = check.run(dataset, model=model)\n",
    "res.display[0].show(rendered=\"svg\")"
   ]
  },
  {
   "cell_type": "code",
   "execution_count": 10,
   "metadata": {},
   "outputs": [
    {
     "name": "stderr",
     "output_type": "stream",
     "text": [
      "/home/olivieratduke/anaconda3/envs/deepchecks/lib/python3.9/site-packages/sklearn/metrics/_classification.py:1609: UndefinedMetricWarning:\n",
      "\n",
      "F-score is ill-defined and being set to 0.0 due to no true nor predicted samples. Use `zero_division` parameter to control this behavior.\n",
      "\n",
      "/home/olivieratduke/anaconda3/envs/deepchecks/lib/python3.9/site-packages/sklearn/metrics/_classification.py:1609: UndefinedMetricWarning:\n",
      "\n",
      "F-score is ill-defined and being set to 0.0 due to no true nor predicted samples. Use `zero_division` parameter to control this behavior.\n",
      "\n",
      "/home/olivieratduke/anaconda3/envs/deepchecks/lib/python3.9/site-packages/sklearn/metrics/_classification.py:1609: UndefinedMetricWarning:\n",
      "\n",
      "F-score is ill-defined and being set to 0.0 due to no true nor predicted samples. Use `zero_division` parameter to control this behavior.\n",
      "\n",
      "/home/olivieratduke/anaconda3/envs/deepchecks/lib/python3.9/site-packages/sklearn/metrics/_classification.py:1609: UndefinedMetricWarning:\n",
      "\n",
      "F-score is ill-defined and being set to 0.0 due to no true nor predicted samples. Use `zero_division` parameter to control this behavior.\n",
      "\n",
      "/home/olivieratduke/anaconda3/envs/deepchecks/lib/python3.9/site-packages/sklearn/metrics/_classification.py:1609: UndefinedMetricWarning:\n",
      "\n",
      "F-score is ill-defined and being set to 0.0 due to no true nor predicted samples. Use `zero_division` parameter to control this behavior.\n",
      "\n",
      "/home/olivieratduke/anaconda3/envs/deepchecks/lib/python3.9/site-packages/sklearn/metrics/_classification.py:1609: UndefinedMetricWarning:\n",
      "\n",
      "F-score is ill-defined and being set to 0.0 due to no true nor predicted samples. Use `zero_division` parameter to control this behavior.\n",
      "\n"
     ]
    },
    {
     "data": {
      "application/vnd.plotly.v1+json": {
       "config": {
        "plotlyServerURL": "https://plot.ly"
       },
       "data": [
        {
         "cliponaxis": false,
         "hovertemplate": [
          "%{y}: %{x} (group size: 290)<extra></extra>",
          "baseline: %{x} (group size: 1723)<extra></extra>"
         ],
         "line": {
          "color": "limegreen",
          "width": 8
         },
         "marker": {
          "color": [
           "white",
           "#222222"
          ],
          "line": {
           "color": [
            "limegreen",
            "limegreen"
           ],
           "width": [
            2,
            2
           ]
          },
          "size": 6,
          "symbol": 0
         },
         "mode": "lines+text+markers",
         "opacity": 1,
         "showlegend": false,
         "type": "scatter",
         "x": [
          0.8632707774798928,
          0.8056426332288402
         ],
         "xaxis": "x",
         "y": [
          "[45 - 50)",
          "[45 - 50)"
         ],
         "yaxis": "y"
        },
        {
         "cliponaxis": false,
         "hovertemplate": [
          "%{y}: %{x} (group size: 314)<extra></extra>",
          "baseline: %{x} (group size: 1723)<extra></extra>"
         ],
         "line": {
          "color": "limegreen",
          "width": 8
         },
         "marker": {
          "color": [
           "white",
           "#222222"
          ],
          "line": {
           "color": [
            "limegreen",
            "limegreen"
           ],
           "width": [
            2,
            2
           ]
          },
          "size": 6,
          "symbol": 0
         },
         "mode": "lines+text+markers",
         "opacity": 1,
         "showlegend": false,
         "type": "scatter",
         "x": [
          0.8450704225352113,
          0.8056426332288402
         ],
         "xaxis": "x",
         "y": [
          "[50 - 58)",
          "[50 - 58)"
         ],
         "yaxis": "y"
        },
        {
         "cliponaxis": false,
         "hovertemplate": [
          "%{y}: %{x} (group size: 213)<extra></extra>",
          "baseline: %{x} (group size: 1723)<extra></extra>"
         ],
         "line": {
          "color": "limegreen",
          "width": 8
         },
         "marker": {
          "color": [
           "white",
           "#222222"
          ],
          "line": {
           "color": [
            "limegreen",
            "limegreen"
           ],
           "width": [
            2,
            2
           ]
          },
          "size": 6,
          "symbol": 0
         },
         "mode": "lines+text+markers",
         "opacity": 1,
         "showlegend": false,
         "type": "scatter",
         "x": [
          0.8249027237354085,
          0.8056426332288402
         ],
         "xaxis": "x",
         "y": [
          "[37 - 41)",
          "[37 - 41)"
         ],
         "yaxis": "y"
        },
        {
         "cliponaxis": false,
         "hovertemplate": [
          "%{y}: %{x} (group size: 269)<extra></extra>",
          "baseline: %{x} (group size: 1723)<extra></extra>"
         ],
         "line": {
          "color": "limegreen",
          "width": 8
         },
         "marker": {
          "color": [
           "white",
           "#222222"
          ],
          "line": {
           "color": [
            "limegreen",
            "limegreen"
           ],
           "width": [
            2,
            2
           ]
          },
          "size": 6,
          "symbol": 0
         },
         "mode": "lines+text+markers",
         "opacity": 1,
         "showlegend": false,
         "type": "scatter",
         "x": [
          0.809968847352025,
          0.8056426332288402
         ],
         "xaxis": "x",
         "y": [
          "[41 - 45)",
          "[41 - 45)"
         ],
         "yaxis": "y"
        },
        {
         "cliponaxis": false,
         "hovertemplate": [
          "%{y}: %{x} (group size: 185)<extra></extra>",
          "baseline: %{x} (group size: 1723)<extra></extra>"
         ],
         "line": {
          "color": "orangered",
          "width": 8
         },
         "marker": {
          "color": [
           "white",
           "#222222"
          ],
          "line": {
           "color": [
            "orangered",
            "orangered"
           ],
           "width": [
            2,
            2
           ]
          },
          "size": 6,
          "symbol": 0
         },
         "mode": "lines+text+markers",
         "opacity": 1,
         "showlegend": false,
         "type": "scatter",
         "x": [
          0.7850467289719626,
          0.8056426332288402
         ],
         "xaxis": "x",
         "y": [
          "[33 - 37)",
          "[33 - 37)"
         ],
         "yaxis": "y"
        },
        {
         "cliponaxis": false,
         "hovertemplate": [
          "%{y}: %{x} (group size: 96)<extra></extra>",
          "baseline: %{x} (group size: 1723)<extra></extra>"
         ],
         "line": {
          "color": "orangered",
          "width": 8
         },
         "marker": {
          "color": [
           "white",
           "#222222"
          ],
          "line": {
           "color": [
            "orangered",
            "orangered"
           ],
           "width": [
            2,
            2
           ]
          },
          "size": 6,
          "symbol": 0
         },
         "mode": "lines+text+markers",
         "opacity": 1,
         "showlegend": false,
         "type": "scatter",
         "x": [
          0.7415730337078651,
          0.8056426332288402
         ],
         "xaxis": "x",
         "y": [
          "[30 - 33)",
          "[30 - 33)"
         ],
         "yaxis": "y"
        },
        {
         "cliponaxis": false,
         "hovertemplate": [
          "%{y}: %{x} (group size: 188)<extra></extra>",
          "baseline: %{x} (group size: 1723)<extra></extra>"
         ],
         "line": {
          "color": "orangered",
          "width": 8
         },
         "marker": {
          "color": [
           "white",
           "#222222"
          ],
          "line": {
           "color": [
            "orangered",
            "orangered"
           ],
           "width": [
            2,
            2
           ]
          },
          "size": 6,
          "symbol": 0
         },
         "mode": "lines+text+markers",
         "opacity": 1,
         "showlegend": false,
         "type": "scatter",
         "x": [
          0.7127659574468086,
          0.8056426332288402
         ],
         "xaxis": "x",
         "y": [
          "[58 - 90]",
          "[58 - 90]"
         ],
         "yaxis": "y"
        },
        {
         "cliponaxis": false,
         "hovertemplate": [
          "%{y}: %{x} (group size: 121)<extra></extra>",
          "baseline: %{x} (group size: 1723)<extra></extra>"
         ],
         "line": {
          "color": "orangered",
          "width": 8
         },
         "marker": {
          "color": [
           "white",
           "#222222"
          ],
          "line": {
           "color": [
            "orangered",
            "orangered"
           ],
           "width": [
            2,
            2
           ]
          },
          "size": 6,
          "symbol": 0
         },
         "mode": "lines+text+markers",
         "opacity": 1,
         "showlegend": false,
         "type": "scatter",
         "x": [
          0.43902439024390244,
          0.8056426332288402
         ],
         "xaxis": "x",
         "y": [
          "[26 - 30)",
          "[26 - 30)"
         ],
         "yaxis": "y"
        },
        {
         "cliponaxis": false,
         "hovertemplate": [
          "%{y}: %{x} (group size: 44)<extra></extra>",
          "baseline: %{x} (group size: 1723)<extra></extra>"
         ],
         "line": {
          "color": "orangered",
          "width": 8
         },
         "marker": {
          "color": [
           "white",
           "#222222"
          ],
          "line": {
           "color": [
            "orangered",
            "orangered"
           ],
           "width": [
            2,
            2
           ]
          },
          "size": 6,
          "symbol": 0
         },
         "mode": "lines+text+markers",
         "opacity": 1,
         "showlegend": false,
         "type": "scatter",
         "x": [
          0.4,
          0.8056426332288402
         ],
         "xaxis": "x",
         "y": [
          "[22 - 26)",
          "[22 - 26)"
         ],
         "yaxis": "y"
        },
        {
         "cliponaxis": false,
         "hovertemplate": [
          "%{y}: %{x} (group size: 3)<extra></extra>",
          "baseline: %{x} (group size: 1723)<extra></extra>"
         ],
         "line": {
          "color": "orangered",
          "width": 8
         },
         "marker": {
          "color": [
           "white",
           "#222222"
          ],
          "line": {
           "color": [
            "orangered",
            "orangered"
           ],
           "width": [
            2,
            2
           ]
          },
          "size": 6,
          "symbol": 0
         },
         "mode": "lines+text+markers",
         "opacity": 1,
         "showlegend": false,
         "type": "scatter",
         "x": [
          0,
          0.8056426332288402
         ],
         "xaxis": "x",
         "y": [
          "[17 - 22)",
          "[17 - 22)"
         ],
         "yaxis": "y"
        },
        {
         "cliponaxis": false,
         "hovertemplate": [
          "%{y}: %{x} (group size: 281)<extra></extra>",
          "baseline: %{x} (group size: 3134)<extra></extra>"
         ],
         "line": {
          "color": "limegreen",
          "width": 8
         },
         "marker": {
          "color": [
           "white",
           "#222222"
          ],
          "line": {
           "color": [
            "limegreen",
            "limegreen"
           ],
           "width": [
            2,
            2
           ]
          },
          "size": 6,
          "symbol": 0
         },
         "mode": "lines+text+markers",
         "opacity": 1,
         "showlegend": false,
         "type": "scatter",
         "x": [
          0.8672566371681416,
          0.802030456852792
         ],
         "xaxis": "x2",
         "y": [
          "[41 - 45)",
          "[41 - 45)"
         ],
         "yaxis": "y2"
        },
        {
         "cliponaxis": false,
         "hovertemplate": [
          "%{y}: %{x} (group size: 263)<extra></extra>",
          "baseline: %{x} (group size: 3134)<extra></extra>"
         ],
         "line": {
          "color": "limegreen",
          "width": 8
         },
         "marker": {
          "color": [
           "white",
           "#222222"
          ],
          "line": {
           "color": [
            "limegreen",
            "limegreen"
           ],
           "width": [
            2,
            2
           ]
          },
          "size": 6,
          "symbol": 0
         },
         "mode": "lines+text+markers",
         "opacity": 1,
         "showlegend": false,
         "type": "scatter",
         "x": [
          0.8532110091743118,
          0.802030456852792
         ],
         "xaxis": "x2",
         "y": [
          "[37 - 41)",
          "[37 - 41)"
         ],
         "yaxis": "y2"
        },
        {
         "cliponaxis": false,
         "hovertemplate": [
          "%{y}: %{x} (group size: 343)<extra></extra>",
          "baseline: %{x} (group size: 3134)<extra></extra>"
         ],
         "line": {
          "color": "limegreen",
          "width": 8
         },
         "marker": {
          "color": [
           "white",
           "#222222"
          ],
          "line": {
           "color": [
            "limegreen",
            "limegreen"
           ],
           "width": [
            2,
            2
           ]
          },
          "size": 6,
          "symbol": 0
         },
         "mode": "lines+text+markers",
         "opacity": 1,
         "showlegend": false,
         "type": "scatter",
         "x": [
          0.8278388278388278,
          0.802030456852792
         ],
         "xaxis": "x2",
         "y": [
          "[45 - 50)",
          "[45 - 50)"
         ],
         "yaxis": "y2"
        },
        {
         "cliponaxis": false,
         "hovertemplate": [
          "%{y}: %{x} (group size: 199)<extra></extra>",
          "baseline: %{x} (group size: 3134)<extra></extra>"
         ],
         "line": {
          "color": "limegreen",
          "width": 8
         },
         "marker": {
          "color": [
           "white",
           "#222222"
          ],
          "line": {
           "color": [
            "limegreen",
            "limegreen"
           ],
           "width": [
            2,
            2
           ]
          },
          "size": 6,
          "symbol": 0
         },
         "mode": "lines+text+markers",
         "opacity": 1,
         "showlegend": false,
         "type": "scatter",
         "x": [
          0.8115942028985507,
          0.802030456852792
         ],
         "xaxis": "x2",
         "y": [
          "[30 - 33)",
          "[30 - 33)"
         ],
         "yaxis": "y2"
        },
        {
         "cliponaxis": false,
         "hovertemplate": [
          "%{y}: %{x} (group size: 486)<extra></extra>",
          "baseline: %{x} (group size: 3134)<extra></extra>"
         ],
         "line": {
          "color": "orangered",
          "width": 8
         },
         "marker": {
          "color": [
           "white",
           "#222222"
          ],
          "line": {
           "color": [
            "orangered",
            "orangered"
           ],
           "width": [
            2,
            2
           ]
          },
          "size": 6,
          "symbol": 0
         },
         "mode": "lines+text+markers",
         "opacity": 1,
         "showlegend": false,
         "type": "scatter",
         "x": [
          0.8012820512820513,
          0.802030456852792
         ],
         "xaxis": "x2",
         "y": [
          "[50 - 58)",
          "[50 - 58)"
         ],
         "yaxis": "y2"
        },
        {
         "cliponaxis": false,
         "hovertemplate": [
          "%{y}: %{x} (group size: 627)<extra></extra>",
          "baseline: %{x} (group size: 3134)<extra></extra>"
         ],
         "line": {
          "color": "orangered",
          "width": 8
         },
         "marker": {
          "color": [
           "white",
           "#222222"
          ],
          "line": {
           "color": [
            "orangered",
            "orangered"
           ],
           "width": [
            2,
            2
           ]
          },
          "size": 6,
          "symbol": 0
         },
         "mode": "lines+text+markers",
         "opacity": 1,
         "showlegend": false,
         "type": "scatter",
         "x": [
          0.7598566308243727,
          0.802030456852792
         ],
         "xaxis": "x2",
         "y": [
          "[58 - 90]",
          "[58 - 90]"
         ],
         "yaxis": "y2"
        },
        {
         "cliponaxis": false,
         "hovertemplate": [
          "%{y}: %{x} (group size: 268)<extra></extra>",
          "baseline: %{x} (group size: 3134)<extra></extra>"
         ],
         "line": {
          "color": "orangered",
          "width": 8
         },
         "marker": {
          "color": [
           "white",
           "#222222"
          ],
          "line": {
           "color": [
            "orangered",
            "orangered"
           ],
           "width": [
            2,
            2
           ]
          },
          "size": 6,
          "symbol": 0
         },
         "mode": "lines+text+markers",
         "opacity": 1,
         "showlegend": false,
         "type": "scatter",
         "x": [
          0.7421383647798742,
          0.802030456852792
         ],
         "xaxis": "x2",
         "y": [
          "[33 - 37)",
          "[33 - 37)"
         ],
         "yaxis": "y2"
        },
        {
         "cliponaxis": false,
         "hovertemplate": [
          "%{y}: %{x} (group size: 261)<extra></extra>",
          "baseline: %{x} (group size: 3134)<extra></extra>"
         ],
         "line": {
          "color": "orangered",
          "width": 8
         },
         "marker": {
          "color": [
           "white",
           "#222222"
          ],
          "line": {
           "color": [
            "orangered",
            "orangered"
           ],
           "width": [
            2,
            2
           ]
          },
          "size": 6,
          "symbol": 0
         },
         "mode": "lines+text+markers",
         "opacity": 1,
         "showlegend": false,
         "type": "scatter",
         "x": [
          0.6666666666666666,
          0.802030456852792
         ],
         "xaxis": "x2",
         "y": [
          "[17 - 22)",
          "[17 - 22)"
         ],
         "yaxis": "y2"
        },
        {
         "cliponaxis": false,
         "hovertemplate": [
          "%{y}: %{x} (group size: 216)<extra></extra>",
          "baseline: %{x} (group size: 3134)<extra></extra>"
         ],
         "line": {
          "color": "orangered",
          "width": 8
         },
         "marker": {
          "color": [
           "white",
           "#222222"
          ],
          "line": {
           "color": [
            "orangered",
            "orangered"
           ],
           "width": [
            2,
            2
           ]
          },
          "size": 6,
          "symbol": 0
         },
         "mode": "lines+text+markers",
         "opacity": 1,
         "showlegend": false,
         "type": "scatter",
         "x": [
          0.5454545454545454,
          0.802030456852792
         ],
         "xaxis": "x2",
         "y": [
          "[26 - 30)",
          "[26 - 30)"
         ],
         "yaxis": "y2"
        },
        {
         "cliponaxis": false,
         "hovertemplate": [
          "%{y}: %{x} (group size: 190)<extra></extra>",
          "baseline: %{x} (group size: 3134)<extra></extra>"
         ],
         "line": {
          "color": "orangered",
          "width": 8
         },
         "marker": {
          "color": [
           "white",
           "#222222"
          ],
          "line": {
           "color": [
            "orangered",
            "orangered"
           ],
           "width": [
            2,
            2
           ]
          },
          "size": 6,
          "symbol": 0
         },
         "mode": "lines+text+markers",
         "opacity": 1,
         "showlegend": false,
         "type": "scatter",
         "x": [
          0,
          0.802030456852792
         ],
         "xaxis": "x2",
         "y": [
          "[22 - 26)",
          "[22 - 26)"
         ],
         "yaxis": "y2"
        },
        {
         "cliponaxis": false,
         "hovertemplate": [
          "%{y}: %{x} (group size: 539)<extra></extra>",
          "baseline: %{x} (group size: 5355)<extra></extra>"
         ],
         "line": {
          "color": "limegreen",
          "width": 8
         },
         "marker": {
          "color": [
           "white",
           "#222222"
          ],
          "line": {
           "color": [
            "limegreen",
            "limegreen"
           ],
           "width": [
            2,
            2
           ]
          },
          "size": 6,
          "symbol": 0
         },
         "mode": "lines+text+markers",
         "opacity": 1,
         "showlegend": false,
         "type": "scatter",
         "x": [
          0.8017751479289942,
          0.7558918918918918
         ],
         "xaxis": "x3",
         "y": [
          "[50 - 58)",
          "[50 - 58)"
         ],
         "yaxis": "y3"
        },
        {
         "cliponaxis": false,
         "hovertemplate": [
          "%{y}: %{x} (group size: 622)<extra></extra>",
          "baseline: %{x} (group size: 5355)<extra></extra>"
         ],
         "line": {
          "color": "limegreen",
          "width": 8
         },
         "marker": {
          "color": [
           "white",
           "#222222"
          ],
          "line": {
           "color": [
            "limegreen",
            "limegreen"
           ],
           "width": [
            2,
            2
           ]
          },
          "size": 6,
          "symbol": 0
         },
         "mode": "lines+text+markers",
         "opacity": 1,
         "showlegend": false,
         "type": "scatter",
         "x": [
          0.800578034682081,
          0.7558918918918918
         ],
         "xaxis": "x3",
         "y": [
          "[37 - 41)",
          "[37 - 41)"
         ],
         "yaxis": "y3"
        },
        {
         "cliponaxis": false,
         "hovertemplate": [
          "%{y}: %{x} (group size: 598)<extra></extra>",
          "baseline: %{x} (group size: 5355)<extra></extra>"
         ],
         "line": {
          "color": "limegreen",
          "width": 8
         },
         "marker": {
          "color": [
           "white",
           "#222222"
          ],
          "line": {
           "color": [
            "limegreen",
            "limegreen"
           ],
           "width": [
            2,
            2
           ]
          },
          "size": 6,
          "symbol": 0
         },
         "mode": "lines+text+markers",
         "opacity": 1,
         "showlegend": false,
         "type": "scatter",
         "x": [
          0.7874659400544959,
          0.7558918918918918
         ],
         "xaxis": "x3",
         "y": [
          "[45 - 50)",
          "[45 - 50)"
         ],
         "yaxis": "y3"
        },
        {
         "cliponaxis": false,
         "hovertemplate": [
          "%{y}: %{x} (group size: 609)<extra></extra>",
          "baseline: %{x} (group size: 5355)<extra></extra>"
         ],
         "line": {
          "color": "limegreen",
          "width": 8
         },
         "marker": {
          "color": [
           "white",
           "#222222"
          ],
          "line": {
           "color": [
            "limegreen",
            "limegreen"
           ],
           "width": [
            2,
            2
           ]
          },
          "size": 6,
          "symbol": 0
         },
         "mode": "lines+text+markers",
         "opacity": 1,
         "showlegend": false,
         "type": "scatter",
         "x": [
          0.7788873038516404,
          0.7558918918918918
         ],
         "xaxis": "x3",
         "y": [
          "[41 - 45)",
          "[41 - 45)"
         ],
         "yaxis": "y3"
        },
        {
         "cliponaxis": false,
         "hovertemplate": [
          "%{y}: %{x} (group size: 436)<extra></extra>",
          "baseline: %{x} (group size: 5355)<extra></extra>"
         ],
         "line": {
          "color": "orangered",
          "width": 8
         },
         "marker": {
          "color": [
           "white",
           "#222222"
          ],
          "line": {
           "color": [
            "orangered",
            "orangered"
           ],
           "width": [
            2,
            2
           ]
          },
          "size": 6,
          "symbol": 0
         },
         "mode": "lines+text+markers",
         "opacity": 1,
         "showlegend": false,
         "type": "scatter",
         "x": [
          0.7483870967741935,
          0.7558918918918918
         ],
         "xaxis": "x3",
         "y": [
          "[58 - 90]",
          "[58 - 90]"
         ],
         "yaxis": "y3"
        },
        {
         "cliponaxis": false,
         "hovertemplate": [
          "%{y}: %{x} (group size: 650)<extra></extra>",
          "baseline: %{x} (group size: 5355)<extra></extra>"
         ],
         "line": {
          "color": "orangered",
          "width": 8
         },
         "marker": {
          "color": [
           "white",
           "#222222"
          ],
          "line": {
           "color": [
            "orangered",
            "orangered"
           ],
           "width": [
            2,
            2
           ]
          },
          "size": 6,
          "symbol": 0
         },
         "mode": "lines+text+markers",
         "opacity": 1,
         "showlegend": false,
         "type": "scatter",
         "x": [
          0.746031746031746,
          0.7558918918918918
         ],
         "xaxis": "x3",
         "y": [
          "[33 - 37)",
          "[33 - 37)"
         ],
         "yaxis": "y3"
        },
        {
         "cliponaxis": false,
         "hovertemplate": [
          "%{y}: %{x} (group size: 514)<extra></extra>",
          "baseline: %{x} (group size: 5355)<extra></extra>"
         ],
         "line": {
          "color": "orangered",
          "width": 8
         },
         "marker": {
          "color": [
           "white",
           "#222222"
          ],
          "line": {
           "color": [
            "orangered",
            "orangered"
           ],
           "width": [
            2,
            2
           ]
          },
          "size": 6,
          "symbol": 0
         },
         "mode": "lines+text+markers",
         "opacity": 1,
         "showlegend": false,
         "type": "scatter",
         "x": [
          0.7136363636363636,
          0.7558918918918918
         ],
         "xaxis": "x3",
         "y": [
          "[30 - 33)",
          "[30 - 33)"
         ],
         "yaxis": "y3"
        },
        {
         "cliponaxis": false,
         "hovertemplate": [
          "%{y}: %{x} (group size: 671)<extra></extra>",
          "baseline: %{x} (group size: 5355)<extra></extra>"
         ],
         "line": {
          "color": "orangered",
          "width": 8
         },
         "marker": {
          "color": [
           "white",
           "#222222"
          ],
          "line": {
           "color": [
            "orangered",
            "orangered"
           ],
           "width": [
            2,
            2
           ]
          },
          "size": 6,
          "symbol": 0
         },
         "mode": "lines+text+markers",
         "opacity": 1,
         "showlegend": false,
         "type": "scatter",
         "x": [
          0.6153846153846154,
          0.7558918918918918
         ],
         "xaxis": "x3",
         "y": [
          "[22 - 26)",
          "[22 - 26)"
         ],
         "yaxis": "y3"
        },
        {
         "cliponaxis": false,
         "hovertemplate": [
          "%{y}: %{x} (group size: 706)<extra></extra>",
          "baseline: %{x} (group size: 5355)<extra></extra>"
         ],
         "line": {
          "color": "orangered",
          "width": 8
         },
         "marker": {
          "color": [
           "white",
           "#222222"
          ],
          "line": {
           "color": [
            "orangered",
            "orangered"
           ],
           "width": [
            2,
            2
           ]
          },
          "size": 6,
          "symbol": 0
         },
         "mode": "lines+text+markers",
         "opacity": 1,
         "showlegend": false,
         "type": "scatter",
         "x": [
          0.476595744680851,
          0.7558918918918918
         ],
         "xaxis": "x3",
         "y": [
          "[26 - 30)",
          "[26 - 30)"
         ],
         "yaxis": "y3"
        },
        {
         "cliponaxis": false,
         "hovertemplate": [
          "%{y}: %{x} (group size: 10)<extra></extra>",
          "baseline: %{x} (group size: 5355)<extra></extra>"
         ],
         "line": {
          "color": "orangered",
          "width": 8
         },
         "marker": {
          "color": [
           "white",
           "#222222"
          ],
          "line": {
           "color": [
            "orangered",
            "orangered"
           ],
           "width": [
            2,
            2
           ]
          },
          "size": 6,
          "symbol": 0
         },
         "mode": "lines+text+markers",
         "opacity": 1,
         "showlegend": false,
         "type": "scatter",
         "x": [
          0,
          0.7558918918918918
         ],
         "xaxis": "x3",
         "y": [
          "[17 - 22)",
          "[17 - 22)"
         ],
         "yaxis": "y3"
        },
        {
         "cliponaxis": false,
         "hovertemplate": [
          "%{y}: %{x} (group size: 95)<extra></extra>",
          "baseline: %{x} (group size: 1175)<extra></extra>"
         ],
         "line": {
          "color": "limegreen",
          "width": 8
         },
         "marker": {
          "color": [
           "white",
           "#222222"
          ],
          "line": {
           "color": [
            "limegreen",
            "limegreen"
           ],
           "width": [
            2,
            2
           ]
          },
          "size": 6,
          "symbol": 0
         },
         "mode": "lines+text+markers",
         "opacity": 1,
         "showlegend": false,
         "type": "scatter",
         "x": [
          0.8,
          0.4415584415584416
         ],
         "xaxis": "x4",
         "y": [
          "[33 - 37)",
          "[33 - 37)"
         ],
         "yaxis": "y4"
        },
        {
         "cliponaxis": false,
         "hovertemplate": [
          "%{y}: %{x} (group size: 95)<extra></extra>",
          "baseline: %{x} (group size: 1175)<extra></extra>"
         ],
         "line": {
          "color": "limegreen",
          "width": 8
         },
         "marker": {
          "color": [
           "white",
           "#222222"
          ],
          "line": {
           "color": [
            "limegreen",
            "limegreen"
           ],
           "width": [
            2,
            2
           ]
          },
          "size": 6,
          "symbol": 0
         },
         "mode": "lines+text+markers",
         "opacity": 1,
         "showlegend": false,
         "type": "scatter",
         "x": [
          0.7499999999999999,
          0.4415584415584416
         ],
         "xaxis": "x4",
         "y": [
          "[22 - 26)",
          "[22 - 26)"
         ],
         "yaxis": "y4"
        },
        {
         "cliponaxis": false,
         "hovertemplate": [
          "%{y}: %{x} (group size: 49)<extra></extra>",
          "baseline: %{x} (group size: 1175)<extra></extra>"
         ],
         "line": {
          "color": "limegreen",
          "width": 8
         },
         "marker": {
          "color": [
           "white",
           "#222222"
          ],
          "line": {
           "color": [
            "limegreen",
            "limegreen"
           ],
           "width": [
            2,
            2
           ]
          },
          "size": 6,
          "symbol": 0
         },
         "mode": "lines+text+markers",
         "opacity": 1,
         "showlegend": false,
         "type": "scatter",
         "x": [
          0.6666666666666666,
          0.4415584415584416
         ],
         "xaxis": "x4",
         "y": [
          "[41 - 45)",
          "[41 - 45)"
         ],
         "yaxis": "y4"
        },
        {
         "cliponaxis": false,
         "hovertemplate": [
          "%{y}: %{x} (group size: 70)<extra></extra>",
          "baseline: %{x} (group size: 1175)<extra></extra>"
         ],
         "line": {
          "color": "limegreen",
          "width": 8
         },
         "marker": {
          "color": [
           "white",
           "#222222"
          ],
          "line": {
           "color": [
            "limegreen",
            "limegreen"
           ],
           "width": [
            2,
            2
           ]
          },
          "size": 6,
          "symbol": 0
         },
         "mode": "lines+text+markers",
         "opacity": 1,
         "showlegend": false,
         "type": "scatter",
         "x": [
          0.5,
          0.4415584415584416
         ],
         "xaxis": "x4",
         "y": [
          "[30 - 33)",
          "[30 - 33)"
         ],
         "yaxis": "y4"
        },
        {
         "cliponaxis": false,
         "hovertemplate": [
          "%{y}: %{x} (group size: 111)<extra></extra>",
          "baseline: %{x} (group size: 1175)<extra></extra>"
         ],
         "line": {
          "color": "limegreen",
          "width": 8
         },
         "marker": {
          "color": [
           "white",
           "#222222"
          ],
          "line": {
           "color": [
            "limegreen",
            "limegreen"
           ],
           "width": [
            2,
            2
           ]
          },
          "size": 6,
          "symbol": 0
         },
         "mode": "lines+text+markers",
         "opacity": 1,
         "showlegend": false,
         "type": "scatter",
         "x": [
          0.5,
          0.4415584415584416
         ],
         "xaxis": "x4",
         "y": [
          "[58 - 90]",
          "[58 - 90]"
         ],
         "yaxis": "y4"
        },
        {
         "cliponaxis": false,
         "hovertemplate": [
          "%{y}: %{x} (group size: 69)<extra></extra>",
          "baseline: %{x} (group size: 1175)<extra></extra>"
         ],
         "line": {
          "color": "limegreen",
          "width": 8
         },
         "marker": {
          "color": [
           "white",
           "#222222"
          ],
          "line": {
           "color": [
            "limegreen",
            "limegreen"
           ],
           "width": [
            2,
            2
           ]
          },
          "size": 6,
          "symbol": 0
         },
         "mode": "lines+text+markers",
         "opacity": 1,
         "showlegend": false,
         "type": "scatter",
         "x": [
          0.4444444444444445,
          0.4415584415584416
         ],
         "xaxis": "x4",
         "y": [
          "[37 - 41)",
          "[37 - 41)"
         ],
         "yaxis": "y4"
        },
        {
         "cliponaxis": false,
         "hovertemplate": [
          "%{y}: %{x} (group size: 79)<extra></extra>",
          "baseline: %{x} (group size: 1175)<extra></extra>"
         ],
         "line": {
          "color": "orangered",
          "width": 8
         },
         "marker": {
          "color": [
           "white",
           "#222222"
          ],
          "line": {
           "color": [
            "orangered",
            "orangered"
           ],
           "width": [
            2,
            2
           ]
          },
          "size": 6,
          "symbol": 0
         },
         "mode": "lines+text+markers",
         "opacity": 1,
         "showlegend": false,
         "type": "scatter",
         "x": [
          0.3636363636363636,
          0.4415584415584416
         ],
         "xaxis": "x4",
         "y": [
          "[45 - 50)",
          "[45 - 50)"
         ],
         "yaxis": "y4"
        },
        {
         "cliponaxis": false,
         "hovertemplate": [
          "%{y}: %{x} (group size: 87)<extra></extra>",
          "baseline: %{x} (group size: 1175)<extra></extra>"
         ],
         "line": {
          "color": "orangered",
          "width": 8
         },
         "marker": {
          "color": [
           "white",
           "#222222"
          ],
          "line": {
           "color": [
            "orangered",
            "orangered"
           ],
           "width": [
            2,
            2
           ]
          },
          "size": 6,
          "symbol": 0
         },
         "mode": "lines+text+markers",
         "opacity": 1,
         "showlegend": false,
         "type": "scatter",
         "x": [
          0.2857142857142857,
          0.4415584415584416
         ],
         "xaxis": "x4",
         "y": [
          "[26 - 30)",
          "[26 - 30)"
         ],
         "yaxis": "y4"
        },
        {
         "cliponaxis": false,
         "hovertemplate": [
          "%{y}: %{x} (group size: 434)<extra></extra>",
          "baseline: %{x} (group size: 1175)<extra></extra>"
         ],
         "line": {
          "color": "orangered",
          "width": 8
         },
         "marker": {
          "color": [
           "white",
           "#222222"
          ],
          "line": {
           "color": [
            "orangered",
            "orangered"
           ],
           "width": [
            2,
            2
           ]
          },
          "size": 6,
          "symbol": 0
         },
         "mode": "lines+text+markers",
         "opacity": 1,
         "showlegend": false,
         "type": "scatter",
         "x": [
          0,
          0.4415584415584416
         ],
         "xaxis": "x4",
         "y": [
          "[17 - 22)",
          "[17 - 22)"
         ],
         "yaxis": "y4"
        },
        {
         "cliponaxis": false,
         "hovertemplate": [
          "%{y}: %{x} (group size: 86)<extra></extra>",
          "baseline: %{x} (group size: 1175)<extra></extra>"
         ],
         "line": {
          "color": "orangered",
          "width": 8
         },
         "marker": {
          "color": [
           "white",
           "#222222"
          ],
          "line": {
           "color": [
            "orangered",
            "orangered"
           ],
           "width": [
            2,
            2
           ]
          },
          "size": 6,
          "symbol": 0
         },
         "mode": "lines+text+markers",
         "opacity": 1,
         "showlegend": false,
         "type": "scatter",
         "x": [
          0,
          0.4415584415584416
         ],
         "xaxis": "x4",
         "y": [
          "[50 - 58)",
          "[50 - 58)"
         ],
         "yaxis": "y4"
        },
        {
         "cliponaxis": false,
         "hovertemplate": [
          "%{y}: %{x} (group size: 59)<extra></extra>",
          "baseline: %{x} (group size: 1067)<extra></extra>"
         ],
         "line": {
          "color": "limegreen",
          "width": 8
         },
         "marker": {
          "color": [
           "white",
           "#222222"
          ],
          "line": {
           "color": [
            "limegreen",
            "limegreen"
           ],
           "width": [
            2,
            2
           ]
          },
          "size": 6,
          "symbol": 0
         },
         "mode": "lines+text+markers",
         "opacity": 1,
         "showlegend": false,
         "type": "scatter",
         "x": [
          0.5185185185185185,
          0.33855799373040757
         ],
         "xaxis": "x5",
         "y": [
          "[58 - 90]",
          "[58 - 90]"
         ],
         "yaxis": "y5"
        },
        {
         "cliponaxis": false,
         "hovertemplate": [
          "%{y}: %{x} (group size: 145)<extra></extra>",
          "baseline: %{x} (group size: 1067)<extra></extra>"
         ],
         "line": {
          "color": "limegreen",
          "width": 8
         },
         "marker": {
          "color": [
           "white",
           "#222222"
          ],
          "line": {
           "color": [
            "limegreen",
            "limegreen"
           ],
           "width": [
            2,
            2
           ]
          },
          "size": 6,
          "symbol": 0
         },
         "mode": "lines+text+markers",
         "opacity": 1,
         "showlegend": false,
         "type": "scatter",
         "x": [
          0.4864864864864865,
          0.33855799373040757
         ],
         "xaxis": "x5",
         "y": [
          "[37 - 41)",
          "[37 - 41)"
         ],
         "yaxis": "y5"
        },
        {
         "cliponaxis": false,
         "hovertemplate": [
          "%{y}: %{x} (group size: 126)<extra></extra>",
          "baseline: %{x} (group size: 1067)<extra></extra>"
         ],
         "line": {
          "color": "limegreen",
          "width": 8
         },
         "marker": {
          "color": [
           "white",
           "#222222"
          ],
          "line": {
           "color": [
            "limegreen",
            "limegreen"
           ],
           "width": [
            2,
            2
           ]
          },
          "size": 6,
          "symbol": 0
         },
         "mode": "lines+text+markers",
         "opacity": 1,
         "showlegend": false,
         "type": "scatter",
         "x": [
          0.3636363636363636,
          0.33855799373040757
         ],
         "xaxis": "x5",
         "y": [
          "[26 - 30)",
          "[26 - 30)"
         ],
         "yaxis": "y5"
        },
        {
         "cliponaxis": false,
         "hovertemplate": [
          "%{y}: %{x} (group size: 131)<extra></extra>",
          "baseline: %{x} (group size: 1067)<extra></extra>"
         ],
         "line": {
          "color": "orangered",
          "width": 8
         },
         "marker": {
          "color": [
           "white",
           "#222222"
          ],
          "line": {
           "color": [
            "orangered",
            "orangered"
           ],
           "width": [
            2,
            2
           ]
          },
          "size": 6,
          "symbol": 0
         },
         "mode": "lines+text+markers",
         "opacity": 1,
         "showlegend": false,
         "type": "scatter",
         "x": [
          0.33333333333333337,
          0.33855799373040757
         ],
         "xaxis": "x5",
         "y": [
          "[22 - 26)",
          "[22 - 26)"
         ],
         "yaxis": "y5"
        },
        {
         "cliponaxis": false,
         "hovertemplate": [
          "%{y}: %{x} (group size: 114)<extra></extra>",
          "baseline: %{x} (group size: 1067)<extra></extra>"
         ],
         "line": {
          "color": "orangered",
          "width": 8
         },
         "marker": {
          "color": [
           "white",
           "#222222"
          ],
          "line": {
           "color": [
            "orangered",
            "orangered"
           ],
           "width": [
            2,
            2
           ]
          },
          "size": 6,
          "symbol": 0
         },
         "mode": "lines+text+markers",
         "opacity": 1,
         "showlegend": false,
         "type": "scatter",
         "x": [
          0.3111111111111111,
          0.33855799373040757
         ],
         "xaxis": "x5",
         "y": [
          "[45 - 50)",
          "[45 - 50)"
         ],
         "yaxis": "y5"
        },
        {
         "cliponaxis": false,
         "hovertemplate": [
          "%{y}: %{x} (group size: 147)<extra></extra>",
          "baseline: %{x} (group size: 1067)<extra></extra>"
         ],
         "line": {
          "color": "orangered",
          "width": 8
         },
         "marker": {
          "color": [
           "white",
           "#222222"
          ],
          "line": {
           "color": [
            "orangered",
            "orangered"
           ],
           "width": [
            2,
            2
           ]
          },
          "size": 6,
          "symbol": 0
         },
         "mode": "lines+text+markers",
         "opacity": 1,
         "showlegend": false,
         "type": "scatter",
         "x": [
          0.3,
          0.33855799373040757
         ],
         "xaxis": "x5",
         "y": [
          "[33 - 37)",
          "[33 - 37)"
         ],
         "yaxis": "y5"
        },
        {
         "cliponaxis": false,
         "hovertemplate": [
          "%{y}: %{x} (group size: 92)<extra></extra>",
          "baseline: %{x} (group size: 1067)<extra></extra>"
         ],
         "line": {
          "color": "orangered",
          "width": 8
         },
         "marker": {
          "color": [
           "white",
           "#222222"
          ],
          "line": {
           "color": [
            "orangered",
            "orangered"
           ],
           "width": [
            2,
            2
           ]
          },
          "size": 6,
          "symbol": 0
         },
         "mode": "lines+text+markers",
         "opacity": 1,
         "showlegend": false,
         "type": "scatter",
         "x": [
          0.2631578947368421,
          0.33855799373040757
         ],
         "xaxis": "x5",
         "y": [
          "[50 - 58)",
          "[50 - 58)"
         ],
         "yaxis": "y5"
        },
        {
         "cliponaxis": false,
         "hovertemplate": [
          "%{y}: %{x} (group size: 108)<extra></extra>",
          "baseline: %{x} (group size: 1067)<extra></extra>"
         ],
         "line": {
          "color": "orangered",
          "width": 8
         },
         "marker": {
          "color": [
           "white",
           "#222222"
          ],
          "line": {
           "color": [
            "orangered",
            "orangered"
           ],
           "width": [
            2,
            2
           ]
          },
          "size": 6,
          "symbol": 0
         },
         "mode": "lines+text+markers",
         "opacity": 1,
         "showlegend": false,
         "type": "scatter",
         "x": [
          0.23255813953488372,
          0.33855799373040757
         ],
         "xaxis": "x5",
         "y": [
          "[41 - 45)",
          "[41 - 45)"
         ],
         "yaxis": "y5"
        },
        {
         "cliponaxis": false,
         "hovertemplate": [
          "%{y}: %{x} (group size: 110)<extra></extra>",
          "baseline: %{x} (group size: 1067)<extra></extra>"
         ],
         "line": {
          "color": "orangered",
          "width": 8
         },
         "marker": {
          "color": [
           "white",
           "#222222"
          ],
          "line": {
           "color": [
            "orangered",
            "orangered"
           ],
           "width": [
            2,
            2
           ]
          },
          "size": 6,
          "symbol": 0
         },
         "mode": "lines+text+markers",
         "opacity": 1,
         "showlegend": false,
         "type": "scatter",
         "x": [
          0.08695652173913045,
          0.33855799373040757
         ],
         "xaxis": "x5",
         "y": [
          "[30 - 33)",
          "[30 - 33)"
         ],
         "yaxis": "y5"
        },
        {
         "cliponaxis": false,
         "hovertemplate": [
          "%{y}: %{x} (group size: 35)<extra></extra>",
          "baseline: %{x} (group size: 1067)<extra></extra>"
         ],
         "line": {
          "color": "orangered",
          "width": 8
         },
         "marker": {
          "color": [
           "white",
           "#222222"
          ],
          "line": {
           "color": [
            "orangered",
            "orangered"
           ],
           "width": [
            2,
            2
           ]
          },
          "size": 6,
          "symbol": 0
         },
         "mode": "lines+text+markers",
         "opacity": 1,
         "showlegend": false,
         "type": "scatter",
         "x": [
          0,
          0.33855799373040757
         ],
         "xaxis": "x5",
         "y": [
          "[17 - 22)",
          "[17 - 22)"
         ],
         "yaxis": "y5"
        },
        {
         "cliponaxis": false,
         "hovertemplate": [
          "%{y}: %{x} (group size: 125)<extra></extra>",
          "baseline: %{x} (group size: 1382)<extra></extra>"
         ],
         "line": {
          "color": "limegreen",
          "width": 8
         },
         "marker": {
          "color": [
           "white",
           "#222222"
          ],
          "line": {
           "color": [
            "limegreen",
            "limegreen"
           ],
           "width": [
            2,
            2
           ]
          },
          "size": 6,
          "symbol": 0
         },
         "mode": "lines+text+markers",
         "opacity": 1,
         "showlegend": false,
         "type": "scatter",
         "x": [
          0.5,
          0.3076923076923077
         ],
         "xaxis": "x6",
         "y": [
          "[22 - 26)",
          "[22 - 26)"
         ],
         "yaxis": "y6"
        },
        {
         "cliponaxis": false,
         "hovertemplate": [
          "%{y}: %{x} (group size: 172)<extra></extra>",
          "baseline: %{x} (group size: 1382)<extra></extra>"
         ],
         "line": {
          "color": "limegreen",
          "width": 8
         },
         "marker": {
          "color": [
           "white",
           "#222222"
          ],
          "line": {
           "color": [
            "limegreen",
            "limegreen"
           ],
           "width": [
            2,
            2
           ]
          },
          "size": 6,
          "symbol": 0
         },
         "mode": "lines+text+markers",
         "opacity": 1,
         "showlegend": false,
         "type": "scatter",
         "x": [
          0.43750000000000006,
          0.3076923076923077
         ],
         "xaxis": "x6",
         "y": [
          "[26 - 30)",
          "[26 - 30)"
         ],
         "yaxis": "y6"
        },
        {
         "cliponaxis": false,
         "hovertemplate": [
          "%{y}: %{x} (group size: 106)<extra></extra>",
          "baseline: %{x} (group size: 1382)<extra></extra>"
         ],
         "line": {
          "color": "limegreen",
          "width": 8
         },
         "marker": {
          "color": [
           "white",
           "#222222"
          ],
          "line": {
           "color": [
            "limegreen",
            "limegreen"
           ],
           "width": [
            2,
            2
           ]
          },
          "size": 6,
          "symbol": 0
         },
         "mode": "lines+text+markers",
         "opacity": 1,
         "showlegend": false,
         "type": "scatter",
         "x": [
          0.3902439024390244,
          0.3076923076923077
         ],
         "xaxis": "x6",
         "y": [
          "[58 - 90]",
          "[58 - 90]"
         ],
         "yaxis": "y6"
        },
        {
         "cliponaxis": false,
         "hovertemplate": [
          "%{y}: %{x} (group size: 144)<extra></extra>",
          "baseline: %{x} (group size: 1382)<extra></extra>"
         ],
         "line": {
          "color": "limegreen",
          "width": 8
         },
         "marker": {
          "color": [
           "white",
           "#222222"
          ],
          "line": {
           "color": [
            "limegreen",
            "limegreen"
           ],
           "width": [
            2,
            2
           ]
          },
          "size": 6,
          "symbol": 0
         },
         "mode": "lines+text+markers",
         "opacity": 1,
         "showlegend": false,
         "type": "scatter",
         "x": [
          0.3571428571428571,
          0.3076923076923077
         ],
         "xaxis": "x6",
         "y": [
          "[41 - 45)",
          "[41 - 45)"
         ],
         "yaxis": "y6"
        },
        {
         "cliponaxis": false,
         "hovertemplate": [
          "%{y}: %{x} (group size: 180)<extra></extra>",
          "baseline: %{x} (group size: 1382)<extra></extra>"
         ],
         "line": {
          "color": "orangered",
          "width": 8
         },
         "marker": {
          "color": [
           "white",
           "#222222"
          ],
          "line": {
           "color": [
            "orangered",
            "orangered"
           ],
           "width": [
            2,
            2
           ]
          },
          "size": 6,
          "symbol": 0
         },
         "mode": "lines+text+markers",
         "opacity": 1,
         "showlegend": false,
         "type": "scatter",
         "x": [
          0.29629629629629634,
          0.3076923076923077
         ],
         "xaxis": "x6",
         "y": [
          "[33 - 37)",
          "[33 - 37)"
         ],
         "yaxis": "y6"
        },
        {
         "cliponaxis": false,
         "hovertemplate": [
          "%{y}: %{x} (group size: 124)<extra></extra>",
          "baseline: %{x} (group size: 1382)<extra></extra>"
         ],
         "line": {
          "color": "orangered",
          "width": 8
         },
         "marker": {
          "color": [
           "white",
           "#222222"
          ],
          "line": {
           "color": [
            "orangered",
            "orangered"
           ],
           "width": [
            2,
            2
           ]
          },
          "size": 6,
          "symbol": 0
         },
         "mode": "lines+text+markers",
         "opacity": 1,
         "showlegend": false,
         "type": "scatter",
         "x": [
          0.27692307692307694,
          0.3076923076923077
         ],
         "xaxis": "x6",
         "y": [
          "[50 - 58)",
          "[50 - 58)"
         ],
         "yaxis": "y6"
        },
        {
         "cliponaxis": false,
         "hovertemplate": [
          "%{y}: %{x} (group size: 140)<extra></extra>",
          "baseline: %{x} (group size: 1382)<extra></extra>"
         ],
         "line": {
          "color": "orangered",
          "width": 8
         },
         "marker": {
          "color": [
           "white",
           "#222222"
          ],
          "line": {
           "color": [
            "orangered",
            "orangered"
           ],
           "width": [
            2,
            2
           ]
          },
          "size": 6,
          "symbol": 0
         },
         "mode": "lines+text+markers",
         "opacity": 1,
         "showlegend": false,
         "type": "scatter",
         "x": [
          0.25806451612903225,
          0.3076923076923077
         ],
         "xaxis": "x6",
         "y": [
          "[30 - 33)",
          "[30 - 33)"
         ],
         "yaxis": "y6"
        },
        {
         "cliponaxis": false,
         "hovertemplate": [
          "%{y}: %{x} (group size: 192)<extra></extra>",
          "baseline: %{x} (group size: 1382)<extra></extra>"
         ],
         "line": {
          "color": "orangered",
          "width": 8
         },
         "marker": {
          "color": [
           "white",
           "#222222"
          ],
          "line": {
           "color": [
            "orangered",
            "orangered"
           ],
           "width": [
            2,
            2
           ]
          },
          "size": 6,
          "symbol": 0
         },
         "mode": "lines+text+markers",
         "opacity": 1,
         "showlegend": false,
         "type": "scatter",
         "x": [
          0.25641025641025644,
          0.3076923076923077
         ],
         "xaxis": "x6",
         "y": [
          "[37 - 41)",
          "[37 - 41)"
         ],
         "yaxis": "y6"
        },
        {
         "cliponaxis": false,
         "hovertemplate": [
          "%{y}: %{x} (group size: 157)<extra></extra>",
          "baseline: %{x} (group size: 1382)<extra></extra>"
         ],
         "line": {
          "color": "orangered",
          "width": 8
         },
         "marker": {
          "color": [
           "white",
           "#222222"
          ],
          "line": {
           "color": [
            "orangered",
            "orangered"
           ],
           "width": [
            2,
            2
           ]
          },
          "size": 6,
          "symbol": 0
         },
         "mode": "lines+text+markers",
         "opacity": 1,
         "showlegend": false,
         "type": "scatter",
         "x": [
          0.25,
          0.3076923076923077
         ],
         "xaxis": "x6",
         "y": [
          "[45 - 50)",
          "[45 - 50)"
         ],
         "yaxis": "y6"
        },
        {
         "cliponaxis": false,
         "hovertemplate": [
          "%{y}: %{x} (group size: 42)<extra></extra>",
          "baseline: %{x} (group size: 1382)<extra></extra>"
         ],
         "line": {
          "color": "orangered",
          "width": 8
         },
         "marker": {
          "color": [
           "white",
           "#222222"
          ],
          "line": {
           "color": [
            "orangered",
            "orangered"
           ],
           "width": [
            2,
            2
           ]
          },
          "size": 6,
          "symbol": 0
         },
         "mode": "lines+text+markers",
         "opacity": 1,
         "showlegend": false,
         "type": "scatter",
         "x": [
          0,
          0.3076923076923077
         ],
         "xaxis": "x6",
         "y": [
          "[17 - 22)",
          "[17 - 22)"
         ],
         "yaxis": "y6"
        },
        {
         "cliponaxis": false,
         "hovertemplate": [
          "%{y}: %{x} (group size: 990)<extra></extra>",
          "baseline: %{x} (group size: 10501)<extra></extra>"
         ],
         "line": {
          "color": "limegreen",
          "width": 8
         },
         "marker": {
          "color": [
           "white",
           "#222222"
          ],
          "line": {
           "color": [
            "limegreen",
            "limegreen"
           ],
           "width": [
            2,
            2
           ]
          },
          "size": 6,
          "symbol": 0
         },
         "mode": "lines+text+markers",
         "opacity": 1,
         "showlegend": false,
         "type": "scatter",
         "x": [
          0.32,
          0.27146529562982
         ],
         "xaxis": "x7",
         "y": [
          "[22 - 26)",
          "[22 - 26)"
         ],
         "yaxis": "y7"
        },
        {
         "cliponaxis": false,
         "hovertemplate": [
          "%{y}: %{x} (group size: 1268)<extra></extra>",
          "baseline: %{x} (group size: 10501)<extra></extra>"
         ],
         "line": {
          "color": "limegreen",
          "width": 8
         },
         "marker": {
          "color": [
           "white",
           "#222222"
          ],
          "line": {
           "color": [
            "limegreen",
            "limegreen"
           ],
           "width": [
            2,
            2
           ]
          },
          "size": 6,
          "symbol": 0
         },
         "mode": "lines+text+markers",
         "opacity": 1,
         "showlegend": false,
         "type": "scatter",
         "x": [
          0.3080459770114943,
          0.27146529562982
         ],
         "xaxis": "x7",
         "y": [
          "[50 - 58)",
          "[50 - 58)"
         ],
         "yaxis": "y7"
        },
        {
         "cliponaxis": false,
         "hovertemplate": [
          "%{y}: %{x} (group size: 1143)<extra></extra>",
          "baseline: %{x} (group size: 10501)<extra></extra>"
         ],
         "line": {
          "color": "limegreen",
          "width": 8
         },
         "marker": {
          "color": [
           "white",
           "#222222"
          ],
          "line": {
           "color": [
            "limegreen",
            "limegreen"
           ],
           "width": [
            2,
            2
           ]
          },
          "size": 6,
          "symbol": 0
         },
         "mode": "lines+text+markers",
         "opacity": 1,
         "showlegend": false,
         "type": "scatter",
         "x": [
          0.30147058823529416,
          0.27146529562982
         ],
         "xaxis": "x7",
         "y": [
          "[58 - 90]",
          "[58 - 90]"
         ],
         "yaxis": "y7"
        },
        {
         "cliponaxis": false,
         "hovertemplate": [
          "%{y}: %{x} (group size: 1252)<extra></extra>",
          "baseline: %{x} (group size: 10501)<extra></extra>"
         ],
         "line": {
          "color": "limegreen",
          "width": 8
         },
         "marker": {
          "color": [
           "white",
           "#222222"
          ],
          "line": {
           "color": [
            "limegreen",
            "limegreen"
           ],
           "width": [
            2,
            2
           ]
          },
          "size": 6,
          "symbol": 0
         },
         "mode": "lines+text+markers",
         "opacity": 1,
         "showlegend": false,
         "type": "scatter",
         "x": [
          0.2727272727272727,
          0.27146529562982
         ],
         "xaxis": "x7",
         "y": [
          "[33 - 37)",
          "[33 - 37)"
         ],
         "yaxis": "y7"
        },
        {
         "cliponaxis": false,
         "hovertemplate": [
          "%{y}: %{x} (group size: 861)<extra></extra>",
          "baseline: %{x} (group size: 10501)<extra></extra>"
         ],
         "line": {
          "color": "orangered",
          "width": 8
         },
         "marker": {
          "color": [
           "white",
           "#222222"
          ],
          "line": {
           "color": [
            "orangered",
            "orangered"
           ],
           "width": [
            2,
            2
           ]
          },
          "size": 6,
          "symbol": 0
         },
         "mode": "lines+text+markers",
         "opacity": 1,
         "showlegend": false,
         "type": "scatter",
         "x": [
          0.265625,
          0.27146529562982
         ],
         "xaxis": "x7",
         "y": [
          "[30 - 33)",
          "[30 - 33)"
         ],
         "yaxis": "y7"
        },
        {
         "cliponaxis": false,
         "hovertemplate": [
          "%{y}: %{x} (group size: 1016)<extra></extra>",
          "baseline: %{x} (group size: 10501)<extra></extra>"
         ],
         "line": {
          "color": "orangered",
          "width": 8
         },
         "marker": {
          "color": [
           "white",
           "#222222"
          ],
          "line": {
           "color": [
            "orangered",
            "orangered"
           ],
           "width": [
            2,
            2
           ]
          },
          "size": 6,
          "symbol": 0
         },
         "mode": "lines+text+markers",
         "opacity": 1,
         "showlegend": false,
         "type": "scatter",
         "x": [
          0.2653721682847896,
          0.27146529562982
         ],
         "xaxis": "x7",
         "y": [
          "[45 - 50)",
          "[45 - 50)"
         ],
         "yaxis": "y7"
        },
        {
         "cliponaxis": false,
         "hovertemplate": [
          "%{y}: %{x} (group size: 1062)<extra></extra>",
          "baseline: %{x} (group size: 10501)<extra></extra>"
         ],
         "line": {
          "color": "orangered",
          "width": 8
         },
         "marker": {
          "color": [
           "white",
           "#222222"
          ],
          "line": {
           "color": [
            "orangered",
            "orangered"
           ],
           "width": [
            2,
            2
           ]
          },
          "size": 6,
          "symbol": 0
         },
         "mode": "lines+text+markers",
         "opacity": 1,
         "showlegend": false,
         "type": "scatter",
         "x": [
          0.2380952380952381,
          0.27146529562982
         ],
         "xaxis": "x7",
         "y": [
          "[37 - 41)",
          "[37 - 41)"
         ],
         "yaxis": "y7"
        },
        {
         "cliponaxis": false,
         "hovertemplate": [
          "%{y}: %{x} (group size: 916)<extra></extra>",
          "baseline: %{x} (group size: 10501)<extra></extra>"
         ],
         "line": {
          "color": "orangered",
          "width": 8
         },
         "marker": {
          "color": [
           "white",
           "#222222"
          ],
          "line": {
           "color": [
            "orangered",
            "orangered"
           ],
           "width": [
            2,
            2
           ]
          },
          "size": 6,
          "symbol": 0
         },
         "mode": "lines+text+markers",
         "opacity": 1,
         "showlegend": false,
         "type": "scatter",
         "x": [
          0.23364485981308408,
          0.27146529562982
         ],
         "xaxis": "x7",
         "y": [
          "[41 - 45)",
          "[41 - 45)"
         ],
         "yaxis": "y7"
        },
        {
         "cliponaxis": false,
         "hovertemplate": [
          "%{y}: %{x} (group size: 1105)<extra></extra>",
          "baseline: %{x} (group size: 10501)<extra></extra>"
         ],
         "line": {
          "color": "orangered",
          "width": 8
         },
         "marker": {
          "color": [
           "white",
           "#222222"
          ],
          "line": {
           "color": [
            "orangered",
            "orangered"
           ],
           "width": [
            2,
            2
           ]
          },
          "size": 6,
          "symbol": 0
         },
         "mode": "lines+text+markers",
         "opacity": 1,
         "showlegend": false,
         "type": "scatter",
         "x": [
          0.20224719101123595,
          0.27146529562982
         ],
         "xaxis": "x7",
         "y": [
          "[26 - 30)",
          "[26 - 30)"
         ],
         "yaxis": "y7"
        },
        {
         "cliponaxis": false,
         "hovertemplate": [
          "%{y}: %{x} (group size: 888)<extra></extra>",
          "baseline: %{x} (group size: 10501)<extra></extra>"
         ],
         "line": {
          "color": "orangered",
          "width": 8
         },
         "marker": {
          "color": [
           "white",
           "#222222"
          ],
          "line": {
           "color": [
            "orangered",
            "orangered"
           ],
           "width": [
            2,
            2
           ]
          },
          "size": 6,
          "symbol": 0
         },
         "mode": "lines+text+markers",
         "opacity": 1,
         "showlegend": false,
         "type": "scatter",
         "x": [
          0,
          0.27146529562982
         ],
         "xaxis": "x7",
         "y": [
          "[17 - 22)",
          "[17 - 22)"
         ],
         "yaxis": "y7"
        },
        {
         "cliponaxis": false,
         "hovertemplate": [
          "%{y}: %{x} (group size: 119)<extra></extra>",
          "baseline: %{x} (group size: 933)<extra></extra>"
         ],
         "line": {
          "color": "limegreen",
          "width": 8
         },
         "marker": {
          "color": [
           "white",
           "#222222"
          ],
          "line": {
           "color": [
            "limegreen",
            "limegreen"
           ],
           "width": [
            2,
            2
           ]
          },
          "size": 6,
          "symbol": 0
         },
         "mode": "lines+text+markers",
         "opacity": 1,
         "showlegend": false,
         "type": "scatter",
         "x": [
          0.3157894736842105,
          0.2028985507246377
         ],
         "xaxis": "x8",
         "y": [
          "[50 - 58)",
          "[50 - 58)"
         ],
         "yaxis": "y8"
        },
        {
         "cliponaxis": false,
         "hovertemplate": [
          "%{y}: %{x} (group size: 45)<extra></extra>",
          "baseline: %{x} (group size: 933)<extra></extra>"
         ],
         "line": {
          "color": "limegreen",
          "width": 8
         },
         "marker": {
          "color": [
           "white",
           "#222222"
          ],
          "line": {
           "color": [
            "limegreen",
            "limegreen"
           ],
           "width": [
            2,
            2
           ]
          },
          "size": 6,
          "symbol": 0
         },
         "mode": "lines+text+markers",
         "opacity": 1,
         "showlegend": false,
         "type": "scatter",
         "x": [
          0.2857142857142857,
          0.2028985507246377
         ],
         "xaxis": "x8",
         "y": [
          "[41 - 45)",
          "[41 - 45)"
         ],
         "yaxis": "y8"
        },
        {
         "cliponaxis": false,
         "hovertemplate": [
          "%{y}: %{x} (group size: 147)<extra></extra>",
          "baseline: %{x} (group size: 933)<extra></extra>"
         ],
         "line": {
          "color": "limegreen",
          "width": 8
         },
         "marker": {
          "color": [
           "white",
           "#222222"
          ],
          "line": {
           "color": [
            "limegreen",
            "limegreen"
           ],
           "width": [
            2,
            2
           ]
          },
          "size": 6,
          "symbol": 0
         },
         "mode": "lines+text+markers",
         "opacity": 1,
         "showlegend": false,
         "type": "scatter",
         "x": [
          0.2727272727272727,
          0.2028985507246377
         ],
         "xaxis": "x8",
         "y": [
          "[58 - 90]",
          "[58 - 90]"
         ],
         "yaxis": "y8"
        },
        {
         "cliponaxis": false,
         "hovertemplate": [
          "%{y}: %{x} (group size: 70)<extra></extra>",
          "baseline: %{x} (group size: 933)<extra></extra>"
         ],
         "line": {
          "color": "orangered",
          "width": 8
         },
         "marker": {
          "color": [
           "white",
           "#222222"
          ],
          "line": {
           "color": [
            "orangered",
            "orangered"
           ],
           "width": [
            2,
            2
           ]
          },
          "size": 6,
          "symbol": 0
         },
         "mode": "lines+text+markers",
         "opacity": 1,
         "showlegend": false,
         "type": "scatter",
         "x": [
          0,
          0.2028985507246377
         ],
         "xaxis": "x8",
         "y": [
          "[33 - 37)",
          "[33 - 37)"
         ],
         "yaxis": "y8"
        },
        {
         "cliponaxis": false,
         "hovertemplate": [
          "%{y}: %{x} (group size: 56)<extra></extra>",
          "baseline: %{x} (group size: 933)<extra></extra>"
         ],
         "line": {
          "color": "orangered",
          "width": 8
         },
         "marker": {
          "color": [
           "white",
           "#222222"
          ],
          "line": {
           "color": [
            "orangered",
            "orangered"
           ],
           "width": [
            2,
            2
           ]
          },
          "size": 6,
          "symbol": 0
         },
         "mode": "lines+text+markers",
         "opacity": 1,
         "showlegend": false,
         "type": "scatter",
         "x": [
          0,
          0.2028985507246377
         ],
         "xaxis": "x8",
         "y": [
          "[45 - 50)",
          "[45 - 50)"
         ],
         "yaxis": "y8"
        },
        {
         "cliponaxis": false,
         "hovertemplate": [
          "%{y}: %{x} (group size: 66)<extra></extra>",
          "baseline: %{x} (group size: 933)<extra></extra>"
         ],
         "line": {
          "color": "orangered",
          "width": 8
         },
         "marker": {
          "color": [
           "white",
           "#222222"
          ],
          "line": {
           "color": [
            "orangered",
            "orangered"
           ],
           "width": [
            2,
            2
           ]
          },
          "size": 6,
          "symbol": 0
         },
         "mode": "lines+text+markers",
         "opacity": 1,
         "showlegend": false,
         "type": "scatter",
         "x": [
          0,
          0.2028985507246377
         ],
         "xaxis": "x8",
         "y": [
          "[22 - 26)",
          "[22 - 26)"
         ],
         "yaxis": "y8"
        },
        {
         "cliponaxis": false,
         "hovertemplate": [
          "%{y}: %{x} (group size: 224)<extra></extra>",
          "baseline: %{x} (group size: 933)<extra></extra>"
         ],
         "line": {
          "color": "orangered",
          "width": 8
         },
         "marker": {
          "color": [
           "white",
           "#222222"
          ],
          "line": {
           "color": [
            "orangered",
            "orangered"
           ],
           "width": [
            2,
            2
           ]
          },
          "size": 6,
          "symbol": 0
         },
         "mode": "lines+text+markers",
         "opacity": 1,
         "showlegend": false,
         "type": "scatter",
         "x": [
          0,
          0.2028985507246377
         ],
         "xaxis": "x8",
         "y": [
          "[17 - 22)",
          "[17 - 22)"
         ],
         "yaxis": "y8"
        },
        {
         "cliponaxis": false,
         "hovertemplate": [
          "%{y}: %{x} (group size: 64)<extra></extra>",
          "baseline: %{x} (group size: 933)<extra></extra>"
         ],
         "line": {
          "color": "orangered",
          "width": 8
         },
         "marker": {
          "color": [
           "white",
           "#222222"
          ],
          "line": {
           "color": [
            "orangered",
            "orangered"
           ],
           "width": [
            2,
            2
           ]
          },
          "size": 6,
          "symbol": 0
         },
         "mode": "lines+text+markers",
         "opacity": 1,
         "showlegend": false,
         "type": "scatter",
         "x": [
          0,
          0.2028985507246377
         ],
         "xaxis": "x8",
         "y": [
          "[37 - 41)",
          "[37 - 41)"
         ],
         "yaxis": "y8"
        },
        {
         "cliponaxis": false,
         "hovertemplate": [
          "%{y}: %{x} (group size: 54)<extra></extra>",
          "baseline: %{x} (group size: 933)<extra></extra>"
         ],
         "line": {
          "color": "orangered",
          "width": 8
         },
         "marker": {
          "color": [
           "white",
           "#222222"
          ],
          "line": {
           "color": [
            "orangered",
            "orangered"
           ],
           "width": [
            2,
            2
           ]
          },
          "size": 6,
          "symbol": 0
         },
         "mode": "lines+text+markers",
         "opacity": 1,
         "showlegend": false,
         "type": "scatter",
         "x": [
          0,
          0.2028985507246377
         ],
         "xaxis": "x8",
         "y": [
          "[30 - 33)",
          "[30 - 33)"
         ],
         "yaxis": "y8"
        },
        {
         "cliponaxis": false,
         "hovertemplate": [
          "%{y}: %{x} (group size: 88)<extra></extra>",
          "baseline: %{x} (group size: 933)<extra></extra>"
         ],
         "line": {
          "color": "orangered",
          "width": 8
         },
         "marker": {
          "color": [
           "white",
           "#222222"
          ],
          "line": {
           "color": [
            "orangered",
            "orangered"
           ],
           "width": [
            2,
            2
           ]
          },
          "size": 6,
          "symbol": 0
         },
         "mode": "lines+text+markers",
         "opacity": 1,
         "showlegend": false,
         "type": "scatter",
         "x": [
          0,
          0.2028985507246377
         ],
         "xaxis": "x8",
         "y": [
          "[26 - 30)",
          "[26 - 30)"
         ],
         "yaxis": "y8"
        },
        {
         "cliponaxis": false,
         "hovertemplate": [
          "%{y}: %{x} (group size: 1233)<extra></extra>",
          "baseline: %{x} (group size: 7291)<extra></extra>"
         ],
         "line": {
          "color": "limegreen",
          "width": 8
         },
         "marker": {
          "color": [
           "white",
           "#222222"
          ],
          "line": {
           "color": [
            "limegreen",
            "limegreen"
           ],
           "width": [
            2,
            2
           ]
          },
          "size": 6,
          "symbol": 0
         },
         "mode": "lines+text+markers",
         "opacity": 1,
         "showlegend": false,
         "type": "scatter",
         "x": [
          1,
          0.29307173513182094
         ],
         "xaxis": "x9",
         "y": [
          "[17 - 22)",
          "[17 - 22)"
         ],
         "yaxis": "y9"
        },
        {
         "cliponaxis": false,
         "hovertemplate": [
          "%{y}: %{x} (group size: 548)<extra></extra>",
          "baseline: %{x} (group size: 7291)<extra></extra>"
         ],
         "line": {
          "color": "limegreen",
          "width": 8
         },
         "marker": {
          "color": [
           "white",
           "#222222"
          ],
          "line": {
           "color": [
            "limegreen",
            "limegreen"
           ],
           "width": [
            2,
            2
           ]
          },
          "size": 6,
          "symbol": 0
         },
         "mode": "lines+text+markers",
         "opacity": 1,
         "showlegend": false,
         "type": "scatter",
         "x": [
          0.4174757281553398,
          0.29307173513182094
         ],
         "xaxis": "x9",
         "y": [
          "[58 - 90]",
          "[58 - 90]"
         ],
         "yaxis": "y9"
        },
        {
         "cliponaxis": false,
         "hovertemplate": [
          "%{y}: %{x} (group size: 969)<extra></extra>",
          "baseline: %{x} (group size: 7291)<extra></extra>"
         ],
         "line": {
          "color": "limegreen",
          "width": 8
         },
         "marker": {
          "color": [
           "white",
           "#222222"
          ],
          "line": {
           "color": [
            "limegreen",
            "limegreen"
           ],
           "width": [
            2,
            2
           ]
          },
          "size": 6,
          "symbol": 0
         },
         "mode": "lines+text+markers",
         "opacity": 1,
         "showlegend": false,
         "type": "scatter",
         "x": [
          0.358974358974359,
          0.29307173513182094
         ],
         "xaxis": "x9",
         "y": [
          "[22 - 26)",
          "[22 - 26)"
         ],
         "yaxis": "y9"
        },
        {
         "cliponaxis": false,
         "hovertemplate": [
          "%{y}: %{x} (group size: 688)<extra></extra>",
          "baseline: %{x} (group size: 7291)<extra></extra>"
         ],
         "line": {
          "color": "limegreen",
          "width": 8
         },
         "marker": {
          "color": [
           "white",
           "#222222"
          ],
          "line": {
           "color": [
            "limegreen",
            "limegreen"
           ],
           "width": [
            2,
            2
           ]
          },
          "size": 6,
          "symbol": 0
         },
         "mode": "lines+text+markers",
         "opacity": 1,
         "showlegend": false,
         "type": "scatter",
         "x": [
          0.2978723404255319,
          0.29307173513182094
         ],
         "xaxis": "x9",
         "y": [
          "[33 - 37)",
          "[33 - 37)"
         ],
         "yaxis": "y9"
        },
        {
         "cliponaxis": false,
         "hovertemplate": [
          "%{y}: %{x} (group size: 646)<extra></extra>",
          "baseline: %{x} (group size: 7291)<extra></extra>"
         ],
         "line": {
          "color": "limegreen",
          "width": 8
         },
         "marker": {
          "color": [
           "white",
           "#222222"
          ],
          "line": {
           "color": [
            "limegreen",
            "limegreen"
           ],
           "width": [
            2,
            2
           ]
          },
          "size": 6,
          "symbol": 0
         },
         "mode": "lines+text+markers",
         "opacity": 1,
         "showlegend": false,
         "type": "scatter",
         "x": [
          0.29770992366412213,
          0.29307173513182094
         ],
         "xaxis": "x9",
         "y": [
          "[45 - 50)",
          "[45 - 50)"
         ],
         "yaxis": "y9"
        },
        {
         "cliponaxis": false,
         "hovertemplate": [
          "%{y}: %{x} (group size: 665)<extra></extra>",
          "baseline: %{x} (group size: 7291)<extra></extra>"
         ],
         "line": {
          "color": "limegreen",
          "width": 8
         },
         "marker": {
          "color": [
           "white",
           "#222222"
          ],
          "line": {
           "color": [
            "limegreen",
            "limegreen"
           ],
           "width": [
            2,
            2
           ]
          },
          "size": 6,
          "symbol": 0
         },
         "mode": "lines+text+markers",
         "opacity": 1,
         "showlegend": false,
         "type": "scatter",
         "x": [
          0.29493087557603687,
          0.29307173513182094
         ],
         "xaxis": "x9",
         "y": [
          "[37 - 41)",
          "[37 - 41)"
         ],
         "yaxis": "y9"
        },
        {
         "cliponaxis": false,
         "hovertemplate": [
          "%{y}: %{x} (group size: 661)<extra></extra>",
          "baseline: %{x} (group size: 7291)<extra></extra>"
         ],
         "line": {
          "color": "orangered",
          "width": 8
         },
         "marker": {
          "color": [
           "white",
           "#222222"
          ],
          "line": {
           "color": [
            "orangered",
            "orangered"
           ],
           "width": [
            2,
            2
           ]
          },
          "size": 6,
          "symbol": 0
         },
         "mode": "lines+text+markers",
         "opacity": 1,
         "showlegend": false,
         "type": "scatter",
         "x": [
          0.2672064777327935,
          0.29307173513182094
         ],
         "xaxis": "x9",
         "y": [
          "[41 - 45)",
          "[41 - 45)"
         ],
         "yaxis": "y9"
        },
        {
         "cliponaxis": false,
         "hovertemplate": [
          "%{y}: %{x} (group size: 533)<extra></extra>",
          "baseline: %{x} (group size: 7291)<extra></extra>"
         ],
         "line": {
          "color": "orangered",
          "width": 8
         },
         "marker": {
          "color": [
           "white",
           "#222222"
          ],
          "line": {
           "color": [
            "orangered",
            "orangered"
           ],
           "width": [
            2,
            2
           ]
          },
          "size": 6,
          "symbol": 0
         },
         "mode": "lines+text+markers",
         "opacity": 1,
         "showlegend": false,
         "type": "scatter",
         "x": [
          0.26000000000000006,
          0.29307173513182094
         ],
         "xaxis": "x9",
         "y": [
          "[30 - 33)",
          "[30 - 33)"
         ],
         "yaxis": "y9"
        },
        {
         "cliponaxis": false,
         "hovertemplate": [
          "%{y}: %{x} (group size: 669)<extra></extra>",
          "baseline: %{x} (group size: 7291)<extra></extra>"
         ],
         "line": {
          "color": "orangered",
          "width": 8
         },
         "marker": {
          "color": [
           "white",
           "#222222"
          ],
          "line": {
           "color": [
            "orangered",
            "orangered"
           ],
           "width": [
            2,
            2
           ]
          },
          "size": 6,
          "symbol": 0
         },
         "mode": "lines+text+markers",
         "opacity": 1,
         "showlegend": false,
         "type": "scatter",
         "x": [
          0.2440677966101695,
          0.29307173513182094
         ],
         "xaxis": "x9",
         "y": [
          "[50 - 58)",
          "[50 - 58)"
         ],
         "yaxis": "y9"
        },
        {
         "cliponaxis": false,
         "hovertemplate": [
          "%{y}: %{x} (group size: 679)<extra></extra>",
          "baseline: %{x} (group size: 7291)<extra></extra>"
         ],
         "line": {
          "color": "orangered",
          "width": 8
         },
         "marker": {
          "color": [
           "white",
           "#222222"
          ],
          "line": {
           "color": [
            "orangered",
            "orangered"
           ],
           "width": [
            2,
            2
           ]
          },
          "size": 6,
          "symbol": 0
         },
         "mode": "lines+text+markers",
         "opacity": 1,
         "showlegend": false,
         "type": "scatter",
         "x": [
          0.18666666666666665,
          0.29307173513182094
         ],
         "xaxis": "x9",
         "y": [
          "[26 - 30)",
          "[26 - 30)"
         ],
         "yaxis": "y9"
        }
       ],
       "layout": {
        "annotations": [
         {
          "font": {
           "size": 12
          },
          "showarrow": false,
          "text": "education= Masters",
          "x": 0,
          "xanchor": "left",
          "xref": "paper",
          "y": 1,
          "yanchor": "bottom",
          "yref": "paper"
         },
         {
          "font": {
           "size": 12
          },
          "showarrow": false,
          "text": "education=Others",
          "x": 0,
          "xanchor": "left",
          "xref": "paper",
          "y": 0.8860082304526748,
          "yanchor": "bottom",
          "yref": "paper"
         },
         {
          "font": {
           "size": 12
          },
          "showarrow": false,
          "text": "education= Bachelors",
          "x": 0,
          "xanchor": "left",
          "xref": "paper",
          "y": 0.7720164609053499,
          "yanchor": "bottom",
          "yref": "paper"
         },
         {
          "font": {
           "size": 12
          },
          "showarrow": false,
          "text": "education= 11th",
          "x": 0,
          "xanchor": "left",
          "xref": "paper",
          "y": 0.6580246913580248,
          "yanchor": "bottom",
          "yref": "paper"
         },
         {
          "font": {
           "size": 12
          },
          "showarrow": false,
          "text": "education= Assoc-acdm",
          "x": 0,
          "xanchor": "left",
          "xref": "paper",
          "y": 0.5440329218106996,
          "yanchor": "bottom",
          "yref": "paper"
         },
         {
          "font": {
           "size": 12
          },
          "showarrow": false,
          "text": "education= Assoc-voc",
          "x": 0,
          "xanchor": "left",
          "xref": "paper",
          "y": 0.4300411522633745,
          "yanchor": "bottom",
          "yref": "paper"
         },
         {
          "font": {
           "size": 12
          },
          "showarrow": false,
          "text": "education= HS-grad",
          "x": 0,
          "xanchor": "left",
          "xref": "paper",
          "y": 0.31604938271604943,
          "yanchor": "bottom",
          "yref": "paper"
         },
         {
          "font": {
           "size": 12
          },
          "showarrow": false,
          "text": "education= 10th",
          "x": 0,
          "xanchor": "left",
          "xref": "paper",
          "y": 0.20205761316872428,
          "yanchor": "bottom",
          "yref": "paper"
         },
         {
          "font": {
           "size": 12
          },
          "showarrow": false,
          "text": "education= Some-college",
          "x": 0,
          "xanchor": "left",
          "xref": "paper",
          "y": 0.08806584362139919,
          "yanchor": "bottom",
          "yref": "paper"
         }
        ],
        "height": 2400,
        "template": {
         "data": {
          "bar": [
           {
            "error_x": {
             "color": "#2a3f5f"
            },
            "error_y": {
             "color": "#2a3f5f"
            },
            "marker": {
             "line": {
              "color": "#E5ECF6",
              "width": 0.5
             },
             "pattern": {
              "fillmode": "overlay",
              "size": 10,
              "solidity": 0.2
             }
            },
            "type": "bar"
           }
          ],
          "barpolar": [
           {
            "marker": {
             "line": {
              "color": "#E5ECF6",
              "width": 0.5
             },
             "pattern": {
              "fillmode": "overlay",
              "size": 10,
              "solidity": 0.2
             }
            },
            "type": "barpolar"
           }
          ],
          "carpet": [
           {
            "aaxis": {
             "endlinecolor": "#2a3f5f",
             "gridcolor": "white",
             "linecolor": "white",
             "minorgridcolor": "white",
             "startlinecolor": "#2a3f5f"
            },
            "baxis": {
             "endlinecolor": "#2a3f5f",
             "gridcolor": "white",
             "linecolor": "white",
             "minorgridcolor": "white",
             "startlinecolor": "#2a3f5f"
            },
            "type": "carpet"
           }
          ],
          "choropleth": [
           {
            "colorbar": {
             "outlinewidth": 0,
             "ticks": ""
            },
            "type": "choropleth"
           }
          ],
          "contour": [
           {
            "colorbar": {
             "outlinewidth": 0,
             "ticks": ""
            },
            "colorscale": [
             [
              0,
              "#0d0887"
             ],
             [
              0.1111111111111111,
              "#46039f"
             ],
             [
              0.2222222222222222,
              "#7201a8"
             ],
             [
              0.3333333333333333,
              "#9c179e"
             ],
             [
              0.4444444444444444,
              "#bd3786"
             ],
             [
              0.5555555555555556,
              "#d8576b"
             ],
             [
              0.6666666666666666,
              "#ed7953"
             ],
             [
              0.7777777777777778,
              "#fb9f3a"
             ],
             [
              0.8888888888888888,
              "#fdca26"
             ],
             [
              1,
              "#f0f921"
             ]
            ],
            "type": "contour"
           }
          ],
          "contourcarpet": [
           {
            "colorbar": {
             "outlinewidth": 0,
             "ticks": ""
            },
            "type": "contourcarpet"
           }
          ],
          "heatmap": [
           {
            "colorbar": {
             "outlinewidth": 0,
             "ticks": ""
            },
            "colorscale": [
             [
              0,
              "#0d0887"
             ],
             [
              0.1111111111111111,
              "#46039f"
             ],
             [
              0.2222222222222222,
              "#7201a8"
             ],
             [
              0.3333333333333333,
              "#9c179e"
             ],
             [
              0.4444444444444444,
              "#bd3786"
             ],
             [
              0.5555555555555556,
              "#d8576b"
             ],
             [
              0.6666666666666666,
              "#ed7953"
             ],
             [
              0.7777777777777778,
              "#fb9f3a"
             ],
             [
              0.8888888888888888,
              "#fdca26"
             ],
             [
              1,
              "#f0f921"
             ]
            ],
            "type": "heatmap"
           }
          ],
          "heatmapgl": [
           {
            "colorbar": {
             "outlinewidth": 0,
             "ticks": ""
            },
            "colorscale": [
             [
              0,
              "#0d0887"
             ],
             [
              0.1111111111111111,
              "#46039f"
             ],
             [
              0.2222222222222222,
              "#7201a8"
             ],
             [
              0.3333333333333333,
              "#9c179e"
             ],
             [
              0.4444444444444444,
              "#bd3786"
             ],
             [
              0.5555555555555556,
              "#d8576b"
             ],
             [
              0.6666666666666666,
              "#ed7953"
             ],
             [
              0.7777777777777778,
              "#fb9f3a"
             ],
             [
              0.8888888888888888,
              "#fdca26"
             ],
             [
              1,
              "#f0f921"
             ]
            ],
            "type": "heatmapgl"
           }
          ],
          "histogram": [
           {
            "marker": {
             "pattern": {
              "fillmode": "overlay",
              "size": 10,
              "solidity": 0.2
             }
            },
            "type": "histogram"
           }
          ],
          "histogram2d": [
           {
            "colorbar": {
             "outlinewidth": 0,
             "ticks": ""
            },
            "colorscale": [
             [
              0,
              "#0d0887"
             ],
             [
              0.1111111111111111,
              "#46039f"
             ],
             [
              0.2222222222222222,
              "#7201a8"
             ],
             [
              0.3333333333333333,
              "#9c179e"
             ],
             [
              0.4444444444444444,
              "#bd3786"
             ],
             [
              0.5555555555555556,
              "#d8576b"
             ],
             [
              0.6666666666666666,
              "#ed7953"
             ],
             [
              0.7777777777777778,
              "#fb9f3a"
             ],
             [
              0.8888888888888888,
              "#fdca26"
             ],
             [
              1,
              "#f0f921"
             ]
            ],
            "type": "histogram2d"
           }
          ],
          "histogram2dcontour": [
           {
            "colorbar": {
             "outlinewidth": 0,
             "ticks": ""
            },
            "colorscale": [
             [
              0,
              "#0d0887"
             ],
             [
              0.1111111111111111,
              "#46039f"
             ],
             [
              0.2222222222222222,
              "#7201a8"
             ],
             [
              0.3333333333333333,
              "#9c179e"
             ],
             [
              0.4444444444444444,
              "#bd3786"
             ],
             [
              0.5555555555555556,
              "#d8576b"
             ],
             [
              0.6666666666666666,
              "#ed7953"
             ],
             [
              0.7777777777777778,
              "#fb9f3a"
             ],
             [
              0.8888888888888888,
              "#fdca26"
             ],
             [
              1,
              "#f0f921"
             ]
            ],
            "type": "histogram2dcontour"
           }
          ],
          "mesh3d": [
           {
            "colorbar": {
             "outlinewidth": 0,
             "ticks": ""
            },
            "type": "mesh3d"
           }
          ],
          "parcoords": [
           {
            "line": {
             "colorbar": {
              "outlinewidth": 0,
              "ticks": ""
             }
            },
            "type": "parcoords"
           }
          ],
          "pie": [
           {
            "automargin": true,
            "type": "pie"
           }
          ],
          "scatter": [
           {
            "fillpattern": {
             "fillmode": "overlay",
             "size": 10,
             "solidity": 0.2
            },
            "type": "scatter"
           }
          ],
          "scatter3d": [
           {
            "line": {
             "colorbar": {
              "outlinewidth": 0,
              "ticks": ""
             }
            },
            "marker": {
             "colorbar": {
              "outlinewidth": 0,
              "ticks": ""
             }
            },
            "type": "scatter3d"
           }
          ],
          "scattercarpet": [
           {
            "marker": {
             "colorbar": {
              "outlinewidth": 0,
              "ticks": ""
             }
            },
            "type": "scattercarpet"
           }
          ],
          "scattergeo": [
           {
            "marker": {
             "colorbar": {
              "outlinewidth": 0,
              "ticks": ""
             }
            },
            "type": "scattergeo"
           }
          ],
          "scattergl": [
           {
            "marker": {
             "colorbar": {
              "outlinewidth": 0,
              "ticks": ""
             }
            },
            "type": "scattergl"
           }
          ],
          "scattermapbox": [
           {
            "marker": {
             "colorbar": {
              "outlinewidth": 0,
              "ticks": ""
             }
            },
            "type": "scattermapbox"
           }
          ],
          "scatterpolar": [
           {
            "marker": {
             "colorbar": {
              "outlinewidth": 0,
              "ticks": ""
             }
            },
            "type": "scatterpolar"
           }
          ],
          "scatterpolargl": [
           {
            "marker": {
             "colorbar": {
              "outlinewidth": 0,
              "ticks": ""
             }
            },
            "type": "scatterpolargl"
           }
          ],
          "scatterternary": [
           {
            "marker": {
             "colorbar": {
              "outlinewidth": 0,
              "ticks": ""
             }
            },
            "type": "scatterternary"
           }
          ],
          "surface": [
           {
            "colorbar": {
             "outlinewidth": 0,
             "ticks": ""
            },
            "colorscale": [
             [
              0,
              "#0d0887"
             ],
             [
              0.1111111111111111,
              "#46039f"
             ],
             [
              0.2222222222222222,
              "#7201a8"
             ],
             [
              0.3333333333333333,
              "#9c179e"
             ],
             [
              0.4444444444444444,
              "#bd3786"
             ],
             [
              0.5555555555555556,
              "#d8576b"
             ],
             [
              0.6666666666666666,
              "#ed7953"
             ],
             [
              0.7777777777777778,
              "#fb9f3a"
             ],
             [
              0.8888888888888888,
              "#fdca26"
             ],
             [
              1,
              "#f0f921"
             ]
            ],
            "type": "surface"
           }
          ],
          "table": [
           {
            "cells": {
             "fill": {
              "color": "#EBF0F8"
             },
             "line": {
              "color": "white"
             }
            },
            "header": {
             "fill": {
              "color": "#C8D4E3"
             },
             "line": {
              "color": "white"
             }
            },
            "type": "table"
           }
          ]
         },
         "layout": {
          "annotationdefaults": {
           "arrowcolor": "#2a3f5f",
           "arrowhead": 0,
           "arrowwidth": 1
          },
          "autotypenumbers": "strict",
          "coloraxis": {
           "colorbar": {
            "outlinewidth": 0,
            "ticks": ""
           }
          },
          "colorscale": {
           "diverging": [
            [
             0,
             "#8e0152"
            ],
            [
             0.1,
             "#c51b7d"
            ],
            [
             0.2,
             "#de77ae"
            ],
            [
             0.3,
             "#f1b6da"
            ],
            [
             0.4,
             "#fde0ef"
            ],
            [
             0.5,
             "#f7f7f7"
            ],
            [
             0.6,
             "#e6f5d0"
            ],
            [
             0.7,
             "#b8e186"
            ],
            [
             0.8,
             "#7fbc41"
            ],
            [
             0.9,
             "#4d9221"
            ],
            [
             1,
             "#276419"
            ]
           ],
           "sequential": [
            [
             0,
             "#0d0887"
            ],
            [
             0.1111111111111111,
             "#46039f"
            ],
            [
             0.2222222222222222,
             "#7201a8"
            ],
            [
             0.3333333333333333,
             "#9c179e"
            ],
            [
             0.4444444444444444,
             "#bd3786"
            ],
            [
             0.5555555555555556,
             "#d8576b"
            ],
            [
             0.6666666666666666,
             "#ed7953"
            ],
            [
             0.7777777777777778,
             "#fb9f3a"
            ],
            [
             0.8888888888888888,
             "#fdca26"
            ],
            [
             1,
             "#f0f921"
            ]
           ],
           "sequentialminus": [
            [
             0,
             "#0d0887"
            ],
            [
             0.1111111111111111,
             "#46039f"
            ],
            [
             0.2222222222222222,
             "#7201a8"
            ],
            [
             0.3333333333333333,
             "#9c179e"
            ],
            [
             0.4444444444444444,
             "#bd3786"
            ],
            [
             0.5555555555555556,
             "#d8576b"
            ],
            [
             0.6666666666666666,
             "#ed7953"
            ],
            [
             0.7777777777777778,
             "#fb9f3a"
            ],
            [
             0.8888888888888888,
             "#fdca26"
            ],
            [
             1,
             "#f0f921"
            ]
           ]
          },
          "colorway": [
           "#636efa",
           "#EF553B",
           "#00cc96",
           "#ab63fa",
           "#FFA15A",
           "#19d3f3",
           "#FF6692",
           "#B6E880",
           "#FF97FF",
           "#FECB52"
          ],
          "font": {
           "color": "#2a3f5f"
          },
          "geo": {
           "bgcolor": "white",
           "lakecolor": "white",
           "landcolor": "#E5ECF6",
           "showlakes": true,
           "showland": true,
           "subunitcolor": "white"
          },
          "hoverlabel": {
           "align": "left"
          },
          "hovermode": "closest",
          "mapbox": {
           "style": "light"
          },
          "paper_bgcolor": "white",
          "plot_bgcolor": "#E5ECF6",
          "polar": {
           "angularaxis": {
            "gridcolor": "white",
            "linecolor": "white",
            "ticks": ""
           },
           "bgcolor": "#E5ECF6",
           "radialaxis": {
            "gridcolor": "white",
            "linecolor": "white",
            "ticks": ""
           }
          },
          "scene": {
           "xaxis": {
            "backgroundcolor": "#E5ECF6",
            "gridcolor": "white",
            "gridwidth": 2,
            "linecolor": "white",
            "showbackground": true,
            "ticks": "",
            "zerolinecolor": "white"
           },
           "yaxis": {
            "backgroundcolor": "#E5ECF6",
            "gridcolor": "white",
            "gridwidth": 2,
            "linecolor": "white",
            "showbackground": true,
            "ticks": "",
            "zerolinecolor": "white"
           },
           "zaxis": {
            "backgroundcolor": "#E5ECF6",
            "gridcolor": "white",
            "gridwidth": 2,
            "linecolor": "white",
            "showbackground": true,
            "ticks": "",
            "zerolinecolor": "white"
           }
          },
          "shapedefaults": {
           "line": {
            "color": "#2a3f5f"
           }
          },
          "ternary": {
           "aaxis": {
            "gridcolor": "white",
            "linecolor": "white",
            "ticks": ""
           },
           "baxis": {
            "gridcolor": "white",
            "linecolor": "white",
            "ticks": ""
           },
           "bgcolor": "#E5ECF6",
           "caxis": {
            "gridcolor": "white",
            "linecolor": "white",
            "ticks": ""
           }
          },
          "title": {
           "x": 0.05
          },
          "xaxis": {
           "automargin": true,
           "gridcolor": "white",
           "linecolor": "white",
           "ticks": "",
           "title": {
            "standoff": 15
           },
           "zerolinecolor": "white",
           "zerolinewidth": 2
          },
          "yaxis": {
           "automargin": true,
           "gridcolor": "white",
           "linecolor": "white",
           "ticks": "",
           "title": {
            "standoff": 15
           },
           "zerolinecolor": "white",
           "zerolinewidth": 2
          }
         }
        },
        "title": {
         "text": "Largest performance differences within education categories<br><sup>(Showing 10/10 age levels per plot and 9/9 education categories)</sup>"
        },
        "xaxis": {
         "anchor": "y",
         "domain": [
          0,
          1
         ],
         "matches": "x9",
         "showticklabels": false
        },
        "xaxis2": {
         "anchor": "y2",
         "domain": [
          0,
          1
         ],
         "matches": "x9",
         "showticklabels": false
        },
        "xaxis3": {
         "anchor": "y3",
         "domain": [
          0,
          1
         ],
         "matches": "x9",
         "showticklabels": false
        },
        "xaxis4": {
         "anchor": "y4",
         "domain": [
          0,
          1
         ],
         "matches": "x9",
         "showticklabels": false
        },
        "xaxis5": {
         "anchor": "y5",
         "domain": [
          0,
          1
         ],
         "matches": "x9",
         "showticklabels": false
        },
        "xaxis6": {
         "anchor": "y6",
         "domain": [
          0,
          1
         ],
         "matches": "x9",
         "showticklabels": false
        },
        "xaxis7": {
         "anchor": "y7",
         "domain": [
          0,
          1
         ],
         "matches": "x9",
         "showticklabels": false
        },
        "xaxis8": {
         "anchor": "y8",
         "domain": [
          0,
          1
         ],
         "matches": "x9",
         "showticklabels": false
        },
        "xaxis9": {
         "anchor": "y9",
         "domain": [
          0,
          1
         ],
         "title": {
          "text": "f1 score"
         }
        },
        "yaxis": {
         "anchor": "x",
         "domain": [
          0.9119341563786009,
          1
         ],
         "tickmode": "linear",
         "title": {
          "text": "age"
         }
        },
        "yaxis2": {
         "anchor": "x2",
         "domain": [
          0.7979423868312757,
          0.8860082304526748
         ],
         "tickmode": "linear",
         "title": {
          "text": "age"
         }
        },
        "yaxis3": {
         "anchor": "x3",
         "domain": [
          0.6839506172839507,
          0.7720164609053499
         ],
         "tickmode": "linear",
         "title": {
          "text": "age"
         }
        },
        "yaxis4": {
         "anchor": "x4",
         "domain": [
          0.5699588477366255,
          0.6580246913580248
         ],
         "tickmode": "linear",
         "title": {
          "text": "age"
         }
        },
        "yaxis5": {
         "anchor": "x5",
         "domain": [
          0.45596707818930043,
          0.5440329218106996
         ],
         "tickmode": "linear",
         "title": {
          "text": "age"
         }
        },
        "yaxis6": {
         "anchor": "x6",
         "domain": [
          0.34197530864197534,
          0.4300411522633745
         ],
         "tickmode": "linear",
         "title": {
          "text": "age"
         }
        },
        "yaxis7": {
         "anchor": "x7",
         "domain": [
          0.22798353909465022,
          0.31604938271604943
         ],
         "tickmode": "linear",
         "title": {
          "text": "age"
         }
        },
        "yaxis8": {
         "anchor": "x8",
         "domain": [
          0.11399176954732511,
          0.20205761316872428
         ],
         "tickmode": "linear",
         "title": {
          "text": "age"
         }
        },
        "yaxis9": {
         "anchor": "x9",
         "domain": [
          0,
          0.08806584362139919
         ],
         "tickmode": "linear",
         "title": {
          "text": "age"
         }
        }
       }
      }
     },
     "metadata": {},
     "output_type": "display_data"
    }
   ],
   "source": [
    "check = PerformanceDisparityReport(protected_feature=\"age\", control_feature=\"education\", scorer=\"f1\", max_subgroups_per_category_to_display=10, max_categories_to_display=10)\n",
    "res = check.run(dataset, model=model)\n",
    "res.display[0].show(rendered=\"svg\")"
   ]
  },
  {
   "cell_type": "code",
   "execution_count": 11,
   "metadata": {},
   "outputs": [
    {
     "ename": "DeepchecksValueError",
     "evalue": "Scorer returned 1 scores, but model contains 2 classes. Can't proceed",
     "output_type": "error",
     "traceback": [
      "\u001b[0;31m---------------------------------------------------------------------------\u001b[0m",
      "\u001b[0;31mDeepchecksValueError\u001b[0m                      Traceback (most recent call last)",
      "\u001b[0;32m/tmp/ipykernel_740476/1631903535.py\u001b[0m in \u001b[0;36m<cell line: 2>\u001b[0;34m()\u001b[0m\n\u001b[1;32m      1\u001b[0m \u001b[0mcheck\u001b[0m \u001b[0;34m=\u001b[0m \u001b[0mPerformanceDisparityReport\u001b[0m\u001b[0;34m(\u001b[0m\u001b[0mprotected_feature\u001b[0m\u001b[0;34m=\u001b[0m\u001b[0;34m\"age\"\u001b[0m\u001b[0;34m,\u001b[0m \u001b[0mcontrol_feature\u001b[0m\u001b[0;34m=\u001b[0m\u001b[0;34m\"education\"\u001b[0m\u001b[0;34m,\u001b[0m \u001b[0mscorer\u001b[0m\u001b[0;34m=\u001b[0m\u001b[0;34m\"f1_per_class\"\u001b[0m\u001b[0;34m,\u001b[0m \u001b[0mmax_subgroups_per_category_to_display\u001b[0m\u001b[0;34m=\u001b[0m\u001b[0;36m10\u001b[0m\u001b[0;34m,\u001b[0m \u001b[0mmax_categories_to_display\u001b[0m\u001b[0;34m=\u001b[0m\u001b[0;36m10\u001b[0m\u001b[0;34m,\u001b[0m \u001b[0mmax_segments\u001b[0m\u001b[0;34m=\u001b[0m\u001b[0;36m50\u001b[0m\u001b[0;34m,\u001b[0m \u001b[0mmin_subgroup_size\u001b[0m\u001b[0;34m=\u001b[0m\u001b[0;36m5\u001b[0m\u001b[0;34m)\u001b[0m\u001b[0;34m\u001b[0m\u001b[0;34m\u001b[0m\u001b[0m\n\u001b[0;32m----> 2\u001b[0;31m \u001b[0mres\u001b[0m \u001b[0;34m=\u001b[0m \u001b[0mcheck\u001b[0m\u001b[0;34m.\u001b[0m\u001b[0mrun\u001b[0m\u001b[0;34m(\u001b[0m\u001b[0mdataset\u001b[0m\u001b[0;34m,\u001b[0m \u001b[0mmodel\u001b[0m\u001b[0;34m=\u001b[0m\u001b[0mmodel\u001b[0m\u001b[0;34m)\u001b[0m\u001b[0;34m\u001b[0m\u001b[0;34m\u001b[0m\u001b[0m\n\u001b[0m\u001b[1;32m      3\u001b[0m \u001b[0mres\u001b[0m\u001b[0;34m.\u001b[0m\u001b[0mdisplay\u001b[0m\u001b[0;34m[\u001b[0m\u001b[0;36m0\u001b[0m\u001b[0;34m]\u001b[0m\u001b[0;34m.\u001b[0m\u001b[0mshow\u001b[0m\u001b[0;34m(\u001b[0m\u001b[0mrendered\u001b[0m\u001b[0;34m=\u001b[0m\u001b[0;34m\"svg\"\u001b[0m\u001b[0;34m)\u001b[0m\u001b[0;34m\u001b[0m\u001b[0;34m\u001b[0m\u001b[0m\n",
      "\u001b[0;32m~/Desktop/Research/deepchecks/deepchecks/tabular/base_checks.py\u001b[0m in \u001b[0;36mrun\u001b[0;34m(self, dataset, model, feature_importance, feature_importance_force_permutation, feature_importance_timeout, with_display, y_pred, y_proba, y_pred_train, y_pred_test, y_proba_train, y_proba_test, model_classes)\u001b[0m\n\u001b[1;32m    100\u001b[0m             \u001b[0mmodel_classes\u001b[0m\u001b[0;34m=\u001b[0m\u001b[0mmodel_classes\u001b[0m\u001b[0;34m\u001b[0m\u001b[0;34m\u001b[0m\u001b[0m\n\u001b[1;32m    101\u001b[0m         )\n\u001b[0;32m--> 102\u001b[0;31m         \u001b[0mresult\u001b[0m \u001b[0;34m=\u001b[0m \u001b[0mself\u001b[0m\u001b[0;34m.\u001b[0m\u001b[0mrun_logic\u001b[0m\u001b[0;34m(\u001b[0m\u001b[0mcontext\u001b[0m\u001b[0;34m,\u001b[0m \u001b[0mdataset_kind\u001b[0m\u001b[0;34m=\u001b[0m\u001b[0mDatasetKind\u001b[0m\u001b[0;34m.\u001b[0m\u001b[0mTRAIN\u001b[0m\u001b[0;34m)\u001b[0m\u001b[0;34m\u001b[0m\u001b[0;34m\u001b[0m\u001b[0m\n\u001b[0m\u001b[1;32m    103\u001b[0m         \u001b[0mcontext\u001b[0m\u001b[0;34m.\u001b[0m\u001b[0mfinalize_check_result\u001b[0m\u001b[0;34m(\u001b[0m\u001b[0mresult\u001b[0m\u001b[0;34m,\u001b[0m \u001b[0mself\u001b[0m\u001b[0;34m,\u001b[0m \u001b[0mDatasetKind\u001b[0m\u001b[0;34m.\u001b[0m\u001b[0mTRAIN\u001b[0m\u001b[0;34m)\u001b[0m\u001b[0;34m\u001b[0m\u001b[0;34m\u001b[0m\u001b[0m\n\u001b[1;32m    104\u001b[0m         \u001b[0;32mreturn\u001b[0m \u001b[0mresult\u001b[0m\u001b[0;34m\u001b[0m\u001b[0;34m\u001b[0m\u001b[0m\n",
      "\u001b[0;32m~/Desktop/Research/deepchecks/deepchecks/tabular/checks/model_evaluation/performance_disparity_report.py\u001b[0m in \u001b[0;36mrun_logic\u001b[0;34m(self, context, dataset_kind)\u001b[0m\n\u001b[1;32m    118\u001b[0m         \u001b[0mpartitions\u001b[0m \u001b[0;34m=\u001b[0m \u001b[0mself\u001b[0m\u001b[0;34m.\u001b[0m\u001b[0mmake_partitions\u001b[0m\u001b[0;34m(\u001b[0m\u001b[0mdataset\u001b[0m\u001b[0;34m)\u001b[0m\u001b[0;34m\u001b[0m\u001b[0;34m\u001b[0m\u001b[0m\n\u001b[1;32m    119\u001b[0m \u001b[0;34m\u001b[0m\u001b[0m\n\u001b[0;32m--> 120\u001b[0;31m         \u001b[0mscores_df\u001b[0m \u001b[0;34m=\u001b[0m \u001b[0mself\u001b[0m\u001b[0;34m.\u001b[0m\u001b[0mmake_scores_df\u001b[0m\u001b[0;34m(\u001b[0m\u001b[0mmodel\u001b[0m\u001b[0;34m,\u001b[0m \u001b[0mdataset\u001b[0m\u001b[0;34m,\u001b[0m \u001b[0mscorer\u001b[0m\u001b[0;34m,\u001b[0m \u001b[0mpartitions\u001b[0m\u001b[0;34m,\u001b[0m \u001b[0mcontext\u001b[0m\u001b[0;34m.\u001b[0m\u001b[0mmodel_classes\u001b[0m\u001b[0;34m)\u001b[0m\u001b[0;34m\u001b[0m\u001b[0;34m\u001b[0m\u001b[0m\n\u001b[0m\u001b[1;32m    121\u001b[0m \u001b[0;34m\u001b[0m\u001b[0m\n\u001b[1;32m    122\u001b[0m         \u001b[0;32mif\u001b[0m \u001b[0mcontext\u001b[0m\u001b[0;34m.\u001b[0m\u001b[0mwith_display\u001b[0m\u001b[0;34m:\u001b[0m\u001b[0;34m\u001b[0m\u001b[0;34m\u001b[0m\u001b[0m\n",
      "\u001b[0;32m~/Desktop/Research/deepchecks/deepchecks/tabular/checks/model_evaluation/performance_disparity_report.py\u001b[0m in \u001b[0;36mmake_scores_df\u001b[0;34m(self, model, dataset, scorer, partitions, model_classes)\u001b[0m\n\u001b[1;32m    179\u001b[0m             \u001b[0;32mreturn\u001b[0m \u001b[0mscore\u001b[0m\u001b[0;34m(\u001b[0m\u001b[0mx\u001b[0m\u001b[0;34m[\u001b[0m\u001b[0;34m\"_dataset\"\u001b[0m\u001b[0;34m]\u001b[0m\u001b[0;34m,\u001b[0m \u001b[0mmodel\u001b[0m\u001b[0;34m,\u001b[0m \u001b[0mx\u001b[0m\u001b[0;34m[\u001b[0m\u001b[0;34m\"_scorer\"\u001b[0m\u001b[0;34m]\u001b[0m\u001b[0;34m)\u001b[0m\u001b[0;34m\u001b[0m\u001b[0;34m\u001b[0m\u001b[0m\n\u001b[1;32m    180\u001b[0m \u001b[0;34m\u001b[0m\u001b[0m\n\u001b[0;32m--> 181\u001b[0;31m         \u001b[0mscores_df\u001b[0m\u001b[0;34m[\u001b[0m\u001b[0;34m\"_score\"\u001b[0m\u001b[0;34m]\u001b[0m \u001b[0;34m=\u001b[0m \u001b[0mscores_df\u001b[0m\u001b[0;34m.\u001b[0m\u001b[0mapply\u001b[0m\u001b[0;34m(\u001b[0m\u001b[0mapply_scorer\u001b[0m\u001b[0;34m,\u001b[0m \u001b[0maxis\u001b[0m\u001b[0;34m=\u001b[0m\u001b[0;36m1\u001b[0m\u001b[0;34m)\u001b[0m\u001b[0;34m\u001b[0m\u001b[0;34m\u001b[0m\u001b[0m\n\u001b[0m\u001b[1;32m    182\u001b[0m         \u001b[0;32mif\u001b[0m \u001b[0mself\u001b[0m\u001b[0;34m.\u001b[0m\u001b[0mcontrol_feature\u001b[0m \u001b[0;32mis\u001b[0m \u001b[0;32mnot\u001b[0m \u001b[0;32mNone\u001b[0m\u001b[0;34m:\u001b[0m\u001b[0;34m\u001b[0m\u001b[0;34m\u001b[0m\u001b[0m\n\u001b[1;32m    183\u001b[0m             control_scores = {\n",
      "\u001b[0;32m~/anaconda3/envs/deepchecks/lib/python3.9/site-packages/pandas/core/frame.py\u001b[0m in \u001b[0;36mapply\u001b[0;34m(self, func, axis, raw, result_type, args, **kwargs)\u001b[0m\n\u001b[1;32m   9563\u001b[0m             \u001b[0mkwargs\u001b[0m\u001b[0;34m=\u001b[0m\u001b[0mkwargs\u001b[0m\u001b[0;34m,\u001b[0m\u001b[0;34m\u001b[0m\u001b[0;34m\u001b[0m\u001b[0m\n\u001b[1;32m   9564\u001b[0m         )\n\u001b[0;32m-> 9565\u001b[0;31m         \u001b[0;32mreturn\u001b[0m \u001b[0mop\u001b[0m\u001b[0;34m.\u001b[0m\u001b[0mapply\u001b[0m\u001b[0;34m(\u001b[0m\u001b[0;34m)\u001b[0m\u001b[0;34m.\u001b[0m\u001b[0m__finalize__\u001b[0m\u001b[0;34m(\u001b[0m\u001b[0mself\u001b[0m\u001b[0;34m,\u001b[0m \u001b[0mmethod\u001b[0m\u001b[0;34m=\u001b[0m\u001b[0;34m\"apply\"\u001b[0m\u001b[0;34m)\u001b[0m\u001b[0;34m\u001b[0m\u001b[0;34m\u001b[0m\u001b[0m\n\u001b[0m\u001b[1;32m   9566\u001b[0m \u001b[0;34m\u001b[0m\u001b[0m\n\u001b[1;32m   9567\u001b[0m     def applymap(\n",
      "\u001b[0;32m~/anaconda3/envs/deepchecks/lib/python3.9/site-packages/pandas/core/apply.py\u001b[0m in \u001b[0;36mapply\u001b[0;34m(self)\u001b[0m\n\u001b[1;32m    744\u001b[0m             \u001b[0;32mreturn\u001b[0m \u001b[0mself\u001b[0m\u001b[0;34m.\u001b[0m\u001b[0mapply_raw\u001b[0m\u001b[0;34m(\u001b[0m\u001b[0;34m)\u001b[0m\u001b[0;34m\u001b[0m\u001b[0;34m\u001b[0m\u001b[0m\n\u001b[1;32m    745\u001b[0m \u001b[0;34m\u001b[0m\u001b[0m\n\u001b[0;32m--> 746\u001b[0;31m         \u001b[0;32mreturn\u001b[0m \u001b[0mself\u001b[0m\u001b[0;34m.\u001b[0m\u001b[0mapply_standard\u001b[0m\u001b[0;34m(\u001b[0m\u001b[0;34m)\u001b[0m\u001b[0;34m\u001b[0m\u001b[0;34m\u001b[0m\u001b[0m\n\u001b[0m\u001b[1;32m    747\u001b[0m \u001b[0;34m\u001b[0m\u001b[0m\n\u001b[1;32m    748\u001b[0m     \u001b[0;32mdef\u001b[0m \u001b[0magg\u001b[0m\u001b[0;34m(\u001b[0m\u001b[0mself\u001b[0m\u001b[0;34m)\u001b[0m\u001b[0;34m:\u001b[0m\u001b[0;34m\u001b[0m\u001b[0;34m\u001b[0m\u001b[0m\n",
      "\u001b[0;32m~/anaconda3/envs/deepchecks/lib/python3.9/site-packages/pandas/core/apply.py\u001b[0m in \u001b[0;36mapply_standard\u001b[0;34m(self)\u001b[0m\n\u001b[1;32m    871\u001b[0m \u001b[0;34m\u001b[0m\u001b[0m\n\u001b[1;32m    872\u001b[0m     \u001b[0;32mdef\u001b[0m \u001b[0mapply_standard\u001b[0m\u001b[0;34m(\u001b[0m\u001b[0mself\u001b[0m\u001b[0;34m)\u001b[0m\u001b[0;34m:\u001b[0m\u001b[0;34m\u001b[0m\u001b[0;34m\u001b[0m\u001b[0m\n\u001b[0;32m--> 873\u001b[0;31m         \u001b[0mresults\u001b[0m\u001b[0;34m,\u001b[0m \u001b[0mres_index\u001b[0m \u001b[0;34m=\u001b[0m \u001b[0mself\u001b[0m\u001b[0;34m.\u001b[0m\u001b[0mapply_series_generator\u001b[0m\u001b[0;34m(\u001b[0m\u001b[0;34m)\u001b[0m\u001b[0;34m\u001b[0m\u001b[0;34m\u001b[0m\u001b[0m\n\u001b[0m\u001b[1;32m    874\u001b[0m \u001b[0;34m\u001b[0m\u001b[0m\n\u001b[1;32m    875\u001b[0m         \u001b[0;31m# wrap results\u001b[0m\u001b[0;34m\u001b[0m\u001b[0;34m\u001b[0m\u001b[0m\n",
      "\u001b[0;32m~/anaconda3/envs/deepchecks/lib/python3.9/site-packages/pandas/core/apply.py\u001b[0m in \u001b[0;36mapply_series_generator\u001b[0;34m(self)\u001b[0m\n\u001b[1;32m    887\u001b[0m             \u001b[0;32mfor\u001b[0m \u001b[0mi\u001b[0m\u001b[0;34m,\u001b[0m \u001b[0mv\u001b[0m \u001b[0;32min\u001b[0m \u001b[0menumerate\u001b[0m\u001b[0;34m(\u001b[0m\u001b[0mseries_gen\u001b[0m\u001b[0;34m)\u001b[0m\u001b[0;34m:\u001b[0m\u001b[0;34m\u001b[0m\u001b[0;34m\u001b[0m\u001b[0m\n\u001b[1;32m    888\u001b[0m                 \u001b[0;31m# ignore SettingWithCopy here in case the user mutates\u001b[0m\u001b[0;34m\u001b[0m\u001b[0;34m\u001b[0m\u001b[0m\n\u001b[0;32m--> 889\u001b[0;31m                 \u001b[0mresults\u001b[0m\u001b[0;34m[\u001b[0m\u001b[0mi\u001b[0m\u001b[0;34m]\u001b[0m \u001b[0;34m=\u001b[0m \u001b[0mself\u001b[0m\u001b[0;34m.\u001b[0m\u001b[0mf\u001b[0m\u001b[0;34m(\u001b[0m\u001b[0mv\u001b[0m\u001b[0;34m)\u001b[0m\u001b[0;34m\u001b[0m\u001b[0;34m\u001b[0m\u001b[0m\n\u001b[0m\u001b[1;32m    890\u001b[0m                 \u001b[0;32mif\u001b[0m \u001b[0misinstance\u001b[0m\u001b[0;34m(\u001b[0m\u001b[0mresults\u001b[0m\u001b[0;34m[\u001b[0m\u001b[0mi\u001b[0m\u001b[0;34m]\u001b[0m\u001b[0;34m,\u001b[0m \u001b[0mABCSeries\u001b[0m\u001b[0;34m)\u001b[0m\u001b[0;34m:\u001b[0m\u001b[0;34m\u001b[0m\u001b[0;34m\u001b[0m\u001b[0m\n\u001b[1;32m    891\u001b[0m                     \u001b[0;31m# If we have a view on v, we need to make a copy because\u001b[0m\u001b[0;34m\u001b[0m\u001b[0;34m\u001b[0m\u001b[0m\n",
      "\u001b[0;32m~/Desktop/Research/deepchecks/deepchecks/tabular/checks/model_evaluation/performance_disparity_report.py\u001b[0m in \u001b[0;36mapply_scorer\u001b[0;34m(x)\u001b[0m\n\u001b[1;32m    177\u001b[0m             \u001b[0;32mreturn\u001b[0m \u001b[0mscorer\u001b[0m\u001b[0;34m(\u001b[0m\u001b[0mmodel\u001b[0m\u001b[0;34m,\u001b[0m \u001b[0mdataset\u001b[0m\u001b[0;34m.\u001b[0m\u001b[0mcopy\u001b[0m\u001b[0;34m(\u001b[0m\u001b[0mdata\u001b[0m\u001b[0;34m)\u001b[0m\u001b[0;34m)\u001b[0m\u001b[0;34m\u001b[0m\u001b[0;34m\u001b[0m\u001b[0m\n\u001b[1;32m    178\u001b[0m         \u001b[0;32mdef\u001b[0m \u001b[0mapply_scorer\u001b[0m\u001b[0;34m(\u001b[0m\u001b[0mx\u001b[0m\u001b[0;34m)\u001b[0m\u001b[0;34m:\u001b[0m\u001b[0;34m\u001b[0m\u001b[0;34m\u001b[0m\u001b[0m\n\u001b[0;32m--> 179\u001b[0;31m             \u001b[0;32mreturn\u001b[0m \u001b[0mscore\u001b[0m\u001b[0;34m(\u001b[0m\u001b[0mx\u001b[0m\u001b[0;34m[\u001b[0m\u001b[0;34m\"_dataset\"\u001b[0m\u001b[0;34m]\u001b[0m\u001b[0;34m,\u001b[0m \u001b[0mmodel\u001b[0m\u001b[0;34m,\u001b[0m \u001b[0mx\u001b[0m\u001b[0;34m[\u001b[0m\u001b[0;34m\"_scorer\"\u001b[0m\u001b[0;34m]\u001b[0m\u001b[0;34m)\u001b[0m\u001b[0;34m\u001b[0m\u001b[0;34m\u001b[0m\u001b[0m\n\u001b[0m\u001b[1;32m    180\u001b[0m \u001b[0;34m\u001b[0m\u001b[0m\n\u001b[1;32m    181\u001b[0m         \u001b[0mscores_df\u001b[0m\u001b[0;34m[\u001b[0m\u001b[0;34m\"_score\"\u001b[0m\u001b[0;34m]\u001b[0m \u001b[0;34m=\u001b[0m \u001b[0mscores_df\u001b[0m\u001b[0;34m.\u001b[0m\u001b[0mapply\u001b[0m\u001b[0;34m(\u001b[0m\u001b[0mapply_scorer\u001b[0m\u001b[0;34m,\u001b[0m \u001b[0maxis\u001b[0m\u001b[0;34m=\u001b[0m\u001b[0;36m1\u001b[0m\u001b[0;34m)\u001b[0m\u001b[0;34m\u001b[0m\u001b[0;34m\u001b[0m\u001b[0m\n",
      "\u001b[0;32m~/Desktop/Research/deepchecks/deepchecks/tabular/checks/model_evaluation/performance_disparity_report.py\u001b[0m in \u001b[0;36mscore\u001b[0;34m(data, model, scorer)\u001b[0m\n\u001b[1;32m    175\u001b[0m                 \u001b[0;32melse\u001b[0m\u001b[0;34m:\u001b[0m\u001b[0;34m\u001b[0m\u001b[0;34m\u001b[0m\u001b[0m\n\u001b[1;32m    176\u001b[0m                     \u001b[0;32mreturn\u001b[0m \u001b[0mnp\u001b[0m\u001b[0;34m.\u001b[0m\u001b[0mnan\u001b[0m\u001b[0;34m\u001b[0m\u001b[0;34m\u001b[0m\u001b[0m\n\u001b[0;32m--> 177\u001b[0;31m             \u001b[0;32mreturn\u001b[0m \u001b[0mscorer\u001b[0m\u001b[0;34m(\u001b[0m\u001b[0mmodel\u001b[0m\u001b[0;34m,\u001b[0m \u001b[0mdataset\u001b[0m\u001b[0;34m.\u001b[0m\u001b[0mcopy\u001b[0m\u001b[0;34m(\u001b[0m\u001b[0mdata\u001b[0m\u001b[0;34m)\u001b[0m\u001b[0;34m)\u001b[0m\u001b[0;34m\u001b[0m\u001b[0;34m\u001b[0m\u001b[0m\n\u001b[0m\u001b[1;32m    178\u001b[0m         \u001b[0;32mdef\u001b[0m \u001b[0mapply_scorer\u001b[0m\u001b[0;34m(\u001b[0m\u001b[0mx\u001b[0m\u001b[0;34m)\u001b[0m\u001b[0;34m:\u001b[0m\u001b[0;34m\u001b[0m\u001b[0;34m\u001b[0m\u001b[0m\n\u001b[1;32m    179\u001b[0m             \u001b[0;32mreturn\u001b[0m \u001b[0mscore\u001b[0m\u001b[0;34m(\u001b[0m\u001b[0mx\u001b[0m\u001b[0;34m[\u001b[0m\u001b[0;34m\"_dataset\"\u001b[0m\u001b[0;34m]\u001b[0m\u001b[0;34m,\u001b[0m \u001b[0mmodel\u001b[0m\u001b[0;34m,\u001b[0m \u001b[0mx\u001b[0m\u001b[0;34m[\u001b[0m\u001b[0;34m\"_scorer\"\u001b[0m\u001b[0;34m]\u001b[0m\u001b[0;34m)\u001b[0m\u001b[0;34m\u001b[0m\u001b[0;34m\u001b[0m\u001b[0m\n",
      "\u001b[0;32m~/Desktop/Research/deepchecks/deepchecks/tabular/metric_utils/scorers.py\u001b[0m in \u001b[0;36m__call__\u001b[0;34m(self, model, dataset)\u001b[0m\n\u001b[1;32m    316\u001b[0m         \u001b[0;34m\"\"\"Run score with labels null filtering.\"\"\"\u001b[0m\u001b[0;34m\u001b[0m\u001b[0;34m\u001b[0m\u001b[0m\n\u001b[1;32m    317\u001b[0m         \u001b[0mdataset_without_nulls\u001b[0m \u001b[0;34m=\u001b[0m \u001b[0mself\u001b[0m\u001b[0;34m.\u001b[0m\u001b[0mfilter_nulls\u001b[0m\u001b[0;34m(\u001b[0m\u001b[0mdataset\u001b[0m\u001b[0;34m)\u001b[0m\u001b[0;34m\u001b[0m\u001b[0;34m\u001b[0m\u001b[0m\n\u001b[0;32m--> 318\u001b[0;31m         \u001b[0;32mreturn\u001b[0m \u001b[0mself\u001b[0m\u001b[0;34m.\u001b[0m\u001b[0m_run_score\u001b[0m\u001b[0;34m(\u001b[0m\u001b[0mmodel\u001b[0m\u001b[0;34m,\u001b[0m \u001b[0mdataset_without_nulls\u001b[0m\u001b[0;34m.\u001b[0m\u001b[0mfeatures_columns\u001b[0m\u001b[0;34m,\u001b[0m \u001b[0mdataset_without_nulls\u001b[0m\u001b[0;34m.\u001b[0m\u001b[0mlabel_col\u001b[0m\u001b[0;34m)\u001b[0m\u001b[0;34m\u001b[0m\u001b[0;34m\u001b[0m\u001b[0m\n\u001b[0m\u001b[1;32m    319\u001b[0m \u001b[0;34m\u001b[0m\u001b[0m\n\u001b[1;32m    320\u001b[0m     \u001b[0;32mdef\u001b[0m \u001b[0mscore_perfect\u001b[0m\u001b[0;34m(\u001b[0m\u001b[0mself\u001b[0m\u001b[0;34m,\u001b[0m \u001b[0mdataset\u001b[0m\u001b[0;34m:\u001b[0m \u001b[0;34m'tabular.Dataset'\u001b[0m\u001b[0;34m)\u001b[0m\u001b[0;34m:\u001b[0m\u001b[0;34m\u001b[0m\u001b[0;34m\u001b[0m\u001b[0m\n",
      "\u001b[0;32m~/Desktop/Research/deepchecks/deepchecks/tabular/metric_utils/scorers.py\u001b[0m in \u001b[0;36m_run_score\u001b[0;34m(self, model, data, label_col)\u001b[0m\n\u001b[1;32m    303\u001b[0m             \u001b[0;32mif\u001b[0m \u001b[0misinstance\u001b[0m\u001b[0;34m(\u001b[0m\u001b[0mscores\u001b[0m\u001b[0;34m,\u001b[0m \u001b[0mt\u001b[0m\u001b[0;34m.\u001b[0m\u001b[0mSized\u001b[0m\u001b[0;34m)\u001b[0m\u001b[0;34m:\u001b[0m\u001b[0;34m\u001b[0m\u001b[0;34m\u001b[0m\u001b[0m\n\u001b[1;32m    304\u001b[0m                 \u001b[0;32mif\u001b[0m \u001b[0mlen\u001b[0m\u001b[0;34m(\u001b[0m\u001b[0mscores\u001b[0m\u001b[0;34m)\u001b[0m \u001b[0;34m!=\u001b[0m \u001b[0mlen\u001b[0m\u001b[0;34m(\u001b[0m\u001b[0mself\u001b[0m\u001b[0;34m.\u001b[0m\u001b[0mmodel_classes\u001b[0m\u001b[0;34m)\u001b[0m\u001b[0;34m:\u001b[0m\u001b[0;34m\u001b[0m\u001b[0;34m\u001b[0m\u001b[0m\n\u001b[0;32m--> 305\u001b[0;31m                     raise errors.DeepchecksValueError(\n\u001b[0m\u001b[1;32m    306\u001b[0m                         \u001b[0;34mf'Scorer returned {len(scores)} scores, but model contains '\u001b[0m\u001b[0;34m\u001b[0m\u001b[0;34m\u001b[0m\u001b[0m\n\u001b[1;32m    307\u001b[0m                         f'{len(self.model_classes)} classes. Can\\'t proceed')\n",
      "\u001b[0;31mDeepchecksValueError\u001b[0m: Scorer returned 1 scores, but model contains 2 classes. Can't proceed"
     ]
    }
   ],
   "source": [
    "check = PerformanceDisparityReport(protected_feature=\"age\", control_feature=\"education\", scorer=\"f1_per_class\", max_subgroups_per_category_to_display=10, max_categories_to_display=10, max_segments=50, min_subgroup_size=5)\n",
    "res = check.run(dataset, model=model)\n",
    "res.display[0].show(rendered=\"svg\")"
   ]
  }
 ],
 "metadata": {
  "kernelspec": {
   "display_name": "Python 3.10.0 ('deepchecks')",
   "language": "python",
   "name": "python3"
  },
  "language_info": {
   "codemirror_mode": {
    "name": "ipython",
    "version": 3
   },
   "file_extension": ".py",
   "mimetype": "text/x-python",
   "name": "python",
   "nbconvert_exporter": "python",
   "pygments_lexer": "ipython3",
   "version": "3.9.15"
  },
  "orig_nbformat": 4,
  "vscode": {
   "interpreter": {
    "hash": "daedff040d2fbce6480319e9fe34f0086a1d245d7f8877797ba25999b9a20843"
   }
  }
 },
 "nbformat": 4,
 "nbformat_minor": 2
}
